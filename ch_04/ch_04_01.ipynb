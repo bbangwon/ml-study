{
 "cells": [
  {
   "cell_type": "markdown",
   "id": "69824d01",
   "metadata": {},
   "source": [
    "# 판다스의 개념\n",
    "\n",
    "- 판다스\n",
    "  - 파이썬의 데이터 분석 라이브러리\n",
    "  - 데이터 테이블(data table)을 다루는 도구\n",
    "  - 기본적으로 넘파이를 사용\n",
    "- 넘파이\n",
    "  - 파이썬에서 배열을 다루는 최적의 라이브러리\n",
    "- 판다스는 넘파이를 효율적으로 사용하기 위해 인덱싱, 연산, 전처리 등 다양한 함수 제공\n"
   ]
  },
  {
   "cell_type": "markdown",
   "id": "6d683ba8",
   "metadata": {},
   "source": [
    "- 데이터 프레임(DataFrame)\n",
    "  - 데이터 테이블 전체 객체\n",
    "- 시리즈\n",
    "  - 각 열 데이터를 다루는 객체\n"
   ]
  },
  {
   "cell_type": "markdown",
   "id": "5952b9d1",
   "metadata": {},
   "source": [
    "# 시리즈 객체\n",
    "\n",
    "- 시리즈 객체\n",
    "  - 피쳐 벡터(feature vector)와 같은 개념\n",
    "  - 일반적으로 하나의 피쳐 데이터를 포함하는 형태\n",
    "  - 생성된 데이터프레임(DataFrame)안에 포함될 수 있음\n",
    "  - list, dict, ndarray 등 다양한 데이터 타입이 시리즈 객체 형태로 변환되기도 함\n",
    "- 시리즈 객체를 생성하면 세 가지 요소(property) 생성\n",
    "  - 데이터(data)\n",
    "    - 기존 다른 객체처럼 값을 저장하는 요소\n",
    "  - 인덱스(index)\n",
    "    - 항상 0부터 시작하고, 숫자로만 할당하는 값\n",
    "    - 시리즈 객체에서는 숫자, 문자열, 0 외의 값으로 시작하는 숫자, 순서가 일정하지 않은 숫자를 입력할 수도 있음\n",
    "    - 시리즈 객체에서는 인덱스 값의 중복을 허용\n",
    "  - 데이터 타입(data type)\n",
    "    - 넘파이의 데이터 타입과 일치\n",
    "    - 판다스는 넘파이의 래퍼(wrapper) 라이브러리\n",
    "    - 넘파이의 모든 기능 지원하고 데이터 타입도 그대로 적용\n"
   ]
  },
  {
   "cell_type": "markdown",
   "id": "7f8d3115",
   "metadata": {},
   "source": [
    "- 시리즈(Series) 객체는 넘파이 배열(ndarray)의 하위 클래스\n",
    "- 넘파이가 지원하는 어떠한 데이터 타입도 지원\n",
    "- 인덱스와 반드시 정렬되어 있을 필요는 없음\n",
    "- 인덱스 값은 중복을 허용\n"
   ]
  },
  {
   "cell_type": "code",
   "execution_count": 1,
   "id": "1d5ffeb7",
   "metadata": {},
   "outputs": [],
   "source": [
    "import pandas as pd\n",
    "import numpy as np\n",
    "from pandas import Series, DataFrame"
   ]
  },
  {
   "cell_type": "code",
   "execution_count": 2,
   "id": "9cca77d9",
   "metadata": {},
   "outputs": [
    {
     "data": {
      "text/plain": [
       "a    1\n",
       "b    2\n",
       "c    3\n",
       "d    4\n",
       "e    5\n",
       "dtype: int64"
      ]
     },
     "execution_count": 2,
     "metadata": {},
     "output_type": "execute_result"
    }
   ],
   "source": [
    "list_data = [1, 2, 3, 4, 5]\n",
    "list_name = [\"a\", \"b\", \"c\", \"d\", \"e\"]\n",
    "example_obj = Series(data=list_data, index=list_name)\n",
    "example_obj"
   ]
  },
  {
   "cell_type": "code",
   "execution_count": 3,
   "id": "5b7ccf36",
   "metadata": {},
   "outputs": [
    {
     "data": {
      "text/plain": [
       "Index(['a', 'b', 'c', 'd', 'e'], dtype='object')"
      ]
     },
     "execution_count": 3,
     "metadata": {},
     "output_type": "execute_result"
    }
   ],
   "source": [
    "example_obj.index"
   ]
  },
  {
   "cell_type": "markdown",
   "id": "c6461e29",
   "metadata": {},
   "source": [
    "- 데이터 값을 보기 위해서는 values를 사용\n",
    "- 실제 생성된 values는 넘파이 배열(numpy.ndarray) 타입\n",
    "- dtype은 데이터 타입을 나타냄\n",
    "- 넘파이의 데이터 타입과 동일\n"
   ]
  },
  {
   "cell_type": "code",
   "execution_count": 4,
   "id": "e4daf0bc",
   "metadata": {},
   "outputs": [
    {
     "data": {
      "text/plain": [
       "array([1, 2, 3, 4, 5])"
      ]
     },
     "execution_count": 4,
     "metadata": {},
     "output_type": "execute_result"
    }
   ],
   "source": [
    "example_obj.values"
   ]
  },
  {
   "cell_type": "code",
   "execution_count": 5,
   "id": "f93fdf4b",
   "metadata": {},
   "outputs": [
    {
     "data": {
      "text/plain": [
       "numpy.ndarray"
      ]
     },
     "execution_count": 5,
     "metadata": {},
     "output_type": "execute_result"
    }
   ],
   "source": [
    "type(example_obj.values)"
   ]
  },
  {
   "cell_type": "code",
   "execution_count": 6,
   "id": "a313db07",
   "metadata": {},
   "outputs": [
    {
     "data": {
      "text/plain": [
       "dtype('int64')"
      ]
     },
     "execution_count": 6,
     "metadata": {},
     "output_type": "execute_result"
    }
   ],
   "source": [
    "example_obj.dtype"
   ]
  },
  {
   "cell_type": "markdown",
   "id": "f2b96405",
   "metadata": {},
   "source": [
    "- 시리즈 객체는 객체의 이름을 변경할 수 있음\n",
    "  - 열의 이름을 지정해주는 방식\n",
    "  - 인덱스 이름도 추가로 지정 가능\n"
   ]
  },
  {
   "cell_type": "code",
   "execution_count": 7,
   "id": "6c9efc55",
   "metadata": {},
   "outputs": [
    {
     "data": {
      "text/plain": [
       "id\n",
       "a    1\n",
       "b    2\n",
       "c    3\n",
       "d    4\n",
       "e    5\n",
       "Name: number, dtype: int64"
      ]
     },
     "execution_count": 7,
     "metadata": {},
     "output_type": "execute_result"
    }
   ],
   "source": [
    "example_obj.name = \"number\"\n",
    "example_obj.index.name = \"id\"\n",
    "example_obj"
   ]
  },
  {
   "cell_type": "markdown",
   "id": "8871f57a",
   "metadata": {},
   "source": [
    "- 시리즈 객체 생성하기\n",
    "  - 데이터프레임 객체를 먼저 생성하고 각 열에서 시리즈 객체를 뽑는 것이 일반적인 방법\n",
    "  - 다양한 시퀀스형 데이터 타입으로 저장 가능\n"
   ]
  },
  {
   "cell_type": "code",
   "execution_count": 8,
   "id": "a805e2fa",
   "metadata": {},
   "outputs": [
    {
     "data": {
      "text/plain": [
       "a    1.0\n",
       "b    2.0\n",
       "c    3.0\n",
       "d    4.0\n",
       "e    5.0\n",
       "Name: example_data, dtype: float32"
      ]
     },
     "execution_count": 8,
     "metadata": {},
     "output_type": "execute_result"
    }
   ],
   "source": [
    "dict_data = {\"a\": 1, \"b\": 2, \"c\": 3, \"d\": 4, \"e\": 5}\n",
    "example_obj = Series(dict_data, dtype=np.float32, name=\"example_data\")\n",
    "example_obj"
   ]
  },
  {
   "cell_type": "markdown",
   "id": "ca611c12",
   "metadata": {},
   "source": [
    "- 판다스의 모든 객체는 인덱스 값을 기준으로 생성\n",
    "  - 기존 데이터에 인덱스 값을 추가하면 NaN 값이 출력됨\n"
   ]
  },
  {
   "cell_type": "code",
   "execution_count": 11,
   "id": "0d5bfc52",
   "metadata": {},
   "outputs": [
    {
     "data": {
      "text/plain": [
       "a    1.0\n",
       "b    2.0\n",
       "c    3.0\n",
       "d    4.0\n",
       "e    5.0\n",
       "f    NaN\n",
       "g    NaN\n",
       "h    NaN\n",
       "dtype: float64"
      ]
     },
     "execution_count": 11,
     "metadata": {},
     "output_type": "execute_result"
    }
   ],
   "source": [
    "dict_data_1 = {\"a\": 1, \"b\": 2, \"c\": 3, \"d\": 4, \"e\": 5}\n",
    "indexes = [\"a\", \"b\", \"c\", \"d\", \"e\", \"f\", \"g\", \"h\"]\n",
    "series_obj_1 = Series(dict_data_1, index=indexes)\n",
    "series_obj_1"
   ]
  }
 ],
 "metadata": {
  "kernelspec": {
   "display_name": "ml-study",
   "language": "python",
   "name": "python3"
  },
  "language_info": {
   "codemirror_mode": {
    "name": "ipython",
    "version": 3
   },
   "file_extension": ".py",
   "mimetype": "text/x-python",
   "name": "python",
   "nbconvert_exporter": "python",
   "pygments_lexer": "ipython3",
   "version": "3.12.10"
  }
 },
 "nbformat": 4,
 "nbformat_minor": 5
}
