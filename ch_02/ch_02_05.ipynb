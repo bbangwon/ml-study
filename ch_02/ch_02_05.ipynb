{
 "cells": [
  {
   "cell_type": "markdown",
   "id": "5a49415d",
   "metadata": {},
   "source": [
    "# 인덱싱\n",
    "\n",
    "- 리스트에 있는 값의 상대적인 주소로 값에 접근\n",
    "- 넘파이 배열의 인덱스에는 콤마를 지원 [행][열] 또는 [행, 열]\n",
    "- 3차원 텐서 이상은 shape에서 출력되는 랭크 순서대로 인덱싱에 접근\n"
   ]
  },
  {
   "cell_type": "code",
   "execution_count": 1,
   "id": "6bf78590",
   "metadata": {},
   "outputs": [
    {
     "data": {
      "text/plain": [
       "array([[1, 2, 3],\n",
       "       [4, 5, 6]])"
      ]
     },
     "execution_count": 1,
     "metadata": {},
     "output_type": "execute_result"
    }
   ],
   "source": [
    "import numpy as np\n",
    "\n",
    "X = np.array([[1, 2, 3], [4, 5, 6]], int)\n",
    "X"
   ]
  },
  {
   "cell_type": "code",
   "execution_count": 2,
   "id": "d9c54ca6",
   "metadata": {},
   "outputs": [
    {
     "data": {
      "text/plain": [
       "np.int64(1)"
      ]
     },
     "execution_count": 2,
     "metadata": {},
     "output_type": "execute_result"
    }
   ],
   "source": [
    "X[0][0]"
   ]
  },
  {
   "cell_type": "code",
   "execution_count": 3,
   "id": "75296580",
   "metadata": {},
   "outputs": [
    {
     "data": {
      "text/plain": [
       "np.int64(3)"
      ]
     },
     "execution_count": 3,
     "metadata": {},
     "output_type": "execute_result"
    }
   ],
   "source": [
    "X[0, 2]"
   ]
  },
  {
   "cell_type": "code",
   "execution_count": 4,
   "id": "c1500fe6",
   "metadata": {},
   "outputs": [
    {
     "data": {
      "text/plain": [
       "array([[  1, 100,   3],\n",
       "       [  4,   5,   6]])"
      ]
     },
     "execution_count": 4,
     "metadata": {},
     "output_type": "execute_result"
    }
   ],
   "source": [
    "X[0, 1] = 100\n",
    "X"
   ]
  },
  {
   "cell_type": "markdown",
   "id": "5fec9470",
   "metadata": {},
   "source": [
    "# 슬라이싱\n",
    "\n",
    "- 인덱스를 사용하여 리스트 일부를 잘라내여 반환\n",
    "- 넘파이 배열은 행과 열을 나눠 슬라이싱 할수 있음\n"
   ]
  },
  {
   "cell_type": "code",
   "execution_count": 5,
   "id": "6c34c0f9",
   "metadata": {},
   "outputs": [
    {
     "data": {
      "text/plain": [
       "array([[ 3,  4,  5],\n",
       "       [ 8,  9, 10]])"
      ]
     },
     "execution_count": 5,
     "metadata": {},
     "output_type": "execute_result"
    }
   ],
   "source": [
    "X = np.array([[1, 2, 3, 4, 5], [6, 7, 8, 9, 10]], int)\n",
    "X[:, 2:]  # 전체 행의 2열 이상"
   ]
  },
  {
   "cell_type": "code",
   "execution_count": 6,
   "id": "c5d22403",
   "metadata": {},
   "outputs": [
    {
     "data": {
      "text/plain": [
       "array([7, 8])"
      ]
     },
     "execution_count": 6,
     "metadata": {},
     "output_type": "execute_result"
    }
   ],
   "source": [
    "X[1, 1:3]  # 1행의 1열~2열"
   ]
  },
  {
   "cell_type": "markdown",
   "id": "0d0d37ec",
   "metadata": {},
   "source": [
    "## 증가값\n",
    "\n",
    "- 리스트에서 데이터의 요소를 호출할 때 데이터를 건너뛰면서 반환\n",
    "- [시작 인덱스:마지막 인덱스: 증가값] 형태\n",
    "- 각 랭크에 있는 요소별로 모두 적용할 수 있음\n"
   ]
  },
  {
   "cell_type": "code",
   "execution_count": 7,
   "id": "aee8342c",
   "metadata": {},
   "outputs": [
    {
     "data": {
      "text/plain": [
       "array([[ 0,  1,  2,  3,  4],\n",
       "       [ 5,  6,  7,  8,  9],\n",
       "       [10, 11, 12, 13, 14]])"
      ]
     },
     "execution_count": 7,
     "metadata": {},
     "output_type": "execute_result"
    }
   ],
   "source": [
    "X = np.array(range(15), int).reshape(3, -1)\n",
    "X"
   ]
  },
  {
   "cell_type": "code",
   "execution_count": null,
   "id": "1a962b72",
   "metadata": {},
   "outputs": [
    {
     "data": {
      "text/plain": [
       "array([[ 0,  2,  4],\n",
       "       [ 5,  7,  9],\n",
       "       [10, 12, 14]])"
      ]
     },
     "execution_count": 8,
     "metadata": {},
     "output_type": "execute_result"
    }
   ],
   "source": [
    "X[:, ::2]"
   ]
  },
  {
   "cell_type": "code",
   "execution_count": 9,
   "id": "67678e0e",
   "metadata": {},
   "outputs": [
    {
     "data": {
      "text/plain": [
       "array([[ 0,  3],\n",
       "       [10, 13]])"
      ]
     },
     "execution_count": 9,
     "metadata": {},
     "output_type": "execute_result"
    }
   ],
   "source": [
    "X[::2, ::3]"
   ]
  },
  {
   "cell_type": "markdown",
   "id": "906bd9fa",
   "metadata": {},
   "source": [
    "# 배열 생성 함수\n",
    "\n",
    "- arange\n",
    "  - range 함수와 같이 차례대로 값을 생성\n",
    "  - (시작인덱스, 마지막 인덱스, 증가값) 으로 구성\n",
    "  - range 함수와 달리 증가값에 실수형이 입력되어도 값을 생성할 수 있음\n",
    "  - 소수점 값을 주기적으로 생성할 때 유용\n"
   ]
  },
  {
   "cell_type": "code",
   "execution_count": 10,
   "id": "834ae525",
   "metadata": {},
   "outputs": [
    {
     "data": {
      "text/plain": [
       "array([0, 1, 2, 3, 4, 5, 6, 7, 8, 9])"
      ]
     },
     "execution_count": 10,
     "metadata": {},
     "output_type": "execute_result"
    }
   ],
   "source": [
    "np.arange(10)"
   ]
  },
  {
   "cell_type": "code",
   "execution_count": 11,
   "id": "fb17f237",
   "metadata": {},
   "outputs": [
    {
     "data": {
      "text/plain": [
       "array([-5, -4, -3, -2, -1,  0,  1,  2,  3,  4])"
      ]
     },
     "execution_count": 11,
     "metadata": {},
     "output_type": "execute_result"
    }
   ],
   "source": [
    "np.arange(-5, 5)"
   ]
  },
  {
   "cell_type": "code",
   "execution_count": 13,
   "id": "4e30b2f6",
   "metadata": {},
   "outputs": [
    {
     "data": {
      "text/plain": [
       "array([0. , 0.5, 1. , 1.5, 2. , 2.5, 3. , 3.5, 4. , 4.5])"
      ]
     },
     "execution_count": 13,
     "metadata": {},
     "output_type": "execute_result"
    }
   ],
   "source": [
    "np.arange(0, 5, 0.5)"
   ]
  },
  {
   "cell_type": "markdown",
   "id": "7592bb73",
   "metadata": {},
   "source": [
    "## ones, zeros, empty\n",
    "\n",
    "- ones 함수\n",
    "  - 1로만 구성된 넘파일 배열을 생성\n",
    "  - 사전에 shape 값을 넣어서 원하는 크기의 넘파이 배열 생성\n",
    "- zeros 함수\n",
    "  - 0으로만 구성된 넘파이 배열을 생성\n",
    "- empty 함수\n",
    "  - 활용 가능한 메모리 공간 확보하여 반환\n",
    "  - ones, zeros는 먼저 shape의 크기만큼 메모리를 할당하고 그곳에 값을 채움\n",
    "  - 해당 메모리 공간에 값이 남았을 경우 그 값을 함께 반환\n",
    "  - empty는 메모리 초기화 않아 생성될 때마다 다른 값 반환\n",
    "- 생성 시점에서 dtype을 지정해주면 해당 데이터 타입으로 배열 생성\n"
   ]
  },
  {
   "cell_type": "code",
   "execution_count": 14,
   "id": "8d9ba7f8",
   "metadata": {},
   "outputs": [
    {
     "data": {
      "text/plain": [
       "array([[1, 1],\n",
       "       [1, 1],\n",
       "       [1, 1],\n",
       "       [1, 1],\n",
       "       [1, 1]], dtype=int8)"
      ]
     },
     "execution_count": 14,
     "metadata": {},
     "output_type": "execute_result"
    }
   ],
   "source": [
    "np.ones(shape=(5, 2), dtype=np.int8)"
   ]
  },
  {
   "cell_type": "code",
   "execution_count": 15,
   "id": "b402489c",
   "metadata": {},
   "outputs": [
    {
     "data": {
      "text/plain": [
       "array([[0., 0.],\n",
       "       [0., 0.]], dtype=float32)"
      ]
     },
     "execution_count": 15,
     "metadata": {},
     "output_type": "execute_result"
    }
   ],
   "source": [
    "np.zeros(shape=(2, 2), dtype=np.float32)"
   ]
  },
  {
   "cell_type": "code",
   "execution_count": 16,
   "id": "59180cca",
   "metadata": {},
   "outputs": [
    {
     "data": {
      "text/plain": [
       "array([[ 0.0000000e+00,  0.0000000e+00, -1.5588366e+13,  8.4498297e-43],\n",
       "       [-1.5587946e+13,  8.4498297e-43, -1.5588114e+13,  8.4498297e-43]],\n",
       "      dtype=float32)"
      ]
     },
     "execution_count": 16,
     "metadata": {},
     "output_type": "execute_result"
    }
   ],
   "source": [
    "np.empty(shape=(2, 4), dtype=np.float32)"
   ]
  },
  {
   "cell_type": "markdown",
   "id": "1a668139",
   "metadata": {},
   "source": [
    "# 통계 분석 함수\n",
    "\n",
    "- uniform 함수\n",
    "  - 균등분포 함수\n",
    "  - np.random.uniform(시작값, 끝값, 데이터개수)\n",
    "- normal 함수\n",
    "  - 정규분포 함수\n",
    "  - np.random.normal(평균값, 분산, 데이터개수)\n"
   ]
  },
  {
   "cell_type": "code",
   "execution_count": 17,
   "id": "fbb99439",
   "metadata": {},
   "outputs": [
    {
     "data": {
      "text/plain": [
       "array([4.95917516, 3.69454039, 1.42894984, 4.39881328, 3.96527081,\n",
       "       4.44511553, 4.38915159, 3.14841382, 3.20073925, 0.93819971])"
      ]
     },
     "execution_count": 17,
     "metadata": {},
     "output_type": "execute_result"
    }
   ],
   "source": [
    "np.random.uniform(0, 5, 10)"
   ]
  },
  {
   "cell_type": "code",
   "execution_count": 18,
   "id": "456a5b85",
   "metadata": {},
   "outputs": [
    {
     "data": {
      "text/plain": [
       "array([ 2.08489253, -0.73192142, -0.67577129, -0.54869733,  3.92417658,\n",
       "        1.84717712,  2.70791929, -0.69944567, -2.19982962, -1.45179085])"
      ]
     },
     "execution_count": 18,
     "metadata": {},
     "output_type": "execute_result"
    }
   ],
   "source": [
    "np.random.normal(0, 2, 10)"
   ]
  }
 ],
 "metadata": {
  "kernelspec": {
   "display_name": ".venv",
   "language": "python",
   "name": "python3"
  },
  "language_info": {
   "codemirror_mode": {
    "name": "ipython",
    "version": 3
   },
   "file_extension": ".py",
   "mimetype": "text/x-python",
   "name": "python",
   "nbconvert_exporter": "python",
   "pygments_lexer": "ipython3",
   "version": "3.12.10"
  }
 },
 "nbformat": 4,
 "nbformat_minor": 5
}
