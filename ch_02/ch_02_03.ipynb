{
 "cells": [
  {
   "cell_type": "code",
   "execution_count": 1,
   "id": "69e5a693",
   "metadata": {},
   "outputs": [
    {
     "name": "stdout",
     "output_type": "stream",
     "text": [
      "(4,)\n"
     ]
    }
   ],
   "source": [
    "import numpy as np\n",
    "\n",
    "np_array = np.array([1, 4, 5, 8], float)\n",
    "print(np_array.shape)"
   ]
  },
  {
   "cell_type": "markdown",
   "id": "b5c54993",
   "metadata": {},
   "source": [
    "# 넘파이 배열 구조\n",
    "\n",
    "- 배열의 구조(shape)\n",
    "  - 1차원 4개의 요소를 가지고 있을때\n"
   ]
  },
  {
   "cell_type": "code",
   "execution_count": 12,
   "id": "6f36421b",
   "metadata": {},
   "outputs": [
    {
     "data": {
      "text/plain": [
       "(2, 3, 4)"
      ]
     },
     "execution_count": 12,
     "metadata": {},
     "output_type": "execute_result"
    }
   ],
   "source": [
    "tensor_rank3 = [\n",
    "    [[1, 2, 5, 8], [1, 2, 5, 8], [1, 2, 5, 8]],\n",
    "    [[1, 2, 5, 8], [1, 2, 5, 8], [1, 2, 5, 8]],\n",
    "]\n",
    "\n",
    "tarray = np.array(tensor_rank3, float)\n",
    "tarray.shape"
   ]
  },
  {
   "cell_type": "markdown",
   "id": "f595a304",
   "metadata": {},
   "source": [
    "- 뒤에 있는 값일 수록 낮은 rank의 값\n"
   ]
  },
  {
   "cell_type": "code",
   "execution_count": 13,
   "id": "c086b35e",
   "metadata": {},
   "outputs": [
    {
     "name": "stdout",
     "output_type": "stream",
     "text": [
      "3\n",
      "24\n"
     ]
    }
   ],
   "source": [
    "print(tarray.ndim)\n",
    "print(tarray.size)"
   ]
  },
  {
   "cell_type": "markdown",
   "id": "d7584f9c",
   "metadata": {},
   "source": [
    "- ndim : 차원수\n",
    "- size : 넘파이 배열에 있는 모든 데이터의 수\n"
   ]
  },
  {
   "cell_type": "markdown",
   "id": "025bdf19",
   "metadata": {},
   "source": [
    "## 배열의 데이터 타입\n",
    "\n",
    "- dtype으로 넘파이 배열의 데이터 타입 지정\n",
    "  - 변수가 사용하는 메모리 크기가 정해짐\n",
    "  - itemsize 요소(property)로 넘파이 배열에서 각 요소가 차지하는 바이트 확인\n"
   ]
  },
  {
   "cell_type": "code",
   "execution_count": 14,
   "id": "2e1a9d3c",
   "metadata": {},
   "outputs": [
    {
     "data": {
      "text/plain": [
       "8"
      ]
     },
     "execution_count": 14,
     "metadata": {},
     "output_type": "execute_result"
    }
   ],
   "source": [
    "tarray.itemsize"
   ]
  },
  {
   "cell_type": "code",
   "execution_count": 18,
   "id": "6d837393",
   "metadata": {},
   "outputs": [
    {
     "data": {
      "text/plain": [
       "4"
      ]
     },
     "execution_count": 18,
     "metadata": {},
     "output_type": "execute_result"
    }
   ],
   "source": [
    "np.array([1, 2, 3], dtype=np.float32).itemsize"
   ]
  },
  {
   "cell_type": "markdown",
   "id": "ab938b27",
   "metadata": {},
   "source": [
    "- 배열의 구조 다루기\n",
    "  - reshape 함수로 배열의 구조를 변경하고 랭크를 조절\n"
   ]
  },
  {
   "cell_type": "code",
   "execution_count": 19,
   "id": "5838d0ba",
   "metadata": {},
   "outputs": [
    {
     "data": {
      "text/plain": [
       "(2, 4)"
      ]
     },
     "execution_count": 19,
     "metadata": {},
     "output_type": "execute_result"
    }
   ],
   "source": [
    "x = np.array([[1, 2, 5, 8], [1, 2, 5, 8]])\n",
    "x.shape"
   ]
  },
  {
   "cell_type": "code",
   "execution_count": 20,
   "id": "c8d6f4c8",
   "metadata": {},
   "outputs": [
    {
     "data": {
      "text/plain": [
       "array([1, 2, 5, 8, 1, 2, 5, 8])"
      ]
     },
     "execution_count": 20,
     "metadata": {},
     "output_type": "execute_result"
    }
   ],
   "source": [
    "x.reshape(-1)"
   ]
  },
  {
   "cell_type": "code",
   "execution_count": 21,
   "id": "63ff86f9",
   "metadata": {},
   "outputs": [
    {
     "data": {
      "text/plain": [
       "array([0, 1, 2, 3, 4, 5, 6, 7])"
      ]
     },
     "execution_count": 21,
     "metadata": {},
     "output_type": "execute_result"
    }
   ],
   "source": [
    "x = np.array(range(8))\n",
    "x"
   ]
  },
  {
   "cell_type": "code",
   "execution_count": 25,
   "id": "c15afc3d",
   "metadata": {},
   "outputs": [
    {
     "ename": "ValueError",
     "evalue": "cannot reshape array of size 8 into shape (2,2)",
     "output_type": "error",
     "traceback": [
      "\u001b[31m---------------------------------------------------------------------------\u001b[39m",
      "\u001b[31mValueError\u001b[39m                                Traceback (most recent call last)",
      "\u001b[36mCell\u001b[39m\u001b[36m \u001b[39m\u001b[32mIn[25]\u001b[39m\u001b[32m, line 1\u001b[39m\n\u001b[32m----> \u001b[39m\u001b[32m1\u001b[39m \u001b[43mx\u001b[49m\u001b[43m.\u001b[49m\u001b[43mreshape\u001b[49m\u001b[43m(\u001b[49m\u001b[32;43m2\u001b[39;49m\u001b[43m,\u001b[49m\u001b[43m \u001b[49m\u001b[32;43m2\u001b[39;49m\u001b[43m)\u001b[49m\n",
      "\u001b[31mValueError\u001b[39m: cannot reshape array of size 8 into shape (2,2)"
     ]
    }
   ],
   "source": [
    "x.reshape(2, 2)"
   ]
  },
  {
   "cell_type": "code",
   "execution_count": 27,
   "id": "0be172a2",
   "metadata": {},
   "outputs": [
    {
     "data": {
      "text/plain": [
       "array([[0, 1],\n",
       "       [2, 3],\n",
       "       [4, 5],\n",
       "       [6, 7]])"
      ]
     },
     "execution_count": 27,
     "metadata": {},
     "output_type": "execute_result"
    }
   ],
   "source": [
    "x = np.array(range(8)).reshape(4, 2)\n",
    "x"
   ]
  },
  {
   "cell_type": "code",
   "execution_count": 28,
   "id": "74ddcf88",
   "metadata": {},
   "outputs": [
    {
     "data": {
      "text/plain": [
       "array([[0, 1, 2, 3],\n",
       "       [4, 5, 6, 7]])"
      ]
     },
     "execution_count": 28,
     "metadata": {},
     "output_type": "execute_result"
    }
   ],
   "source": [
    "x.reshape(2, -1)"
   ]
  },
  {
   "cell_type": "code",
   "execution_count": 29,
   "id": "e49c19ac",
   "metadata": {},
   "outputs": [
    {
     "data": {
      "text/plain": [
       "array([[[0, 1],\n",
       "        [2, 3]],\n",
       "\n",
       "       [[4, 5],\n",
       "        [6, 7]]])"
      ]
     },
     "execution_count": 29,
     "metadata": {},
     "output_type": "execute_result"
    }
   ],
   "source": [
    "x.reshape(2, 2, -1)"
   ]
  },
  {
   "cell_type": "markdown",
   "id": "55ab4770",
   "metadata": {},
   "source": [
    "- -1을 사용하면 나머지 차원의 크기를 지정했을때, 전체 요소의 개수를 고려하여 마지막 차원 자동 지정\n"
   ]
  },
  {
   "cell_type": "markdown",
   "id": "3303359b",
   "metadata": {},
   "source": [
    "- flatten 함수는 데이터 그대로 1차원으로 변경\n"
   ]
  },
  {
   "cell_type": "code",
   "execution_count": null,
   "id": "024d3cbe",
   "metadata": {},
   "outputs": [
    {
     "name": "stdout",
     "output_type": "stream",
     "text": [
      "(4, 2)\n"
     ]
    },
    {
     "data": {
      "text/plain": [
       "array([[0, 1],\n",
       "       [2, 3],\n",
       "       [4, 5],\n",
       "       [6, 7]])"
      ]
     },
     "execution_count": 30,
     "metadata": {},
     "output_type": "execute_result"
    }
   ],
   "source": [
    "print(x.shape)\n",
    "x.flatten()"
   ]
  }
 ],
 "metadata": {
  "kernelspec": {
   "display_name": ".venv",
   "language": "python",
   "name": "python3"
  },
  "language_info": {
   "codemirror_mode": {
    "name": "ipython",
    "version": 3
   },
   "file_extension": ".py",
   "mimetype": "text/x-python",
   "name": "python",
   "nbconvert_exporter": "python",
   "pygments_lexer": "ipython3",
   "version": "3.12.10"
  }
 },
 "nbformat": 4,
 "nbformat_minor": 5
}
