{
 "cells": [
  {
   "cell_type": "markdown",
   "id": "3fa114ca",
   "metadata": {},
   "source": [
    "# NumPy\n",
    "\n",
    "- 리스트 형태의 문제점\n",
    "  - 다차원 리스트 처리\n",
    "  - 데이터의 크기\n",
    "  - 처리 시간\n",
    "- 넘파이\n",
    "  - 속도가 빠르고 메모리 사용이 효율적\n",
    "  - 반복문을 사용하지 않음(병렬로 처리)\n",
    "  - 다양한 선형대수 관련 함수 제공\n",
    "  - C, C++, 포트란등 다른 언어와 통합 사용 가능\n"
   ]
  },
  {
   "cell_type": "markdown",
   "id": "e617ddf4",
   "metadata": {},
   "source": [
    "## 넘파일 배열과 텐서\n",
    "\n",
    "- 넘파이 배열(ndarray, N-dimensional Array)\n",
    "  - 넘파이에서 텐서 데이터를 다루는 객체\n",
    "- 텐서\n",
    "  - 선형대수의 데이터 배열\n",
    "  - 랭크(Rank)에 따라 이름이 다름\n",
    "  - 랭크(Rank)별 구분들\n",
    "\n",
    "| 랭크(rank) | 이름                       | 예                                        |\n",
    "| ---------- | -------------------------- | ----------------------------------------- |\n",
    "| 0          | 스칼라(Scalar)             | 7                                         |\n",
    "| 1          | 벡터(Vector)               | [10, 10]                                  |\n",
    "| 2          | 행렬(Matrix)               | [[10,10], [15,15]]                        |\n",
    "| 3          | 3차원 텐서(3-order-tensor) | [[[1,5,9], [2,6,10]],[[3,7,11],[4,8,12]]] |\n",
    "| n          | n차원 텐서(n-order-tensor) |                                           |\n"
   ]
  },
  {
   "cell_type": "code",
   "execution_count": 1,
   "id": "9f8d7711",
   "metadata": {},
   "outputs": [],
   "source": [
    "# 배열 생성\n",
    "import numpy as np\n",
    "\n",
    "test_array = np.array([1, 4, 5, 8], float)"
   ]
  },
  {
   "cell_type": "markdown",
   "id": "3a7ee2b4",
   "metadata": {},
   "source": [
    "- 배열 정보\n",
    "- 넘파이 배열로 표현하려는 데이터 타입\n"
   ]
  },
  {
   "cell_type": "markdown",
   "id": "8cf3b267",
   "metadata": {},
   "source": [
    "### 배열의 메모리 구조\n",
    "\n",
    "- 파이썬 리스트와 넘파이 배열의 차이점\n",
    "  - 텐서 구조에 따라 배열 생성\n",
    "    - 배열의 모든 구성 요소에 값이 존재해야 함\n",
    "  - 동적 타이핑을 지원하지 않음\n",
    "    - 하나의 데이터 타입만 사용\n",
    "  - 파이썬 리스트와 넘파이 배열의 차이점\n",
    "    - 데이터를 메모리에 연속적으로 나열\n",
    "      - 검색이나 연산속도가 빠름\n"
   ]
  },
  {
   "cell_type": "code",
   "execution_count": 3,
   "id": "a652f8fc",
   "metadata": {},
   "outputs": [
    {
     "name": "stdout",
     "output_type": "stream",
     "text": [
      "[1. 4. 5. 8.]\n",
      "<class 'numpy.float64'>\n"
     ]
    }
   ],
   "source": [
    "test_array = np.array([1, 4, 5, \"8\"], dtype=float)\n",
    "print(test_array)\n",
    "print(type(test_array[3]))"
   ]
  },
  {
   "cell_type": "markdown",
   "id": "6307e621",
   "metadata": {},
   "source": [
    "- dtype : 넘파일 배열의 데이터 타입을 반환\n",
    "- shape : 객체의 차원에 대한 구성 정보를 반환\n"
   ]
  },
  {
   "cell_type": "code",
   "execution_count": 4,
   "id": "217d0f4c",
   "metadata": {},
   "outputs": [
    {
     "name": "stdout",
     "output_type": "stream",
     "text": [
      "float64\n",
      "(4,)\n"
     ]
    }
   ],
   "source": [
    "print(test_array.dtype)\n",
    "print(test_array.shape)"
   ]
  }
 ],
 "metadata": {
  "kernelspec": {
   "display_name": ".venv",
   "language": "python",
   "name": "python3"
  },
  "language_info": {
   "codemirror_mode": {
    "name": "ipython",
    "version": 3
   },
   "file_extension": ".py",
   "mimetype": "text/x-python",
   "name": "python",
   "nbconvert_exporter": "python",
   "pygments_lexer": "ipython3",
   "version": "3.12.10"
  }
 },
 "nbformat": 4,
 "nbformat_minor": 5
}
