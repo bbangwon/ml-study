{
 "cells": [
  {
   "cell_type": "markdown",
   "id": "7a4253ce",
   "metadata": {},
   "source": [
    "# 비교연산\n",
    "\n",
    "- 연산 결과는 항상 불린형을 가진 배열로 추출\n",
    "- 브로드캐스팅 비교 연산\n",
    "  - 하나의 스칼라 값과 벡터 간의 비교 연산은 벡터 내 전체 요소에 적용\n"
   ]
  },
  {
   "cell_type": "code",
   "execution_count": 1,
   "id": "8e315c31",
   "metadata": {},
   "outputs": [],
   "source": [
    "import numpy as np"
   ]
  },
  {
   "cell_type": "code",
   "execution_count": 2,
   "id": "a95cb7b7",
   "metadata": {},
   "outputs": [
    {
     "data": {
      "text/plain": [
       "array([ True, False, False,  True,  True,  True])"
      ]
     },
     "execution_count": 2,
     "metadata": {},
     "output_type": "execute_result"
    }
   ],
   "source": [
    "x = np.array([4, 3, 2, 6, 8, 5])\n",
    "x > 3"
   ]
  },
  {
   "cell_type": "markdown",
   "id": "da5e8e4e",
   "metadata": {},
   "source": [
    "- 요소별 비교 연산\n",
    "  - 두 개의 배열 간 배열의 구조(shape)가 동일한 경우\n",
    "  - 같은 위치에 있는 요소들끼리 비교 연산\n",
    "  - [1 > 2, 3> 1, 0 > 7]과 같이 연산이 실시된 후 이를 반환\n"
   ]
  },
  {
   "cell_type": "code",
   "execution_count": 3,
   "id": "4f31dfcf",
   "metadata": {},
   "outputs": [
    {
     "data": {
      "text/plain": [
       "array([False,  True, False])"
      ]
     },
     "execution_count": 3,
     "metadata": {},
     "output_type": "execute_result"
    }
   ],
   "source": [
    "x = np.array([1, 3, 0])\n",
    "y = np.array([2, 1, 7])\n",
    "x > y"
   ]
  },
  {
   "cell_type": "markdown",
   "id": "7aae095f",
   "metadata": {},
   "source": [
    "- all 함수\n",
    "  - 배열 내부의 모든 값이 참일 때는 True, 하나라도 참이 아닐 경우에는 False를 반환\n",
    "  - and 조건을 전체 요소에 적용\n",
    "- any 함수\n",
    "  - 배열 내부의 값 중 하나라도 참일 때는 True, 모두 거짓을 경우 False를 반환\n",
    "  - or 조건을 전체 요소에 적용\n"
   ]
  },
  {
   "cell_type": "code",
   "execution_count": 4,
   "id": "b3b7f185",
   "metadata": {},
   "outputs": [
    {
     "data": {
      "text/plain": [
       "array([ True,  True,  True, False, False])"
      ]
     },
     "execution_count": 4,
     "metadata": {},
     "output_type": "execute_result"
    }
   ],
   "source": [
    "x = np.array([4, 6, 7, 3, 2])\n",
    "(x > 3)"
   ]
  },
  {
   "cell_type": "code",
   "execution_count": 5,
   "id": "3093d21f",
   "metadata": {},
   "outputs": [
    {
     "data": {
      "text/plain": [
       "np.False_"
      ]
     },
     "execution_count": 5,
     "metadata": {},
     "output_type": "execute_result"
    }
   ],
   "source": [
    "(x > 3).all()"
   ]
  },
  {
   "cell_type": "code",
   "execution_count": 6,
   "id": "d15710f8",
   "metadata": {},
   "outputs": [
    {
     "data": {
      "text/plain": [
       "np.True_"
      ]
     },
     "execution_count": 6,
     "metadata": {},
     "output_type": "execute_result"
    }
   ],
   "source": [
    "(x > 3).any()"
   ]
  },
  {
   "cell_type": "code",
   "execution_count": 7,
   "id": "2a7e3427",
   "metadata": {},
   "outputs": [
    {
     "data": {
      "text/plain": [
       "np.True_"
      ]
     },
     "execution_count": 7,
     "metadata": {},
     "output_type": "execute_result"
    }
   ],
   "source": [
    "(x < 10).any()"
   ]
  },
  {
   "cell_type": "code",
   "execution_count": 8,
   "id": "c8d3e2c6",
   "metadata": {},
   "outputs": [
    {
     "data": {
      "text/plain": [
       "np.True_"
      ]
     },
     "execution_count": 8,
     "metadata": {},
     "output_type": "execute_result"
    }
   ],
   "source": [
    "(x < 10).all()"
   ]
  },
  {
   "cell_type": "code",
   "execution_count": 9,
   "id": "6809fef3",
   "metadata": {},
   "outputs": [
    {
     "data": {
      "text/plain": [
       "np.False_"
      ]
     },
     "execution_count": 9,
     "metadata": {},
     "output_type": "execute_result"
    }
   ],
   "source": [
    "(x > 10).any()"
   ]
  },
  {
   "cell_type": "markdown",
   "id": "817e454d",
   "metadata": {},
   "source": [
    "- where 함수\n",
    "  - 배열이 불린형으로 이루어졌을 때 참인 값들의 인덱스를 반환\n",
    "  - x > 5를 만족하는 값은 6과 7\n",
    "  - 6과 7의 인덱스 값인 [1,2]를 반환\n",
    "  - True/False 대신 참/거짓인 경우의 값을 지정할 수 있음\n",
    "  - 참일 경우에 10을 거짓일 경우에 20을 반환\n"
   ]
  },
  {
   "cell_type": "code",
   "execution_count": 10,
   "id": "d93ee547",
   "metadata": {},
   "outputs": [
    {
     "data": {
      "text/plain": [
       "array([False,  True,  True, False, False])"
      ]
     },
     "execution_count": 10,
     "metadata": {},
     "output_type": "execute_result"
    }
   ],
   "source": [
    "x = np.array([4, 6, 7, 3, 2])\n",
    "x > 5"
   ]
  },
  {
   "cell_type": "code",
   "execution_count": 11,
   "id": "89db1763",
   "metadata": {},
   "outputs": [
    {
     "data": {
      "text/plain": [
       "(array([1, 2]),)"
      ]
     },
     "execution_count": 11,
     "metadata": {},
     "output_type": "execute_result"
    }
   ],
   "source": [
    "np.where(x > 5)"
   ]
  },
  {
   "cell_type": "code",
   "execution_count": 12,
   "id": "e43ca8a8",
   "metadata": {},
   "outputs": [
    {
     "data": {
      "text/plain": [
       "array([20, 10, 10, 20, 20])"
      ]
     },
     "execution_count": 12,
     "metadata": {},
     "output_type": "execute_result"
    }
   ],
   "source": [
    "np.where(x > 5, 10, 20)"
   ]
  },
  {
   "cell_type": "markdown",
   "id": "0b718c14",
   "metadata": {},
   "source": [
    "- 정렬된 값의 인덱스를 반환해주는 함수\n",
    "  - argsort : 배열 내 값들을 작은 순서대로 인덱스를 반환\n",
    "  - argmax : 배열 내 값들 중 가장 큰 값의 인덱스를 반환\n",
    "  - argmin : 배열 내 값들 중 가장 작은 값의 인덱스를 반환\n"
   ]
  },
  {
   "cell_type": "code",
   "execution_count": 13,
   "id": "c85d3cd1",
   "metadata": {},
   "outputs": [
    {
     "data": {
      "text/plain": [
       "array([4, 3, 0, 1, 2])"
      ]
     },
     "execution_count": 13,
     "metadata": {},
     "output_type": "execute_result"
    }
   ],
   "source": [
    "x = np.array([4, 6, 7, 3, 2])\n",
    "np.argsort(x)"
   ]
  },
  {
   "cell_type": "code",
   "execution_count": 14,
   "id": "b191d3ea",
   "metadata": {},
   "outputs": [
    {
     "data": {
      "text/plain": [
       "np.int64(2)"
      ]
     },
     "execution_count": 14,
     "metadata": {},
     "output_type": "execute_result"
    }
   ],
   "source": [
    "np.argmax(x)"
   ]
  },
  {
   "cell_type": "code",
   "execution_count": 15,
   "id": "ab503d3d",
   "metadata": {},
   "outputs": [
    {
     "data": {
      "text/plain": [
       "np.int64(4)"
      ]
     },
     "execution_count": 15,
     "metadata": {},
     "output_type": "execute_result"
    }
   ],
   "source": [
    "np.argmin(x)"
   ]
  },
  {
   "cell_type": "markdown",
   "id": "e8dbfe7d",
   "metadata": {},
   "source": [
    "# 인덱스를 활용한 데이터 추출\n",
    "\n",
    "- 불린 인덱스\n",
    "  - 배열에 있는 값들을 반환할 특정 조건을 불린형의 배열에 넣어서 추출\n",
    "  - 인덱스에 들어가는 배열은 불린형이어야 함\n",
    "  - 불린형 배열과 추출 대상이 되는 배열의 구조가 같아야 함\n"
   ]
  },
  {
   "cell_type": "code",
   "execution_count": 16,
   "id": "ae3e1969",
   "metadata": {},
   "outputs": [
    {
     "data": {
      "text/plain": [
       "array([ True,  True,  True, False, False])"
      ]
     },
     "execution_count": 16,
     "metadata": {},
     "output_type": "execute_result"
    }
   ],
   "source": [
    "x = np.array([4, 6, 7, 3, 2])\n",
    "x > 3"
   ]
  },
  {
   "cell_type": "code",
   "execution_count": 17,
   "id": "799163bd",
   "metadata": {},
   "outputs": [
    {
     "data": {
      "text/plain": [
       "array([4, 6, 7])"
      ]
     },
     "execution_count": 17,
     "metadata": {},
     "output_type": "execute_result"
    }
   ],
   "source": [
    "cond = x > 3\n",
    "x[cond]"
   ]
  },
  {
   "cell_type": "code",
   "execution_count": 18,
   "id": "b2c8c59f",
   "metadata": {},
   "outputs": [
    {
     "data": {
      "text/plain": [
       "(5,)"
      ]
     },
     "execution_count": 18,
     "metadata": {},
     "output_type": "execute_result"
    }
   ],
   "source": [
    "x.shape"
   ]
  },
  {
   "cell_type": "code",
   "execution_count": 19,
   "id": "a7c5f079",
   "metadata": {},
   "outputs": [
    {
     "data": {
      "text/plain": [
       "(5,)"
      ]
     },
     "execution_count": 19,
     "metadata": {},
     "output_type": "execute_result"
    }
   ],
   "source": [
    "cond.shape"
   ]
  },
  {
   "cell_type": "markdown",
   "id": "61039e1f",
   "metadata": {},
   "source": [
    "- 팬시 인덱스\n",
    "  - 정수형 배열의 값을 사용하여 해당 정수의 인덱스에 위치한 값을 반환\n",
    "  - 인덱스 항목에 넣을 배열은 정수로만 구성되어야 함\n",
    "  - 정수 값의 범위는 대상이 되는 배열이 가지는 인덱스의 범위 내 대상이 되는 배열과 인덱스 배열의 구조(shape)가 같은 필요는 없음\n"
   ]
  },
  {
   "cell_type": "code",
   "execution_count": 20,
   "id": "00d4c994",
   "metadata": {},
   "outputs": [
    {
     "data": {
      "text/plain": [
       "array([6, 7, 4, 7, 7, 7])"
      ]
     },
     "execution_count": 20,
     "metadata": {},
     "output_type": "execute_result"
    }
   ],
   "source": [
    "x = np.array([4, 6, 7, 3, 2])\n",
    "cond = np.array([1, 2, 0, 2, 2, 2])\n",
    "x[cond]"
   ]
  },
  {
   "cell_type": "code",
   "execution_count": 21,
   "id": "d9c2a535",
   "metadata": {},
   "outputs": [
    {
     "data": {
      "text/plain": [
       "array([6, 7, 4, 7, 7, 7])"
      ]
     },
     "execution_count": 21,
     "metadata": {},
     "output_type": "execute_result"
    }
   ],
   "source": [
    "x.take(cond)"
   ]
  },
  {
   "cell_type": "code",
   "execution_count": 23,
   "id": "c2b0b0f4",
   "metadata": {},
   "outputs": [
    {
     "data": {
      "text/plain": [
       "array([ 1,  9,  9, 16,  4,  4])"
      ]
     },
     "execution_count": 23,
     "metadata": {},
     "output_type": "execute_result"
    }
   ],
   "source": [
    "x = np.array([[1, 4], [9, 16]], int)\n",
    "a = np.array([0, 1, 1, 1, 0, 0], int)\n",
    "b = np.array([0, 0, 0, 1, 1, 1], int)\n",
    "x[a, b]"
   ]
  }
 ],
 "metadata": {
  "kernelspec": {
   "display_name": "ml-study",
   "language": "python",
   "name": "python3"
  },
  "language_info": {
   "codemirror_mode": {
    "name": "ipython",
    "version": 3
   },
   "file_extension": ".py",
   "mimetype": "text/x-python",
   "name": "python",
   "nbconvert_exporter": "python",
   "pygments_lexer": "ipython3",
   "version": "3.12.10"
  }
 },
 "nbformat": 4,
 "nbformat_minor": 5
}
