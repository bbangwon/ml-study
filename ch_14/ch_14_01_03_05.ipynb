{
 "cells": [
  {
   "cell_type": "markdown",
   "id": "659bf231",
   "metadata": {},
   "source": [
    "# 데이터 전처리와 스케일 조정\n",
    "\n",
    "- 데이터를 모델링하기 전에는 반드시 스케일링 과정을 거쳐야 함\n",
    "- 스케일링을 통해 다차원의 값들을 비교 분석하기 쉽게 만들어 줌\n",
    "- 자료의 오버플로우(overflow)나 언더플로우(underflow)를 방지\n",
    "- 독립 변수의 공분산 행렬의 조건수(condition number)를 감소시켜 최적화 과정에서의 안정성 및 수렴 속도를 향상\n"
   ]
  },
  {
   "cell_type": "markdown",
   "id": "ff38e086",
   "metadata": {},
   "source": [
    "- StandardScaler\n",
    "  - 각 특성의 평균을 0, 분산을 1로 변경하여 특성의 스케일을 맞춤\n",
    "  - 최솟값과 최댓값의 크기를 제한하지 않음\n",
    "- RobustScaler\n",
    "  - 평균과 분산 대신에 중간값과 사분위 값을 사용함\n",
    "  - 중간값은 정렬시 중간에 있는 값을 의미하고, 사분위값은 1/4, 3/4에 위치한 값을 의미함\n",
    "  - 전체 데이터와 아주 동떨어진 데이터 포인트(이상치)에 영향을 받지 않음\n",
    "- MinMaxScaler\n",
    "  - 모든 특성이 0과 1 사이에 위치하도록 데이터를 변경함\n",
    "- Normalizer\n",
    "  - 위와 다른 스케일 조정법으로 특성 벡터의 유클리디안 길이가 1이 되도록 조정함\n",
    "  - 즉 길이가 1인 원 또는 구로 투영하는 것이고, 각도만이 중요할 때 적용함\n",
    "  - l1, l2, max 옵션을 제공하며 유클리디안 거리인 l2가 기본값임\n"
   ]
  },
  {
   "cell_type": "markdown",
   "id": "b6d350f0",
   "metadata": {},
   "source": [
    "# 주가 데이터를 정규화하기\n",
    "\n",
    "- 사이킷런(scikit-learn)\n",
    "  - 파이썬에서 머신러닝 분석을 위해 사용할 수 있는 라이브러리\n",
    "  - 머신러닝을 위한 다양한 알고리즘과 개발을 위한 편리한 프레임워크, API를 제공\n",
    "- sklearn 패키지에 있는 MinMaxScaler를 활용하여 전체 학습 데이터를 Normalize 해주기\n",
    "  - MinMaxScaler를 해주면 전체 데이터는 0, 1사이의 값을 갖게 됨\n"
   ]
  },
  {
   "cell_type": "code",
   "execution_count": 1,
   "id": "11fd7434",
   "metadata": {},
   "outputs": [],
   "source": [
    "import numpy as np\n",
    "import pandas as pd\n",
    "import yfinance as yfin\n",
    "from pandas_datareader import data"
   ]
  },
  {
   "cell_type": "code",
   "execution_count": 2,
   "id": "e17cfb4d",
   "metadata": {},
   "outputs": [
    {
     "name": "stderr",
     "output_type": "stream",
     "text": [
      "C:\\Users\\bbang\\AppData\\Local\\Temp\\ipykernel_21444\\1026581699.py:1: FutureWarning: YF.download() has changed argument auto_adjust default to True\n",
      "  df_price = yfin.download(\"NVDA\", start=\"2023-01-01\", end=\"2024-05-28\")\n",
      "[*********************100%***********************]  1 of 1 completed\n"
     ]
    }
   ],
   "source": [
    "df_price = yfin.download(\"NVDA\", start=\"2023-01-01\", end=\"2024-05-28\")"
   ]
  },
  {
   "cell_type": "code",
   "execution_count": 3,
   "id": "980eb69f",
   "metadata": {},
   "outputs": [
    {
     "data": {
      "text/html": [
       "<div>\n",
       "<style scoped>\n",
       "    .dataframe tbody tr th:only-of-type {\n",
       "        vertical-align: middle;\n",
       "    }\n",
       "\n",
       "    .dataframe tbody tr th {\n",
       "        vertical-align: top;\n",
       "    }\n",
       "\n",
       "    .dataframe thead tr th {\n",
       "        text-align: left;\n",
       "    }\n",
       "</style>\n",
       "<table border=\"1\" class=\"dataframe\">\n",
       "  <thead>\n",
       "    <tr>\n",
       "      <th>Price</th>\n",
       "      <th>Date</th>\n",
       "      <th>Close</th>\n",
       "      <th>High</th>\n",
       "      <th>Low</th>\n",
       "      <th>Open</th>\n",
       "      <th>Volume</th>\n",
       "    </tr>\n",
       "    <tr>\n",
       "      <th>Ticker</th>\n",
       "      <th></th>\n",
       "      <th>NVDA</th>\n",
       "      <th>NVDA</th>\n",
       "      <th>NVDA</th>\n",
       "      <th>NVDA</th>\n",
       "      <th>NVDA</th>\n",
       "    </tr>\n",
       "  </thead>\n",
       "  <tbody>\n",
       "    <tr>\n",
       "      <th>0</th>\n",
       "      <td>2023-01-03</td>\n",
       "      <td>14.302285</td>\n",
       "      <td>14.982681</td>\n",
       "      <td>14.083480</td>\n",
       "      <td>14.837809</td>\n",
       "      <td>401277000</td>\n",
       "    </tr>\n",
       "    <tr>\n",
       "      <th>1</th>\n",
       "      <td>2023-01-04</td>\n",
       "      <td>14.735900</td>\n",
       "      <td>14.839808</td>\n",
       "      <td>14.228352</td>\n",
       "      <td>14.554062</td>\n",
       "      <td>431324000</td>\n",
       "    </tr>\n",
       "    <tr>\n",
       "      <th>2</th>\n",
       "      <td>2023-01-05</td>\n",
       "      <td>14.252332</td>\n",
       "      <td>14.551066</td>\n",
       "      <td>14.135435</td>\n",
       "      <td>14.478131</td>\n",
       "      <td>389168000</td>\n",
       "    </tr>\n",
       "    <tr>\n",
       "      <th>3</th>\n",
       "      <td>2023-01-06</td>\n",
       "      <td>14.845803</td>\n",
       "      <td>14.996669</td>\n",
       "      <td>14.021536</td>\n",
       "      <td>14.461145</td>\n",
       "      <td>405044000</td>\n",
       "    </tr>\n",
       "    <tr>\n",
       "      <th>4</th>\n",
       "      <td>2023-01-09</td>\n",
       "      <td>15.614120</td>\n",
       "      <td>16.041739</td>\n",
       "      <td>15.127552</td>\n",
       "      <td>15.270425</td>\n",
       "      <td>504231000</td>\n",
       "    </tr>\n",
       "    <tr>\n",
       "      <th>...</th>\n",
       "      <td>...</td>\n",
       "      <td>...</td>\n",
       "      <td>...</td>\n",
       "      <td>...</td>\n",
       "      <td>...</td>\n",
       "      <td>...</td>\n",
       "    </tr>\n",
       "    <tr>\n",
       "      <th>346</th>\n",
       "      <td>2024-05-20</td>\n",
       "      <td>94.742287</td>\n",
       "      <td>95.162118</td>\n",
       "      <td>93.402824</td>\n",
       "      <td>93.712698</td>\n",
       "      <td>318764000</td>\n",
       "    </tr>\n",
       "    <tr>\n",
       "      <th>347</th>\n",
       "      <td>2024-05-21</td>\n",
       "      <td>95.348045</td>\n",
       "      <td>95.362040</td>\n",
       "      <td>93.142922</td>\n",
       "      <td>93.561754</td>\n",
       "      <td>328946000</td>\n",
       "    </tr>\n",
       "    <tr>\n",
       "      <th>348</th>\n",
       "      <td>2024-05-22</td>\n",
       "      <td>94.912224</td>\n",
       "      <td>95.981798</td>\n",
       "      <td>93.211904</td>\n",
       "      <td>95.421024</td>\n",
       "      <td>548648000</td>\n",
       "    </tr>\n",
       "    <tr>\n",
       "      <th>349</th>\n",
       "      <td>2024-05-23</td>\n",
       "      <td>103.757706</td>\n",
       "      <td>106.277699</td>\n",
       "      <td>101.479605</td>\n",
       "      <td>101.987407</td>\n",
       "      <td>835065000</td>\n",
       "    </tr>\n",
       "    <tr>\n",
       "      <th>350</th>\n",
       "      <td>2024-05-24</td>\n",
       "      <td>106.426643</td>\n",
       "      <td>106.432638</td>\n",
       "      <td>102.959022</td>\n",
       "      <td>104.407443</td>\n",
       "      <td>429494000</td>\n",
       "    </tr>\n",
       "  </tbody>\n",
       "</table>\n",
       "<p>351 rows × 6 columns</p>\n",
       "</div>"
      ],
      "text/plain": [
       "Price        Date       Close        High         Low        Open     Volume\n",
       "Ticker                   NVDA        NVDA        NVDA        NVDA       NVDA\n",
       "0      2023-01-03   14.302285   14.982681   14.083480   14.837809  401277000\n",
       "1      2023-01-04   14.735900   14.839808   14.228352   14.554062  431324000\n",
       "2      2023-01-05   14.252332   14.551066   14.135435   14.478131  389168000\n",
       "3      2023-01-06   14.845803   14.996669   14.021536   14.461145  405044000\n",
       "4      2023-01-09   15.614120   16.041739   15.127552   15.270425  504231000\n",
       "..            ...         ...         ...         ...         ...        ...\n",
       "346    2024-05-20   94.742287   95.162118   93.402824   93.712698  318764000\n",
       "347    2024-05-21   95.348045   95.362040   93.142922   93.561754  328946000\n",
       "348    2024-05-22   94.912224   95.981798   93.211904   95.421024  548648000\n",
       "349    2024-05-23  103.757706  106.277699  101.479605  101.987407  835065000\n",
       "350    2024-05-24  106.426643  106.432638  102.959022  104.407443  429494000\n",
       "\n",
       "[351 rows x 6 columns]"
      ]
     },
     "execution_count": 3,
     "metadata": {},
     "output_type": "execute_result"
    }
   ],
   "source": [
    "df_price.reset_index(inplace=True)\n",
    "df_price"
   ]
  },
  {
   "cell_type": "code",
   "execution_count": 4,
   "id": "a8b876c1",
   "metadata": {},
   "outputs": [
    {
     "data": {
      "text/plain": [
       "array([[4.18765885e-03, 4.69751506e-03, 6.96485549e-04, 5.41945579e-04,\n",
       "        1.50901165e-01],\n",
       "       [1.03303193e-03, 3.14254164e-03, 2.32540334e-03, 5.24623599e-03,\n",
       "        1.73229289e-01],\n",
       "       [1.88844789e-04, 0.00000000e+00, 1.28066236e-03, 0.00000000e+00,\n",
       "        1.41902888e-01],\n",
       "       ...,\n",
       "       [9.00091288e-01, 8.86257498e-01, 8.90404844e-01, 8.75079951e-01,\n",
       "        2.60413524e-01],\n",
       "       [9.73094655e-01, 9.98313711e-01, 9.83365661e-01, 9.71044669e-01,\n",
       "        4.73251879e-01],\n",
       "       [1.00000000e+00, 1.00000000e+00, 1.00000000e+00, 1.00000000e+00,\n",
       "        1.71869403e-01]])"
      ]
     },
     "execution_count": 4,
     "metadata": {},
     "output_type": "execute_result"
    }
   ],
   "source": [
    "from sklearn.preprocessing import MinMaxScaler\n",
    "\n",
    "scaler = MinMaxScaler()\n",
    "scale_cols = [\"Open\", \"High\", \"Low\", \"Close\", \"Volume\"]\n",
    "df_scaled = scaler.fit_transform(df_price[scale_cols])\n",
    "df_scaled"
   ]
  },
  {
   "cell_type": "code",
   "execution_count": 5,
   "id": "3acc77a1",
   "metadata": {},
   "outputs": [
    {
     "data": {
      "text/html": [
       "<div>\n",
       "<style scoped>\n",
       "    .dataframe tbody tr th:only-of-type {\n",
       "        vertical-align: middle;\n",
       "    }\n",
       "\n",
       "    .dataframe tbody tr th {\n",
       "        vertical-align: top;\n",
       "    }\n",
       "\n",
       "    .dataframe thead th {\n",
       "        text-align: right;\n",
       "    }\n",
       "</style>\n",
       "<table border=\"1\" class=\"dataframe\">\n",
       "  <thead>\n",
       "    <tr style=\"text-align: right;\">\n",
       "      <th></th>\n",
       "      <th>Open</th>\n",
       "      <th>High</th>\n",
       "      <th>Low</th>\n",
       "      <th>Close</th>\n",
       "      <th>Volume</th>\n",
       "    </tr>\n",
       "  </thead>\n",
       "  <tbody>\n",
       "    <tr>\n",
       "      <th>0</th>\n",
       "      <td>0.004188</td>\n",
       "      <td>0.004698</td>\n",
       "      <td>0.000696</td>\n",
       "      <td>0.000542</td>\n",
       "      <td>0.150901</td>\n",
       "    </tr>\n",
       "    <tr>\n",
       "      <th>1</th>\n",
       "      <td>0.001033</td>\n",
       "      <td>0.003143</td>\n",
       "      <td>0.002325</td>\n",
       "      <td>0.005246</td>\n",
       "      <td>0.173229</td>\n",
       "    </tr>\n",
       "    <tr>\n",
       "      <th>2</th>\n",
       "      <td>0.000189</td>\n",
       "      <td>0.000000</td>\n",
       "      <td>0.001281</td>\n",
       "      <td>0.000000</td>\n",
       "      <td>0.141903</td>\n",
       "    </tr>\n",
       "    <tr>\n",
       "      <th>3</th>\n",
       "      <td>0.000000</td>\n",
       "      <td>0.004850</td>\n",
       "      <td>0.000000</td>\n",
       "      <td>0.006439</td>\n",
       "      <td>0.153700</td>\n",
       "    </tr>\n",
       "    <tr>\n",
       "      <th>4</th>\n",
       "      <td>0.008997</td>\n",
       "      <td>0.016224</td>\n",
       "      <td>0.012436</td>\n",
       "      <td>0.014774</td>\n",
       "      <td>0.227407</td>\n",
       "    </tr>\n",
       "    <tr>\n",
       "      <th>...</th>\n",
       "      <td>...</td>\n",
       "      <td>...</td>\n",
       "      <td>...</td>\n",
       "      <td>...</td>\n",
       "      <td>...</td>\n",
       "    </tr>\n",
       "    <tr>\n",
       "      <th>346</th>\n",
       "      <td>0.881099</td>\n",
       "      <td>0.877336</td>\n",
       "      <td>0.892552</td>\n",
       "      <td>0.873236</td>\n",
       "      <td>0.089585</td>\n",
       "    </tr>\n",
       "    <tr>\n",
       "      <th>347</th>\n",
       "      <td>0.879420</td>\n",
       "      <td>0.879512</td>\n",
       "      <td>0.889629</td>\n",
       "      <td>0.879808</td>\n",
       "      <td>0.097152</td>\n",
       "    </tr>\n",
       "    <tr>\n",
       "      <th>348</th>\n",
       "      <td>0.900091</td>\n",
       "      <td>0.886257</td>\n",
       "      <td>0.890405</td>\n",
       "      <td>0.875080</td>\n",
       "      <td>0.260414</td>\n",
       "    </tr>\n",
       "    <tr>\n",
       "      <th>349</th>\n",
       "      <td>0.973095</td>\n",
       "      <td>0.998314</td>\n",
       "      <td>0.983366</td>\n",
       "      <td>0.971045</td>\n",
       "      <td>0.473252</td>\n",
       "    </tr>\n",
       "    <tr>\n",
       "      <th>350</th>\n",
       "      <td>1.000000</td>\n",
       "      <td>1.000000</td>\n",
       "      <td>1.000000</td>\n",
       "      <td>1.000000</td>\n",
       "      <td>0.171869</td>\n",
       "    </tr>\n",
       "  </tbody>\n",
       "</table>\n",
       "<p>351 rows × 5 columns</p>\n",
       "</div>"
      ],
      "text/plain": [
       "         Open      High       Low     Close    Volume\n",
       "0    0.004188  0.004698  0.000696  0.000542  0.150901\n",
       "1    0.001033  0.003143  0.002325  0.005246  0.173229\n",
       "2    0.000189  0.000000  0.001281  0.000000  0.141903\n",
       "3    0.000000  0.004850  0.000000  0.006439  0.153700\n",
       "4    0.008997  0.016224  0.012436  0.014774  0.227407\n",
       "..        ...       ...       ...       ...       ...\n",
       "346  0.881099  0.877336  0.892552  0.873236  0.089585\n",
       "347  0.879420  0.879512  0.889629  0.879808  0.097152\n",
       "348  0.900091  0.886257  0.890405  0.875080  0.260414\n",
       "349  0.973095  0.998314  0.983366  0.971045  0.473252\n",
       "350  1.000000  1.000000  1.000000  1.000000  0.171869\n",
       "\n",
       "[351 rows x 5 columns]"
      ]
     },
     "execution_count": 5,
     "metadata": {},
     "output_type": "execute_result"
    }
   ],
   "source": [
    "df_scaled = pd.DataFrame(df_scaled)\n",
    "df_scaled.columns = scale_cols\n",
    "df_scaled"
   ]
  },
  {
   "cell_type": "markdown",
   "id": "bea6c9ae",
   "metadata": {},
   "source": [
    "# 학습 데이터셋과 테스트 데이터셋 생성하기\n",
    "\n",
    "- TEST_SIZE=30\n",
    "  - 학습은 과거부터 30일 이전의 데이터를 학습하게 되고, TEST를 위해서 이후 30일의 데이터로 모델이 주가를 예측하도록 한 다음, 실제 데이터와 오차가 얼마나 있는지 확인해보기\n"
   ]
  },
  {
   "cell_type": "code",
   "execution_count": 6,
   "id": "d2c54d32",
   "metadata": {},
   "outputs": [],
   "source": [
    "TEST_SIZE = 30\n",
    "train = df_scaled[:-TEST_SIZE]\n",
    "test = df_scaled[-TEST_SIZE:]"
   ]
  },
  {
   "cell_type": "markdown",
   "id": "2dfe7bbb",
   "metadata": {},
   "source": [
    "- dataset을 만들어 주는 함수\n",
    "- 정해진 window_size에 기반하여 5일 기간의 데이터셋을 묶어 주는 역할을 하는 함수\n",
    "- 순차적으로 5일 동안의 데이터셋을 묶고, 이에 맞는 label(예측 데이터)와 함께 return해 줌\n"
   ]
  },
  {
   "cell_type": "markdown",
   "id": "bbc7122d",
   "metadata": {},
   "source": [
    "- window_size\n",
    "  - 얼마 동안(기간)의 주가 데이터에 기반하여 다음날 종가를 예측할 것인가를 정하는 parameter\n",
    "  - 과거 5일을 기반으로 내일 데이터를 예측한다라고 가정했을 때, window_size=5\n"
   ]
  },
  {
   "cell_type": "code",
   "execution_count": 7,
   "id": "1f8b9f33",
   "metadata": {},
   "outputs": [],
   "source": [
    "def make_dataset(data, label, window_size=5):\n",
    "    feature_list = []\n",
    "    label_list = []\n",
    "    for i in range(len(data) - window_size):\n",
    "        feature_list.append(np.array(data.iloc[i : i + window_size]))\n",
    "        label_list.append(np.array(label.iloc[i + window_size]))\n",
    "    return np.array(feature_list), np.array(label_list)"
   ]
  },
  {
   "cell_type": "markdown",
   "id": "d4176553",
   "metadata": {},
   "source": [
    "- feature와 label 정의하기\n"
   ]
  },
  {
   "cell_type": "code",
   "execution_count": 8,
   "id": "65fa0f45",
   "metadata": {},
   "outputs": [],
   "source": [
    "feature_cols = [\"Open\", \"High\", \"Low\", \"Volume\"]\n",
    "label_cols = [\"Close\"]\n",
    "\n",
    "train_feature = train[feature_cols]\n",
    "train_label = train[label_cols]"
   ]
  },
  {
   "cell_type": "code",
   "execution_count": 9,
   "id": "46ee2799",
   "metadata": {},
   "outputs": [],
   "source": [
    "# train dataset\n",
    "train_feature, train_label = make_dataset(train_feature, train_label, 5)"
   ]
  },
  {
   "cell_type": "code",
   "execution_count": 10,
   "id": "d743d82e",
   "metadata": {},
   "outputs": [],
   "source": [
    "# train, validation set 생성\n",
    "from sklearn.model_selection import train_test_split"
   ]
  },
  {
   "cell_type": "code",
   "execution_count": 11,
   "id": "aa052213",
   "metadata": {},
   "outputs": [
    {
     "data": {
      "text/plain": [
       "((252, 5, 4), (64, 5, 4))"
      ]
     },
     "execution_count": 11,
     "metadata": {},
     "output_type": "execute_result"
    }
   ],
   "source": [
    "x_train, x_valid, y_train, y_valid = train_test_split(\n",
    "    train_feature, train_label, test_size=0.2\n",
    ")\n",
    "x_train.shape, x_valid.shape"
   ]
  },
  {
   "cell_type": "code",
   "execution_count": 12,
   "id": "a2567e26",
   "metadata": {},
   "outputs": [
    {
     "data": {
      "text/plain": [
       "((25, 5, 4), (25, 1))"
      ]
     },
     "execution_count": 12,
     "metadata": {},
     "output_type": "execute_result"
    }
   ],
   "source": [
    "# test_dataset\n",
    "test_feature = test[feature_cols]\n",
    "test_label = test[label_cols]\n",
    "\n",
    "# test dataset (실제 예측해 볼 데이터)\n",
    "test_feature, test_label = make_dataset(test_feature, test_label, 5)\n",
    "test_feature.shape, test_label.shape"
   ]
  },
  {
   "cell_type": "markdown",
   "id": "f64a7f25",
   "metadata": {},
   "source": [
    "# keras를 활용한 LSTM 모델 생성\n",
    "\n",
    "- 텐서플로우\n",
    "  - 구글에서 개발하고 오픈소스로 공개한 머신러닝 라이브러리, 내부 구조 확인 디버거 사용\n",
    "- 모델 학습을 시켜보고 evaluation 해보기\n"
   ]
  },
  {
   "cell_type": "code",
   "execution_count": 13,
   "id": "b24cc7e1",
   "metadata": {},
   "outputs": [],
   "source": [
    "from keras.models import Sequential\n",
    "from keras.layers import Dense, LSTM, Input\n",
    "from keras.callbacks import EarlyStopping, ModelCheckpoint"
   ]
  },
  {
   "cell_type": "markdown",
   "id": "54f00c40",
   "metadata": {},
   "source": [
    "- Sequential() 메서드\n",
    "  - 케라스에서는 인공신경망의 입력층, 은닉층, 출력층을 구성하기 위해 Sequential()을 사용\n",
    "  - Sequential()을 model로 선언한 뒤에 model.add()라는 코드를 통해 층을 단계적으로 추가\n"
   ]
  },
  {
   "cell_type": "code",
   "execution_count": 14,
   "id": "ba743b7a",
   "metadata": {},
   "outputs": [],
   "source": [
    "model = Sequential()\n",
    "model.add(Input(shape=(train_feature.shape[1], train_feature.shape[2])))\n",
    "model.add(\n",
    "    LSTM(\n",
    "        16,\n",
    "        activation=\"relu\",\n",
    "        return_sequences=False,\n",
    "    )\n",
    ")\n",
    "model.add(Dense(1))"
   ]
  },
  {
   "cell_type": "markdown",
   "id": "a365fa34",
   "metadata": {},
   "source": [
    "- Dense() 메서드 예시\n",
    "  - 전결합층(fully-connected layer)\n",
    "    - 첫번째 인자 = 출력 뉴런의 수\n",
    "    - input_dim = 입력 뉴런의 수(입력의 차원)\n",
    "    - activation = 활성화 함수\n",
    "      -relu: 은닉층에 주로 사용되는 활성화 함수\n"
   ]
  },
  {
   "cell_type": "markdown",
   "id": "1b212e41",
   "metadata": {},
   "source": [
    "- summary() 메서드\n",
    "  - 모델의 정보를 요약해서 보여줌\n"
   ]
  },
  {
   "cell_type": "code",
   "execution_count": 15,
   "id": "37c16c59",
   "metadata": {},
   "outputs": [
    {
     "data": {
      "text/html": [
       "<pre style=\"white-space:pre;overflow-x:auto;line-height:normal;font-family:Menlo,'DejaVu Sans Mono',consolas,'Courier New',monospace\"><span style=\"font-weight: bold\">Model: \"sequential\"</span>\n",
       "</pre>\n"
      ],
      "text/plain": [
       "\u001b[1mModel: \"sequential\"\u001b[0m\n"
      ]
     },
     "metadata": {},
     "output_type": "display_data"
    },
    {
     "data": {
      "text/html": [
       "<pre style=\"white-space:pre;overflow-x:auto;line-height:normal;font-family:Menlo,'DejaVu Sans Mono',consolas,'Courier New',monospace\">┏━━━━━━━━━━━━━━━━━━━━━━━━━━━━━━━━━┳━━━━━━━━━━━━━━━━━━━━━━━━┳━━━━━━━━━━━━━━━┓\n",
       "┃<span style=\"font-weight: bold\"> Layer (type)                    </span>┃<span style=\"font-weight: bold\"> Output Shape           </span>┃<span style=\"font-weight: bold\">       Param # </span>┃\n",
       "┡━━━━━━━━━━━━━━━━━━━━━━━━━━━━━━━━━╇━━━━━━━━━━━━━━━━━━━━━━━━╇━━━━━━━━━━━━━━━┩\n",
       "│ lstm (<span style=\"color: #0087ff; text-decoration-color: #0087ff\">LSTM</span>)                     │ (<span style=\"color: #00d7ff; text-decoration-color: #00d7ff\">None</span>, <span style=\"color: #00af00; text-decoration-color: #00af00\">16</span>)             │         <span style=\"color: #00af00; text-decoration-color: #00af00\">1,344</span> │\n",
       "├─────────────────────────────────┼────────────────────────┼───────────────┤\n",
       "│ dense (<span style=\"color: #0087ff; text-decoration-color: #0087ff\">Dense</span>)                   │ (<span style=\"color: #00d7ff; text-decoration-color: #00d7ff\">None</span>, <span style=\"color: #00af00; text-decoration-color: #00af00\">1</span>)              │            <span style=\"color: #00af00; text-decoration-color: #00af00\">17</span> │\n",
       "└─────────────────────────────────┴────────────────────────┴───────────────┘\n",
       "</pre>\n"
      ],
      "text/plain": [
       "┏━━━━━━━━━━━━━━━━━━━━━━━━━━━━━━━━━┳━━━━━━━━━━━━━━━━━━━━━━━━┳━━━━━━━━━━━━━━━┓\n",
       "┃\u001b[1m \u001b[0m\u001b[1mLayer (type)                   \u001b[0m\u001b[1m \u001b[0m┃\u001b[1m \u001b[0m\u001b[1mOutput Shape          \u001b[0m\u001b[1m \u001b[0m┃\u001b[1m \u001b[0m\u001b[1m      Param #\u001b[0m\u001b[1m \u001b[0m┃\n",
       "┡━━━━━━━━━━━━━━━━━━━━━━━━━━━━━━━━━╇━━━━━━━━━━━━━━━━━━━━━━━━╇━━━━━━━━━━━━━━━┩\n",
       "│ lstm (\u001b[38;5;33mLSTM\u001b[0m)                     │ (\u001b[38;5;45mNone\u001b[0m, \u001b[38;5;34m16\u001b[0m)             │         \u001b[38;5;34m1,344\u001b[0m │\n",
       "├─────────────────────────────────┼────────────────────────┼───────────────┤\n",
       "│ dense (\u001b[38;5;33mDense\u001b[0m)                   │ (\u001b[38;5;45mNone\u001b[0m, \u001b[38;5;34m1\u001b[0m)              │            \u001b[38;5;34m17\u001b[0m │\n",
       "└─────────────────────────────────┴────────────────────────┴───────────────┘\n"
      ]
     },
     "metadata": {},
     "output_type": "display_data"
    },
    {
     "data": {
      "text/html": [
       "<pre style=\"white-space:pre;overflow-x:auto;line-height:normal;font-family:Menlo,'DejaVu Sans Mono',consolas,'Courier New',monospace\"><span style=\"font-weight: bold\"> Total params: </span><span style=\"color: #00af00; text-decoration-color: #00af00\">1,361</span> (5.32 KB)\n",
       "</pre>\n"
      ],
      "text/plain": [
       "\u001b[1m Total params: \u001b[0m\u001b[38;5;34m1,361\u001b[0m (5.32 KB)\n"
      ]
     },
     "metadata": {},
     "output_type": "display_data"
    },
    {
     "data": {
      "text/html": [
       "<pre style=\"white-space:pre;overflow-x:auto;line-height:normal;font-family:Menlo,'DejaVu Sans Mono',consolas,'Courier New',monospace\"><span style=\"font-weight: bold\"> Trainable params: </span><span style=\"color: #00af00; text-decoration-color: #00af00\">1,361</span> (5.32 KB)\n",
       "</pre>\n"
      ],
      "text/plain": [
       "\u001b[1m Trainable params: \u001b[0m\u001b[38;5;34m1,361\u001b[0m (5.32 KB)\n"
      ]
     },
     "metadata": {},
     "output_type": "display_data"
    },
    {
     "data": {
      "text/html": [
       "<pre style=\"white-space:pre;overflow-x:auto;line-height:normal;font-family:Menlo,'DejaVu Sans Mono',consolas,'Courier New',monospace\"><span style=\"font-weight: bold\"> Non-trainable params: </span><span style=\"color: #00af00; text-decoration-color: #00af00\">0</span> (0.00 B)\n",
       "</pre>\n"
      ],
      "text/plain": [
       "\u001b[1m Non-trainable params: \u001b[0m\u001b[38;5;34m0\u001b[0m (0.00 B)\n"
      ]
     },
     "metadata": {},
     "output_type": "display_data"
    }
   ],
   "source": [
    "model.summary()"
   ]
  },
  {
   "cell_type": "markdown",
   "id": "60fb40a5",
   "metadata": {},
   "source": [
    "# 모델의 학습\n",
    "\n",
    "- compile()\n",
    "  - 모델을 기계가 이해할 수 있도록 컴파일 함\n",
    "  - 손실 함수와 옵티마이저, 메트릭 함수를 선택함\n",
    "  - optimizer = 훈련 과정을 설정하는 옵티마이저를 설정\n",
    "  - loss = 훈련 과정에서 사용할 손실 함수(loss function)를 설정\n",
    "  - metrics = 훈련을 모니터링하기 위한 지표를 선택\n",
    "    | 문제 유형 | 손실 함수명 | 출력층의 활성화 함수 명 |\n",
    "    | -- | -- | -- |\n",
    "    | 회귀 문제 | mean_squared_error | - |\n",
    "    | 다중 클래스 분류 | categorical_crossentropy | 소프트맥스 |\n",
    "    | 다중 클래스 분류 | sparse_catogorical_crossentropy | 소프트맥스 |\n",
    "    | 이진 분류 | binary_crossentropy | 시그모이드 |\n"
   ]
  },
  {
   "cell_type": "code",
   "execution_count": 16,
   "id": "0c5cbf35",
   "metadata": {},
   "outputs": [],
   "source": [
    "model.compile(loss=\"mean_squared_error\", optimizer=\"adam\")\n",
    "early_stop = EarlyStopping(monitor=\"val_loss\", patience=5)\n",
    "filename = \"tmp_checkpoint.h5.keras\"\n",
    "checkpoint = ModelCheckpoint(\n",
    "    filename, monitor=\"val_loss\", verbose=1, save_best_only=True, mode=\"auto\"\n",
    ")"
   ]
  },
  {
   "cell_type": "markdown",
   "id": "93a30eca",
   "metadata": {},
   "source": [
    "- fit()\n",
    "  - 모델을 학습\n",
    "  - 모델이 오차로부터 매개 변수를 업데이트 시키는 과정을 학습, 훈련, 또는 적합(fitting)이라고 하는데, 모델이 데이터에 적합해가는 과정이기 때문\n",
    "  - 첫번째 인자 = 학습 데이터,\n",
    "  - 두번째 인자 = 지도 학습에서 레이블 데이터\n",
    "  - epochs = 에포크\n",
    "    - 에포크 1은 전체 데이터를 한 차례 훝고 지나갔음을 의미함\n",
    "    - 정수값 기재, 총 학습 횟수를 정의함\n",
    "  - batch_size = 배치크기\n",
    "    - 기본값은 32, 미니 배치 경사 하강법을 사용하고 싶지 않을 경우에는 batch_size=None을 기재\n",
    "  - validation_data(x_val, y_val) = 검증 데이터(validation data)를 사용함\n",
    "    - 일반적으로 검증 데이터를 사용하면 각 에포크마다 검증 데이터의 정확도나 오차를 함께 출력하는데, 이 정확도는 학습이 잘 되고 있는지를 보여줄 뿐이며 실제로 모델이 검증 데이터를 학습하지는 않음\n",
    "    - 검증 데이터의 오차가 낮아지다가 높아지기 시작하면 과적합의 신호\n"
   ]
  },
  {
   "cell_type": "code",
   "execution_count": 17,
   "id": "e7d3ab95",
   "metadata": {},
   "outputs": [
    {
     "name": "stdout",
     "output_type": "stream",
     "text": [
      "Epoch 1/200\n",
      "\u001b[1m 1/16\u001b[0m \u001b[32m━\u001b[0m\u001b[37m━━━━━━━━━━━━━━━━━━━\u001b[0m \u001b[1m9s\u001b[0m 620ms/step - loss: 0.1147\n",
      "Epoch 1: val_loss improved from None to 0.06718, saving model to tmp_checkpoint.h5.keras\n",
      "\u001b[1m16/16\u001b[0m \u001b[32m━━━━━━━━━━━━━━━━━━━━\u001b[0m\u001b[37m\u001b[0m \u001b[1m1s\u001b[0m 11ms/step - loss: 0.1156 - val_loss: 0.0672\n",
      "Epoch 2/200\n",
      "\u001b[1m 1/16\u001b[0m \u001b[32m━\u001b[0m\u001b[37m━━━━━━━━━━━━━━━━━━━\u001b[0m \u001b[1m0s\u001b[0m 19ms/step - loss: 0.0418\n",
      "Epoch 2: val_loss improved from 0.06718 to 0.02163, saving model to tmp_checkpoint.h5.keras\n",
      "\u001b[1m16/16\u001b[0m \u001b[32m━━━━━━━━━━━━━━━━━━━━\u001b[0m\u001b[37m\u001b[0m \u001b[1m0s\u001b[0m 4ms/step - loss: 0.0545 - val_loss: 0.0216\n",
      "Epoch 3/200\n",
      "\u001b[1m 1/16\u001b[0m \u001b[32m━\u001b[0m\u001b[37m━━━━━━━━━━━━━━━━━━━\u001b[0m \u001b[1m0s\u001b[0m 18ms/step - loss: 0.0084\n",
      "Epoch 3: val_loss improved from 0.02163 to 0.00340, saving model to tmp_checkpoint.h5.keras\n",
      "\u001b[1m16/16\u001b[0m \u001b[32m━━━━━━━━━━━━━━━━━━━━\u001b[0m\u001b[37m\u001b[0m \u001b[1m0s\u001b[0m 4ms/step - loss: 0.0125 - val_loss: 0.0034\n",
      "Epoch 4/200\n",
      "\u001b[1m 1/16\u001b[0m \u001b[32m━\u001b[0m\u001b[37m━━━━━━━━━━━━━━━━━━━\u001b[0m \u001b[1m0s\u001b[0m 17ms/step - loss: 0.0043\n",
      "Epoch 4: val_loss did not improve from 0.00340\n",
      "\u001b[1m16/16\u001b[0m \u001b[32m━━━━━━━━━━━━━━━━━━━━\u001b[0m\u001b[37m\u001b[0m \u001b[1m0s\u001b[0m 3ms/step - loss: 0.0051 - val_loss: 0.0036\n",
      "Epoch 5/200\n",
      "\u001b[1m 1/16\u001b[0m \u001b[32m━\u001b[0m\u001b[37m━━━━━━━━━━━━━━━━━━━\u001b[0m \u001b[1m0s\u001b[0m 16ms/step - loss: 0.0036\n",
      "Epoch 5: val_loss improved from 0.00340 to 0.00212, saving model to tmp_checkpoint.h5.keras\n",
      "\u001b[1m16/16\u001b[0m \u001b[32m━━━━━━━━━━━━━━━━━━━━\u001b[0m\u001b[37m\u001b[0m \u001b[1m0s\u001b[0m 4ms/step - loss: 0.0036 - val_loss: 0.0021\n",
      "Epoch 6/200\n",
      "\u001b[1m 1/16\u001b[0m \u001b[32m━\u001b[0m\u001b[37m━━━━━━━━━━━━━━━━━━━\u001b[0m \u001b[1m0s\u001b[0m 18ms/step - loss: 0.0024\n",
      "Epoch 6: val_loss improved from 0.00212 to 0.00131, saving model to tmp_checkpoint.h5.keras\n",
      "\u001b[1m16/16\u001b[0m \u001b[32m━━━━━━━━━━━━━━━━━━━━\u001b[0m\u001b[37m\u001b[0m \u001b[1m0s\u001b[0m 4ms/step - loss: 0.0023 - val_loss: 0.0013\n",
      "Epoch 7/200\n",
      "\u001b[1m 1/16\u001b[0m \u001b[32m━\u001b[0m\u001b[37m━━━━━━━━━━━━━━━━━━━\u001b[0m \u001b[1m0s\u001b[0m 17ms/step - loss: 0.0018\n",
      "Epoch 7: val_loss improved from 0.00131 to 0.00101, saving model to tmp_checkpoint.h5.keras\n",
      "\u001b[1m16/16\u001b[0m \u001b[32m━━━━━━━━━━━━━━━━━━━━\u001b[0m\u001b[37m\u001b[0m \u001b[1m0s\u001b[0m 4ms/step - loss: 0.0016 - val_loss: 0.0010\n",
      "Epoch 8/200\n",
      "\u001b[1m 1/16\u001b[0m \u001b[32m━\u001b[0m\u001b[37m━━━━━━━━━━━━━━━━━━━\u001b[0m \u001b[1m0s\u001b[0m 18ms/step - loss: 0.0014\n",
      "Epoch 8: val_loss improved from 0.00101 to 0.00087, saving model to tmp_checkpoint.h5.keras\n",
      "\u001b[1m16/16\u001b[0m \u001b[32m━━━━━━━━━━━━━━━━━━━━\u001b[0m\u001b[37m\u001b[0m \u001b[1m0s\u001b[0m 4ms/step - loss: 0.0013 - val_loss: 8.6794e-04\n",
      "Epoch 9/200\n",
      "\u001b[1m 1/16\u001b[0m \u001b[32m━\u001b[0m\u001b[37m━━━━━━━━━━━━━━━━━━━\u001b[0m \u001b[1m0s\u001b[0m 20ms/step - loss: 0.0014\n",
      "Epoch 9: val_loss improved from 0.00087 to 0.00076, saving model to tmp_checkpoint.h5.keras\n",
      "\u001b[1m16/16\u001b[0m \u001b[32m━━━━━━━━━━━━━━━━━━━━\u001b[0m\u001b[37m\u001b[0m \u001b[1m0s\u001b[0m 5ms/step - loss: 0.0011 - val_loss: 7.6458e-04\n",
      "Epoch 10/200\n",
      "\u001b[1m 1/16\u001b[0m \u001b[32m━\u001b[0m\u001b[37m━━━━━━━━━━━━━━━━━━━\u001b[0m \u001b[1m0s\u001b[0m 18ms/step - loss: 7.2973e-04\n",
      "Epoch 10: val_loss improved from 0.00076 to 0.00065, saving model to tmp_checkpoint.h5.keras\n",
      "\u001b[1m16/16\u001b[0m \u001b[32m━━━━━━━━━━━━━━━━━━━━\u001b[0m\u001b[37m\u001b[0m \u001b[1m0s\u001b[0m 4ms/step - loss: 9.7313e-04 - val_loss: 6.5114e-04\n",
      "Epoch 11/200\n",
      "\u001b[1m 1/16\u001b[0m \u001b[32m━\u001b[0m\u001b[37m━━━━━━━━━━━━━━━━━━━\u001b[0m \u001b[1m0s\u001b[0m 18ms/step - loss: 6.4874e-04\n",
      "Epoch 11: val_loss improved from 0.00065 to 0.00059, saving model to tmp_checkpoint.h5.keras\n",
      "\u001b[1m16/16\u001b[0m \u001b[32m━━━━━━━━━━━━━━━━━━━━\u001b[0m\u001b[37m\u001b[0m \u001b[1m0s\u001b[0m 4ms/step - loss: 8.8119e-04 - val_loss: 5.8623e-04\n",
      "Epoch 12/200\n",
      "\u001b[1m 1/16\u001b[0m \u001b[32m━\u001b[0m\u001b[37m━━━━━━━━━━━━━━━━━━━\u001b[0m \u001b[1m0s\u001b[0m 19ms/step - loss: 8.0241e-04\n",
      "Epoch 12: val_loss improved from 0.00059 to 0.00055, saving model to tmp_checkpoint.h5.keras\n",
      "\u001b[1m16/16\u001b[0m \u001b[32m━━━━━━━━━━━━━━━━━━━━\u001b[0m\u001b[37m\u001b[0m \u001b[1m0s\u001b[0m 4ms/step - loss: 7.8601e-04 - val_loss: 5.4668e-04\n",
      "Epoch 13/200\n",
      "\u001b[1m 1/16\u001b[0m \u001b[32m━\u001b[0m\u001b[37m━━━━━━━━━━━━━━━━━━━\u001b[0m \u001b[1m0s\u001b[0m 18ms/step - loss: 9.1609e-04\n",
      "Epoch 13: val_loss improved from 0.00055 to 0.00049, saving model to tmp_checkpoint.h5.keras\n",
      "\u001b[1m16/16\u001b[0m \u001b[32m━━━━━━━━━━━━━━━━━━━━\u001b[0m\u001b[37m\u001b[0m \u001b[1m0s\u001b[0m 4ms/step - loss: 7.1629e-04 - val_loss: 4.9247e-04\n",
      "Epoch 14/200\n",
      "\u001b[1m 1/16\u001b[0m \u001b[32m━\u001b[0m\u001b[37m━━━━━━━━━━━━━━━━━━━\u001b[0m \u001b[1m0s\u001b[0m 19ms/step - loss: 2.8575e-04\n",
      "Epoch 14: val_loss improved from 0.00049 to 0.00047, saving model to tmp_checkpoint.h5.keras\n",
      "\u001b[1m16/16\u001b[0m \u001b[32m━━━━━━━━━━━━━━━━━━━━\u001b[0m\u001b[37m\u001b[0m \u001b[1m0s\u001b[0m 4ms/step - loss: 6.5546e-04 - val_loss: 4.7483e-04\n",
      "Epoch 15/200\n",
      "\u001b[1m 1/16\u001b[0m \u001b[32m━\u001b[0m\u001b[37m━━━━━━━━━━━━━━━━━━━\u001b[0m \u001b[1m0s\u001b[0m 18ms/step - loss: 4.8328e-04\n",
      "Epoch 15: val_loss improved from 0.00047 to 0.00045, saving model to tmp_checkpoint.h5.keras\n",
      "\u001b[1m16/16\u001b[0m \u001b[32m━━━━━━━━━━━━━━━━━━━━\u001b[0m\u001b[37m\u001b[0m \u001b[1m0s\u001b[0m 4ms/step - loss: 6.2618e-04 - val_loss: 4.4623e-04\n",
      "Epoch 16/200\n",
      "\u001b[1m 1/16\u001b[0m \u001b[32m━\u001b[0m\u001b[37m━━━━━━━━━━━━━━━━━━━\u001b[0m \u001b[1m0s\u001b[0m 18ms/step - loss: 3.4255e-04\n",
      "Epoch 16: val_loss did not improve from 0.00045\n",
      "\u001b[1m16/16\u001b[0m \u001b[32m━━━━━━━━━━━━━━━━━━━━\u001b[0m\u001b[37m\u001b[0m \u001b[1m0s\u001b[0m 3ms/step - loss: 6.1544e-04 - val_loss: 4.4811e-04\n",
      "Epoch 17/200\n",
      "\u001b[1m 1/16\u001b[0m \u001b[32m━\u001b[0m\u001b[37m━━━━━━━━━━━━━━━━━━━\u001b[0m \u001b[1m0s\u001b[0m 17ms/step - loss: 5.1356e-04\n",
      "Epoch 17: val_loss improved from 0.00045 to 0.00043, saving model to tmp_checkpoint.h5.keras\n",
      "\u001b[1m16/16\u001b[0m \u001b[32m━━━━━━━━━━━━━━━━━━━━\u001b[0m\u001b[37m\u001b[0m \u001b[1m0s\u001b[0m 4ms/step - loss: 6.3222e-04 - val_loss: 4.2530e-04\n",
      "Epoch 18/200\n",
      "\u001b[1m 1/16\u001b[0m \u001b[32m━\u001b[0m\u001b[37m━━━━━━━━━━━━━━━━━━━\u001b[0m \u001b[1m0s\u001b[0m 18ms/step - loss: 2.6094e-04\n",
      "Epoch 18: val_loss did not improve from 0.00043\n",
      "\u001b[1m16/16\u001b[0m \u001b[32m━━━━━━━━━━━━━━━━━━━━\u001b[0m\u001b[37m\u001b[0m \u001b[1m0s\u001b[0m 3ms/step - loss: 5.8379e-04 - val_loss: 4.2714e-04\n",
      "Epoch 19/200\n",
      "\u001b[1m 1/16\u001b[0m \u001b[32m━\u001b[0m\u001b[37m━━━━━━━━━━━━━━━━━━━\u001b[0m \u001b[1m0s\u001b[0m 15ms/step - loss: 3.4665e-04\n",
      "Epoch 19: val_loss improved from 0.00043 to 0.00041, saving model to tmp_checkpoint.h5.keras\n",
      "\u001b[1m16/16\u001b[0m \u001b[32m━━━━━━━━━━━━━━━━━━━━\u001b[0m\u001b[37m\u001b[0m \u001b[1m0s\u001b[0m 4ms/step - loss: 5.8579e-04 - val_loss: 4.0596e-04\n",
      "Epoch 20/200\n",
      "\u001b[1m 1/16\u001b[0m \u001b[32m━\u001b[0m\u001b[37m━━━━━━━━━━━━━━━━━━━\u001b[0m \u001b[1m0s\u001b[0m 19ms/step - loss: 3.1577e-04\n",
      "Epoch 20: val_loss did not improve from 0.00041\n",
      "\u001b[1m16/16\u001b[0m \u001b[32m━━━━━━━━━━━━━━━━━━━━\u001b[0m\u001b[37m\u001b[0m \u001b[1m0s\u001b[0m 3ms/step - loss: 5.9229e-04 - val_loss: 4.1647e-04\n",
      "Epoch 21/200\n",
      "\u001b[1m 1/16\u001b[0m \u001b[32m━\u001b[0m\u001b[37m━━━━━━━━━━━━━━━━━━━\u001b[0m \u001b[1m0s\u001b[0m 19ms/step - loss: 4.6785e-04\n",
      "Epoch 21: val_loss did not improve from 0.00041\n",
      "\u001b[1m16/16\u001b[0m \u001b[32m━━━━━━━━━━━━━━━━━━━━\u001b[0m\u001b[37m\u001b[0m \u001b[1m0s\u001b[0m 3ms/step - loss: 5.5782e-04 - val_loss: 4.0674e-04\n",
      "Epoch 22/200\n",
      "\u001b[1m 1/16\u001b[0m \u001b[32m━\u001b[0m\u001b[37m━━━━━━━━━━━━━━━━━━━\u001b[0m \u001b[1m0s\u001b[0m 18ms/step - loss: 2.5637e-04\n",
      "Epoch 22: val_loss improved from 0.00041 to 0.00039, saving model to tmp_checkpoint.h5.keras\n",
      "\u001b[1m16/16\u001b[0m \u001b[32m━━━━━━━━━━━━━━━━━━━━\u001b[0m\u001b[37m\u001b[0m \u001b[1m0s\u001b[0m 4ms/step - loss: 5.4545e-04 - val_loss: 3.9275e-04\n",
      "Epoch 23/200\n",
      "\u001b[1m 1/16\u001b[0m \u001b[32m━\u001b[0m\u001b[37m━━━━━━━━━━━━━━━━━━━\u001b[0m \u001b[1m0s\u001b[0m 19ms/step - loss: 2.5775e-04\n",
      "Epoch 23: val_loss did not improve from 0.00039\n",
      "\u001b[1m16/16\u001b[0m \u001b[32m━━━━━━━━━━━━━━━━━━━━\u001b[0m\u001b[37m\u001b[0m \u001b[1m0s\u001b[0m 4ms/step - loss: 5.3498e-04 - val_loss: 3.9801e-04\n",
      "Epoch 24/200\n",
      "\u001b[1m 1/16\u001b[0m \u001b[32m━\u001b[0m\u001b[37m━━━━━━━━━━━━━━━━━━━\u001b[0m \u001b[1m0s\u001b[0m 18ms/step - loss: 6.2554e-04\n",
      "Epoch 24: val_loss improved from 0.00039 to 0.00039, saving model to tmp_checkpoint.h5.keras\n",
      "\u001b[1m16/16\u001b[0m \u001b[32m━━━━━━━━━━━━━━━━━━━━\u001b[0m\u001b[37m\u001b[0m \u001b[1m0s\u001b[0m 4ms/step - loss: 5.3344e-04 - val_loss: 3.8983e-04\n",
      "Epoch 25/200\n",
      "\u001b[1m 1/16\u001b[0m \u001b[32m━\u001b[0m\u001b[37m━━━━━━━━━━━━━━━━━━━\u001b[0m \u001b[1m0s\u001b[0m 18ms/step - loss: 8.6269e-04\n",
      "Epoch 25: val_loss improved from 0.00039 to 0.00039, saving model to tmp_checkpoint.h5.keras\n",
      "\u001b[1m16/16\u001b[0m \u001b[32m━━━━━━━━━━━━━━━━━━━━\u001b[0m\u001b[37m\u001b[0m \u001b[1m0s\u001b[0m 4ms/step - loss: 5.2412e-04 - val_loss: 3.8970e-04\n",
      "Epoch 26/200\n",
      "\u001b[1m 1/16\u001b[0m \u001b[32m━\u001b[0m\u001b[37m━━━━━━━━━━━━━━━━━━━\u001b[0m \u001b[1m0s\u001b[0m 19ms/step - loss: 2.4344e-04\n",
      "Epoch 26: val_loss improved from 0.00039 to 0.00038, saving model to tmp_checkpoint.h5.keras\n",
      "\u001b[1m16/16\u001b[0m \u001b[32m━━━━━━━━━━━━━━━━━━━━\u001b[0m\u001b[37m\u001b[0m \u001b[1m0s\u001b[0m 4ms/step - loss: 5.3571e-04 - val_loss: 3.7916e-04\n",
      "Epoch 27/200\n",
      "\u001b[1m 1/16\u001b[0m \u001b[32m━\u001b[0m\u001b[37m━━━━━━━━━━━━━━━━━━━\u001b[0m \u001b[1m0s\u001b[0m 20ms/step - loss: 2.9643e-04\n",
      "Epoch 27: val_loss did not improve from 0.00038\n",
      "\u001b[1m16/16\u001b[0m \u001b[32m━━━━━━━━━━━━━━━━━━━━\u001b[0m\u001b[37m\u001b[0m \u001b[1m0s\u001b[0m 3ms/step - loss: 5.2290e-04 - val_loss: 3.8221e-04\n",
      "Epoch 28/200\n",
      "\u001b[1m 1/16\u001b[0m \u001b[32m━\u001b[0m\u001b[37m━━━━━━━━━━━━━━━━━━━\u001b[0m \u001b[1m0s\u001b[0m 18ms/step - loss: 7.0508e-04\n",
      "Epoch 28: val_loss did not improve from 0.00038\n",
      "\u001b[1m16/16\u001b[0m \u001b[32m━━━━━━━━━━━━━━━━━━━━\u001b[0m\u001b[37m\u001b[0m \u001b[1m0s\u001b[0m 3ms/step - loss: 5.1234e-04 - val_loss: 3.9235e-04\n",
      "Epoch 29/200\n",
      "\u001b[1m 1/16\u001b[0m \u001b[32m━\u001b[0m\u001b[37m━━━━━━━━━━━━━━━━━━━\u001b[0m \u001b[1m0s\u001b[0m 21ms/step - loss: 3.4922e-04\n",
      "Epoch 29: val_loss did not improve from 0.00038\n",
      "\u001b[1m16/16\u001b[0m \u001b[32m━━━━━━━━━━━━━━━━━━━━\u001b[0m\u001b[37m\u001b[0m \u001b[1m0s\u001b[0m 4ms/step - loss: 5.1699e-04 - val_loss: 3.8276e-04\n",
      "Epoch 30/200\n",
      "\u001b[1m 1/16\u001b[0m \u001b[32m━\u001b[0m\u001b[37m━━━━━━━━━━━━━━━━━━━\u001b[0m \u001b[1m0s\u001b[0m 18ms/step - loss: 4.5781e-04\n",
      "Epoch 30: val_loss did not improve from 0.00038\n",
      "\u001b[1m16/16\u001b[0m \u001b[32m━━━━━━━━━━━━━━━━━━━━\u001b[0m\u001b[37m\u001b[0m \u001b[1m0s\u001b[0m 3ms/step - loss: 5.1386e-04 - val_loss: 3.8681e-04\n",
      "Epoch 31/200\n",
      "\u001b[1m 1/16\u001b[0m \u001b[32m━\u001b[0m\u001b[37m━━━━━━━━━━━━━━━━━━━\u001b[0m \u001b[1m0s\u001b[0m 17ms/step - loss: 4.6058e-04\n",
      "Epoch 31: val_loss did not improve from 0.00038\n",
      "\u001b[1m16/16\u001b[0m \u001b[32m━━━━━━━━━━━━━━━━━━━━\u001b[0m\u001b[37m\u001b[0m \u001b[1m0s\u001b[0m 3ms/step - loss: 5.1153e-04 - val_loss: 3.8497e-04\n"
     ]
    }
   ],
   "source": [
    "history = model.fit(\n",
    "    x_train,\n",
    "    y_train,\n",
    "    epochs=200,\n",
    "    batch_size=16,\n",
    "    validation_data=(x_valid, y_valid),\n",
    "    callbacks=[early_stop, checkpoint],\n",
    ")"
   ]
  },
  {
   "cell_type": "markdown",
   "id": "0409b1d1",
   "metadata": {},
   "source": [
    "# 학습한 모델로 미래 주가 예측하기\n",
    "\n",
    "- predict()\n",
    "  - 임의의 입력에 대한 모델의 출력값을 확인\n",
    "  - 첫번째 인자 = 예측하고자 하는 데이터\n",
    "  - batch_size = 배치크기\n"
   ]
  },
  {
   "cell_type": "code",
   "execution_count": 18,
   "id": "7c8ffc0d",
   "metadata": {},
   "outputs": [
    {
     "name": "stdout",
     "output_type": "stream",
     "text": [
      "\u001b[1m1/1\u001b[0m \u001b[32m━━━━━━━━━━━━━━━━━━━━\u001b[0m\u001b[37m\u001b[0m \u001b[1m0s\u001b[0m 76ms/step\n"
     ]
    }
   ],
   "source": [
    "# weight 로딩\n",
    "model.load_weights(filename)\n",
    "\n",
    "# 예측\n",
    "pred = model.predict(test_feature)"
   ]
  },
  {
   "cell_type": "code",
   "execution_count": 19,
   "id": "d701e32f",
   "metadata": {},
   "outputs": [
    {
     "data": {
      "text/plain": [
       "array([[0.7783667 ],\n",
       "       [0.75093126],\n",
       "       [0.73876345],\n",
       "       [0.73389447],\n",
       "       [0.7195723 ],\n",
       "       [0.7362107 ],\n",
       "       [0.7484019 ],\n",
       "       [0.75793207],\n",
       "       [0.7640226 ],\n",
       "       [0.76586664],\n",
       "       [0.7724701 ],\n",
       "       [0.7821511 ],\n",
       "       [0.79413116],\n",
       "       [0.7987037 ],\n",
       "       [0.809185  ],\n",
       "       [0.8103343 ],\n",
       "       [0.80457926],\n",
       "       [0.8002938 ],\n",
       "       [0.8163563 ],\n",
       "       [0.827441  ],\n",
       "       [0.835165  ],\n",
       "       [0.84399235],\n",
       "       [0.85231185],\n",
       "       [0.86792076],\n",
       "       [0.922271  ]], dtype=float32)"
      ]
     },
     "execution_count": 19,
     "metadata": {},
     "output_type": "execute_result"
    }
   ],
   "source": [
    "pred"
   ]
  },
  {
   "cell_type": "markdown",
   "id": "702fac7f",
   "metadata": {},
   "source": [
    "- 결과 시각화하기\n"
   ]
  },
  {
   "cell_type": "code",
   "execution_count": 20,
   "id": "b417083d",
   "metadata": {},
   "outputs": [
    {
     "data": {
      "image/png": "[encoded data removed]",
      "text/plain": [
       "<Figure size 1200x900 with 1 Axes>"
      ]
     },
     "metadata": {},
     "output_type": "display_data"
    }
   ],
   "source": [
    "import matplotlib.pyplot as plt\n",
    "\n",
    "plt.figure(figsize=(12, 9))\n",
    "plt.plot(test_label, label=\"actual\")\n",
    "plt.plot(pred, label=\"prediction\")\n",
    "plt.legend()\n",
    "plt.show()"
   ]
  },
  {
   "cell_type": "markdown",
   "id": "60e744cb",
   "metadata": {},
   "source": [
    "- 정규화 이전 값으로 복원하기\n",
    "- sklearn.preprocessing.MinMaxScaler\n",
    "  - fit(self, X, y=None)\n",
    "    - 데이터를 분석하여 최소값과 최대값을 계산해 이후 스케일링에 필요한 기준을 설정\n",
    "  - transform(self, X)\n",
    "    - 기준에 따라 데이터를 정규화하여 범위 내로 스케일링\n",
    "  - fit_transform(self, X, y=None, \\*\\*fit_params)\n",
    "    - 데이터를 학습하고 동시에 변환을 수행하여 정규화된 결과를 반환\n",
    "  - inverse_transform(self, X)\n",
    "    - 정규화된 데이터를 원래의 스케일로 복원하여 원래 값으로 되돌림\n"
   ]
  },
  {
   "cell_type": "code",
   "execution_count": 28,
   "id": "6ada4693",
   "metadata": {},
   "outputs": [
    {
     "name": "stdout",
     "output_type": "stream",
     "text": [
      "0.004187658852839171\n",
      "14\n",
      "14.83780937810625\n"
     ]
    }
   ],
   "source": [
    "print(df_scaled[\"Open\"][0])\n",
    "\n",
    "# 정규화 이전 값으로 복원하기\n",
    "df_price_ori = scaler.inverse_transform(df_scaled)\n",
    "print(int(df_price_ori[0][0]))\n",
    "print(df_price[\"Open\"][\"NVDA\"][0])"
   ]
  },
  {
   "cell_type": "code",
   "execution_count": 29,
   "id": "f9b566aa",
   "metadata": {},
   "outputs": [
    {
     "name": "stdout",
     "output_type": "stream",
     "text": [
      "14.46114496790957 104.40744275224449\n",
      "14.021536170907764 102.95902173434023\n",
      "14.55106598124575 106.43263768991142\n",
      "14.252331733703613 106.42664337158203\n"
     ]
    }
   ],
   "source": [
    "print(min(df_price[\"Open\"][\"NVDA\"]), max(df_price[\"Open\"][\"NVDA\"]))\n",
    "print(min(df_price[\"Low\"][\"NVDA\"]), max(df_price[\"Low\"][\"NVDA\"]))\n",
    "print(min(df_price[\"High\"][\"NVDA\"]), max(df_price[\"High\"][\"NVDA\"]))\n",
    "print(min(df_price[\"Close\"][\"NVDA\"]), max(df_price[\"Close\"][\"NVDA\"]))"
   ]
  },
  {
   "cell_type": "code",
   "execution_count": 30,
   "id": "582770c6",
   "metadata": {},
   "outputs": [
    {
     "data": {
      "text/plain": [
       "array([1.04407443e+02, 1.06432638e+02, 1.02959022e+02, 1.06426643e+02,\n",
       "       1.54391100e+09])"
      ]
     },
     "execution_count": 30,
     "metadata": {},
     "output_type": "execute_result"
    }
   ],
   "source": [
    "scaler.data_max_"
   ]
  },
  {
   "cell_type": "code",
   "execution_count": 31,
   "id": "ed65f691",
   "metadata": {},
   "outputs": [
    {
     "data": {
      "text/plain": [
       "array([1.44611450e+01, 1.45510660e+01, 1.40215362e+01, 1.42523317e+01,\n",
       "       1.98209000e+08])"
      ]
     },
     "execution_count": 31,
     "metadata": {},
     "output_type": "execute_result"
    }
   ],
   "source": [
    "scaler.data_min_"
   ]
  },
  {
   "cell_type": "code",
   "execution_count": 32,
   "id": "9981dfa2",
   "metadata": {},
   "outputs": [
    {
     "data": {
      "text/plain": [
       "array([-0.16077532, -0.15836762, -0.15765609, -0.15462369, -0.14729041])"
      ]
     },
     "execution_count": 32,
     "metadata": {},
     "output_type": "execute_result"
    }
   ],
   "source": [
    "scaler.min_"
   ]
  },
  {
   "cell_type": "code",
   "execution_count": 34,
   "id": "fb079cc0",
   "metadata": {},
   "outputs": [
    {
     "data": {
      "text/plain": [
       "array([1.11177450e-02, 1.08835753e-02, 1.12438528e-02, 1.08490097e-02,\n",
       "       7.43106572e-10])"
      ]
     },
     "execution_count": 34,
     "metadata": {},
     "output_type": "execute_result"
    }
   ],
   "source": [
    "scaler.scale_"
   ]
  },
  {
   "cell_type": "code",
   "execution_count": 37,
   "id": "f1f7b4ca",
   "metadata": {},
   "outputs": [
    {
     "data": {
      "text/plain": [
       "14"
      ]
     },
     "execution_count": 37,
     "metadata": {},
     "output_type": "execute_result"
    }
   ],
   "source": [
    "int((0.004187658852839171 - scaler.min_[0]) / scaler.scale_[0])"
   ]
  },
  {
   "cell_type": "code",
   "execution_count": 38,
   "id": "f28d69ef",
   "metadata": {},
   "outputs": [
    {
     "data": {
      "text/plain": [
       "np.float64(0.004187658852839171)"
      ]
     },
     "execution_count": 38,
     "metadata": {},
     "output_type": "execute_result"
    }
   ],
   "source": [
    "scaler.scale_[0] * 14.83780937810625 + scaler.min_[0]"
   ]
  },
  {
   "cell_type": "code",
   "execution_count": 40,
   "id": "f7133581",
   "metadata": {},
   "outputs": [
    {
     "data": {
      "text/plain": [
       "array([[0.7783667 ],\n",
       "       [0.75093126],\n",
       "       [0.73876345],\n",
       "       [0.73389447],\n",
       "       [0.7195723 ],\n",
       "       [0.7362107 ],\n",
       "       [0.7484019 ],\n",
       "       [0.75793207],\n",
       "       [0.7640226 ],\n",
       "       [0.76586664],\n",
       "       [0.7724701 ],\n",
       "       [0.7821511 ],\n",
       "       [0.79413116],\n",
       "       [0.7987037 ],\n",
       "       [0.809185  ],\n",
       "       [0.8103343 ],\n",
       "       [0.80457926],\n",
       "       [0.8002938 ],\n",
       "       [0.8163563 ],\n",
       "       [0.827441  ],\n",
       "       [0.835165  ],\n",
       "       [0.84399235],\n",
       "       [0.85231185],\n",
       "       [0.86792076],\n",
       "       [0.922271  ]], dtype=float32)"
      ]
     },
     "execution_count": 40,
     "metadata": {},
     "output_type": "execute_result"
    }
   ],
   "source": [
    "pred"
   ]
  },
  {
   "cell_type": "code",
   "execution_count": null,
   "id": "d5688cab",
   "metadata": {},
   "outputs": [
    {
     "data": {
      "text/plain": [
       "array([[85.99774512],\n",
       "       [83.46890399],\n",
       "       [82.34734435],\n",
       "       [81.89854908],\n",
       "       [80.57841368],\n",
       "       [82.11204658],\n",
       "       [83.23575988],\n",
       "       [84.11419827],\n",
       "       [84.67558793],\n",
       "       [84.84556183],\n",
       "       [85.45423299],\n",
       "       [86.34657125],\n",
       "       [87.45082474],\n",
       "       [87.87229276],\n",
       "       [88.83840468],\n",
       "       [88.94434032],\n",
       "       [88.41387099],\n",
       "       [88.01886215],\n",
       "       [89.49941186],\n",
       "       [90.52113422],\n",
       "       [91.23309291],\n",
       "       [92.04674585],\n",
       "       [92.81358977],\n",
       "       [94.25233001],\n",
       "       [99.26202752]])"
      ]
     },
     "execution_count": 39,
     "metadata": {},
     "output_type": "execute_result"
    }
   ],
   "source": [
    "ori_pred = (pred - scaler.min_[3]) / scaler.scale_[3]\n",
    "ori_pred"
   ]
  },
  {
   "cell_type": "code",
   "execution_count": 41,
   "id": "6435f9e1",
   "metadata": {},
   "outputs": [
    {
     "data": {
      "image/png": "[encoded data removed]",
      "text/plain": [
       "<Figure size 1200x900 with 1 Axes>"
      ]
     },
     "metadata": {},
     "output_type": "display_data"
    }
   ],
   "source": [
    "plt.figure(figsize=(12, 9))\n",
    "plt.plot(test_label, label=\"actual\")\n",
    "plt.plot(pred, label=\"prediction\")\n",
    "plt.legend()\n",
    "plt.show()\n"
   ]
  },
  {
   "cell_type": "code",
   "execution_count": 42,
   "id": "f5915b05",
   "metadata": {},
   "outputs": [
    {
     "data": {
      "text/plain": [
       "array([[0.70772459],\n",
       "       [0.73922845],\n",
       "       [0.70944888],\n",
       "       [0.74149498],\n",
       "       [0.79683551],\n",
       "       [0.79707397],\n",
       "       [0.78237957],\n",
       "       [0.74593037],\n",
       "       [0.77603531],\n",
       "       [0.80826574],\n",
       "       [0.84460634],\n",
       "       [0.82740662],\n",
       "       [0.82586674],\n",
       "       [0.80781025],\n",
       "       [0.82007556],\n",
       "       [0.82572578],\n",
       "       [0.83610407],\n",
       "       [0.87160951],\n",
       "       [0.86867063],\n",
       "       [0.84828255],\n",
       "       [0.8732363 ],\n",
       "       [0.87980818],\n",
       "       [0.87507995],\n",
       "       [0.97104467],\n",
       "       [1.        ]])"
      ]
     },
     "execution_count": 42,
     "metadata": {},
     "output_type": "execute_result"
    }
   ],
   "source": [
    "test_label"
   ]
  },
  {
   "cell_type": "code",
   "execution_count": 43,
   "id": "3032abe9",
   "metadata": {},
   "outputs": [
    {
     "data": {
      "text/plain": [
       "array([[ 79.48635864],\n",
       "       [ 82.39020538],\n",
       "       [ 79.64529419],\n",
       "       [ 82.59912109],\n",
       "       [ 87.70009613],\n",
       "       [ 87.72207642],\n",
       "       [ 86.36763   ],\n",
       "       [ 83.00794983],\n",
       "       [ 85.78285217],\n",
       "       [ 88.75366974],\n",
       "       [ 92.10334015],\n",
       "       [ 90.51796722],\n",
       "       [ 90.37602997],\n",
       "       [ 88.71168518],\n",
       "       [ 89.84223175],\n",
       "       [ 90.36303711],\n",
       "       [ 91.31964874],\n",
       "       [ 94.59233856],\n",
       "       [ 94.32144928],\n",
       "       [ 92.44219208],\n",
       "       [ 94.74228668],\n",
       "       [ 95.34804535],\n",
       "       [ 94.91222382],\n",
       "       [103.75770569],\n",
       "       [106.42664337]])"
      ]
     },
     "execution_count": 43,
     "metadata": {},
     "output_type": "execute_result"
    }
   ],
   "source": [
    "ori_test_label = (test_label - scaler.min_[3]) / scaler.scale_[3]\n",
    "ori_test_label"
   ]
  },
  {
   "cell_type": "code",
   "execution_count": 44,
   "id": "ae66a326",
   "metadata": {},
   "outputs": [
    {
     "data": {
      "text/html": [
       "<div>\n",
       "<style scoped>\n",
       "    .dataframe tbody tr th:only-of-type {\n",
       "        vertical-align: middle;\n",
       "    }\n",
       "\n",
       "    .dataframe tbody tr th {\n",
       "        vertical-align: top;\n",
       "    }\n",
       "\n",
       "    .dataframe thead tr th {\n",
       "        text-align: left;\n",
       "    }\n",
       "</style>\n",
       "<table border=\"1\" class=\"dataframe\">\n",
       "  <thead>\n",
       "    <tr>\n",
       "      <th>Price</th>\n",
       "      <th>Date</th>\n",
       "      <th>Close</th>\n",
       "      <th>High</th>\n",
       "      <th>Low</th>\n",
       "      <th>Open</th>\n",
       "      <th>Volume</th>\n",
       "    </tr>\n",
       "    <tr>\n",
       "      <th>Ticker</th>\n",
       "      <th></th>\n",
       "      <th>NVDA</th>\n",
       "      <th>NVDA</th>\n",
       "      <th>NVDA</th>\n",
       "      <th>NVDA</th>\n",
       "      <th>NVDA</th>\n",
       "    </tr>\n",
       "  </thead>\n",
       "  <tbody>\n",
       "    <tr>\n",
       "      <th>321</th>\n",
       "      <td>2024-04-15</td>\n",
       "      <td>85.966774</td>\n",
       "      <td>90.576938</td>\n",
       "      <td>85.894804</td>\n",
       "      <td>89.062542</td>\n",
       "      <td>443077000</td>\n",
       "    </tr>\n",
       "    <tr>\n",
       "      <th>322</th>\n",
       "      <td>2024-04-16</td>\n",
       "      <td>87.380219</td>\n",
       "      <td>88.082934</td>\n",
       "      <td>86.029758</td>\n",
       "      <td>86.398607</td>\n",
       "      <td>370453000</td>\n",
       "    </tr>\n",
       "    <tr>\n",
       "      <th>323</th>\n",
       "      <td>2024-04-17</td>\n",
       "      <td>84.001556</td>\n",
       "      <td>88.739668</td>\n",
       "      <td>83.916584</td>\n",
       "      <td>88.304836</td>\n",
       "      <td>495400000</td>\n",
       "    </tr>\n",
       "    <tr>\n",
       "      <th>324</th>\n",
       "      <td>2024-04-18</td>\n",
       "      <td>84.637299</td>\n",
       "      <td>86.155699</td>\n",
       "      <td>82.369204</td>\n",
       "      <td>84.936183</td>\n",
       "      <td>447260000</td>\n",
       "    </tr>\n",
       "    <tr>\n",
       "      <th>325</th>\n",
       "      <td>2024-04-19</td>\n",
       "      <td>76.169685</td>\n",
       "      <td>84.290454</td>\n",
       "      <td>75.575928</td>\n",
       "      <td>83.116925</td>\n",
       "      <td>875198000</td>\n",
       "    </tr>\n",
       "    <tr>\n",
       "      <th>326</th>\n",
       "      <td>2024-04-22</td>\n",
       "      <td>79.486359</td>\n",
       "      <td>80.041138</td>\n",
       "      <td>76.369603</td>\n",
       "      <td>78.072920</td>\n",
       "      <td>596341000</td>\n",
       "    </tr>\n",
       "    <tr>\n",
       "      <th>327</th>\n",
       "      <td>2024-04-23</td>\n",
       "      <td>82.390205</td>\n",
       "      <td>82.736068</td>\n",
       "      <td>80.232068</td>\n",
       "      <td>80.736864</td>\n",
       "      <td>438559000</td>\n",
       "    </tr>\n",
       "    <tr>\n",
       "      <th>328</th>\n",
       "      <td>2024-04-24</td>\n",
       "      <td>79.645294</td>\n",
       "      <td>84.048540</td>\n",
       "      <td>79.151487</td>\n",
       "      <td>83.916589</td>\n",
       "      <td>512208000</td>\n",
       "    </tr>\n",
       "    <tr>\n",
       "      <th>329</th>\n",
       "      <td>2024-04-25</td>\n",
       "      <td>82.599121</td>\n",
       "      <td>83.289840</td>\n",
       "      <td>78.191871</td>\n",
       "      <td>78.836611</td>\n",
       "      <td>424641000</td>\n",
       "    </tr>\n",
       "    <tr>\n",
       "      <th>330</th>\n",
       "      <td>2024-04-26</td>\n",
       "      <td>87.700096</td>\n",
       "      <td>88.295860</td>\n",
       "      <td>83.353826</td>\n",
       "      <td>83.784655</td>\n",
       "      <td>551011000</td>\n",
       "    </tr>\n",
       "    <tr>\n",
       "      <th>331</th>\n",
       "      <td>2024-04-29</td>\n",
       "      <td>87.722076</td>\n",
       "      <td>87.956976</td>\n",
       "      <td>85.232063</td>\n",
       "      <td>87.560138</td>\n",
       "      <td>388971000</td>\n",
       "    </tr>\n",
       "    <tr>\n",
       "      <th>332</th>\n",
       "      <td>2024-04-30</td>\n",
       "      <td>86.367630</td>\n",
       "      <td>88.783668</td>\n",
       "      <td>86.265673</td>\n",
       "      <td>87.205294</td>\n",
       "      <td>363709000</td>\n",
       "    </tr>\n",
       "    <tr>\n",
       "      <th>333</th>\n",
       "      <td>2024-05-01</td>\n",
       "      <td>83.007950</td>\n",
       "      <td>85.965772</td>\n",
       "      <td>81.222658</td>\n",
       "      <td>85.043143</td>\n",
       "      <td>559863000</td>\n",
       "    </tr>\n",
       "    <tr>\n",
       "      <th>334</th>\n",
       "      <td>2024-05-02</td>\n",
       "      <td>85.782852</td>\n",
       "      <td>86.202683</td>\n",
       "      <td>83.166889</td>\n",
       "      <td>84.415393</td>\n",
       "      <td>377898000</td>\n",
       "    </tr>\n",
       "    <tr>\n",
       "      <th>335</th>\n",
       "      <td>2024-05-03</td>\n",
       "      <td>88.753670</td>\n",
       "      <td>89.245471</td>\n",
       "      <td>87.005365</td>\n",
       "      <td>87.754068</td>\n",
       "      <td>398341000</td>\n",
       "    </tr>\n",
       "    <tr>\n",
       "      <th>336</th>\n",
       "      <td>2024-05-06</td>\n",
       "      <td>92.103340</td>\n",
       "      <td>92.183310</td>\n",
       "      <td>89.019568</td>\n",
       "      <td>89.354434</td>\n",
       "      <td>376203000</td>\n",
       "    </tr>\n",
       "    <tr>\n",
       "      <th>337</th>\n",
       "      <td>2024-05-07</td>\n",
       "      <td>90.517967</td>\n",
       "      <td>91.744476</td>\n",
       "      <td>88.975582</td>\n",
       "      <td>91.061749</td>\n",
       "      <td>437342000</td>\n",
       "    </tr>\n",
       "    <tr>\n",
       "      <th>338</th>\n",
       "      <td>2024-05-08</td>\n",
       "      <td>90.376030</td>\n",
       "      <td>91.157717</td>\n",
       "      <td>89.384420</td>\n",
       "      <td>89.447399</td>\n",
       "      <td>325721000</td>\n",
       "    </tr>\n",
       "    <tr>\n",
       "      <th>339</th>\n",
       "      <td>2024-05-09</td>\n",
       "      <td>88.711685</td>\n",
       "      <td>91.035757</td>\n",
       "      <td>88.195892</td>\n",
       "      <td>90.492974</td>\n",
       "      <td>378013000</td>\n",
       "    </tr>\n",
       "    <tr>\n",
       "      <th>340</th>\n",
       "      <td>2024-05-10</td>\n",
       "      <td>89.842232</td>\n",
       "      <td>91.364628</td>\n",
       "      <td>89.191490</td>\n",
       "      <td>90.269064</td>\n",
       "      <td>335325000</td>\n",
       "    </tr>\n",
       "    <tr>\n",
       "      <th>341</th>\n",
       "      <td>2024-05-13</td>\n",
       "      <td>90.363037</td>\n",
       "      <td>90.961798</td>\n",
       "      <td>88.493778</td>\n",
       "      <td>90.442000</td>\n",
       "      <td>289680000</td>\n",
       "    </tr>\n",
       "    <tr>\n",
       "      <th>342</th>\n",
       "      <td>2024-05-14</td>\n",
       "      <td>91.319649</td>\n",
       "      <td>91.614530</td>\n",
       "      <td>88.898608</td>\n",
       "      <td>89.563344</td>\n",
       "      <td>296507000</td>\n",
       "    </tr>\n",
       "    <tr>\n",
       "      <th>343</th>\n",
       "      <td>2024-05-15</td>\n",
       "      <td>94.592339</td>\n",
       "      <td>94.824248</td>\n",
       "      <td>91.562547</td>\n",
       "      <td>92.435200</td>\n",
       "      <td>417735000</td>\n",
       "    </tr>\n",
       "    <tr>\n",
       "      <th>344</th>\n",
       "      <td>2024-05-16</td>\n",
       "      <td>94.321449</td>\n",
       "      <td>95.780867</td>\n",
       "      <td>94.065547</td>\n",
       "      <td>94.872233</td>\n",
       "      <td>323952000</td>\n",
       "    </tr>\n",
       "    <tr>\n",
       "      <th>345</th>\n",
       "      <td>2024-05-17</td>\n",
       "      <td>92.442192</td>\n",
       "      <td>94.702294</td>\n",
       "      <td>91.769463</td>\n",
       "      <td>94.331447</td>\n",
       "      <td>359691000</td>\n",
       "    </tr>\n",
       "    <tr>\n",
       "      <th>346</th>\n",
       "      <td>2024-05-20</td>\n",
       "      <td>94.742287</td>\n",
       "      <td>95.162118</td>\n",
       "      <td>93.402824</td>\n",
       "      <td>93.712698</td>\n",
       "      <td>318764000</td>\n",
       "    </tr>\n",
       "    <tr>\n",
       "      <th>347</th>\n",
       "      <td>2024-05-21</td>\n",
       "      <td>95.348045</td>\n",
       "      <td>95.362040</td>\n",
       "      <td>93.142922</td>\n",
       "      <td>93.561754</td>\n",
       "      <td>328946000</td>\n",
       "    </tr>\n",
       "    <tr>\n",
       "      <th>348</th>\n",
       "      <td>2024-05-22</td>\n",
       "      <td>94.912224</td>\n",
       "      <td>95.981798</td>\n",
       "      <td>93.211904</td>\n",
       "      <td>95.421024</td>\n",
       "      <td>548648000</td>\n",
       "    </tr>\n",
       "    <tr>\n",
       "      <th>349</th>\n",
       "      <td>2024-05-23</td>\n",
       "      <td>103.757706</td>\n",
       "      <td>106.277699</td>\n",
       "      <td>101.479605</td>\n",
       "      <td>101.987407</td>\n",
       "      <td>835065000</td>\n",
       "    </tr>\n",
       "    <tr>\n",
       "      <th>350</th>\n",
       "      <td>2024-05-24</td>\n",
       "      <td>106.426643</td>\n",
       "      <td>106.432638</td>\n",
       "      <td>102.959022</td>\n",
       "      <td>104.407443</td>\n",
       "      <td>429494000</td>\n",
       "    </tr>\n",
       "  </tbody>\n",
       "</table>\n",
       "</div>"
      ],
      "text/plain": [
       "Price        Date       Close        High         Low        Open     Volume\n",
       "Ticker                   NVDA        NVDA        NVDA        NVDA       NVDA\n",
       "321    2024-04-15   85.966774   90.576938   85.894804   89.062542  443077000\n",
       "322    2024-04-16   87.380219   88.082934   86.029758   86.398607  370453000\n",
       "323    2024-04-17   84.001556   88.739668   83.916584   88.304836  495400000\n",
       "324    2024-04-18   84.637299   86.155699   82.369204   84.936183  447260000\n",
       "325    2024-04-19   76.169685   84.290454   75.575928   83.116925  875198000\n",
       "326    2024-04-22   79.486359   80.041138   76.369603   78.072920  596341000\n",
       "327    2024-04-23   82.390205   82.736068   80.232068   80.736864  438559000\n",
       "328    2024-04-24   79.645294   84.048540   79.151487   83.916589  512208000\n",
       "329    2024-04-25   82.599121   83.289840   78.191871   78.836611  424641000\n",
       "330    2024-04-26   87.700096   88.295860   83.353826   83.784655  551011000\n",
       "331    2024-04-29   87.722076   87.956976   85.232063   87.560138  388971000\n",
       "332    2024-04-30   86.367630   88.783668   86.265673   87.205294  363709000\n",
       "333    2024-05-01   83.007950   85.965772   81.222658   85.043143  559863000\n",
       "334    2024-05-02   85.782852   86.202683   83.166889   84.415393  377898000\n",
       "335    2024-05-03   88.753670   89.245471   87.005365   87.754068  398341000\n",
       "336    2024-05-06   92.103340   92.183310   89.019568   89.354434  376203000\n",
       "337    2024-05-07   90.517967   91.744476   88.975582   91.061749  437342000\n",
       "338    2024-05-08   90.376030   91.157717   89.384420   89.447399  325721000\n",
       "339    2024-05-09   88.711685   91.035757   88.195892   90.492974  378013000\n",
       "340    2024-05-10   89.842232   91.364628   89.191490   90.269064  335325000\n",
       "341    2024-05-13   90.363037   90.961798   88.493778   90.442000  289680000\n",
       "342    2024-05-14   91.319649   91.614530   88.898608   89.563344  296507000\n",
       "343    2024-05-15   94.592339   94.824248   91.562547   92.435200  417735000\n",
       "344    2024-05-16   94.321449   95.780867   94.065547   94.872233  323952000\n",
       "345    2024-05-17   92.442192   94.702294   91.769463   94.331447  359691000\n",
       "346    2024-05-20   94.742287   95.162118   93.402824   93.712698  318764000\n",
       "347    2024-05-21   95.348045   95.362040   93.142922   93.561754  328946000\n",
       "348    2024-05-22   94.912224   95.981798   93.211904   95.421024  548648000\n",
       "349    2024-05-23  103.757706  106.277699  101.479605  101.987407  835065000\n",
       "350    2024-05-24  106.426643  106.432638  102.959022  104.407443  429494000"
      ]
     },
     "execution_count": 44,
     "metadata": {},
     "output_type": "execute_result"
    }
   ],
   "source": [
    "df_price[-TEST_SIZE:]"
   ]
  },
  {
   "cell_type": "code",
   "execution_count": 45,
   "id": "8e074972",
   "metadata": {},
   "outputs": [
    {
     "data": {
      "image/png": "[encoded data removed]",
      "text/plain": [
       "<Figure size 1200x900 with 1 Axes>"
      ]
     },
     "metadata": {},
     "output_type": "display_data"
    }
   ],
   "source": [
    "plt.figure(figsize=(12, 9))\n",
    "plt.plot(ori_test_label, label=\"actual\")\n",
    "plt.plot(ori_pred, label=\"prediction\")\n",
    "plt.legend(fontsize=16)\n",
    "plt.xticks(fontsize=16)\n",
    "plt.yticks(fontsize=16)\n",
    "plt.grid(True)\n",
    "plt.show()"
   ]
  }
 ],
 "metadata": {
  "kernelspec": {
   "display_name": "ml-study (3.12.10)",
   "language": "python",
   "name": "python3"
  },
  "language_info": {
   "codemirror_mode": {
    "name": "ipython",
    "version": 3
   },
   "file_extension": ".py",
   "mimetype": "text/x-python",
   "name": "python",
   "nbconvert_exporter": "python",
   "pygments_lexer": "ipython3",
   "version": "3.12.10"
  }
 },
 "nbformat": 4,
 "nbformat_minor": 5
}
