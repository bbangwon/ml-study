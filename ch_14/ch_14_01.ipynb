{
 "cells": [
  {
   "cell_type": "markdown",
   "id": "659bf231",
   "metadata": {},
   "source": [
    "# 데이터 전처리와 스케일 조정\n",
    "\n",
    "- 데이터를 모델링하기 전에는 반드시 스케일링 과정을 거쳐야 함\n",
    "- 스케일링을 통해 다차원의 값들을 비교 분석하기 쉽게 만들어 줌\n",
    "- 자료의 오버플로우(overflow)나 언더플로우(underflow)를 방지\n",
    "- 독립 변수의 공분산 행렬의 조건수(condition number)를 감소시켜 최적화 과정에서의 안정성 및 수렴 속도를 향상\n"
   ]
  },
  {
   "cell_type": "markdown",
   "id": "ff38e086",
   "metadata": {},
   "source": [
    "- StandardScaler\n",
    "  - 각 특성의 평균을 0, 분산을 1로 변경하여 특성의 스케일을 맞춤\n",
    "  - 최솟값과 최댓값의 크기를 제한하지 않음\n",
    "- RobustScaler\n",
    "  - 평균과 분산 대신에 중간값과 사분위 값을 사용함\n",
    "  - 중간값은 정렬시 중간에 있는 값을 의미하고, 사분위값은 1/4, 3/4에 위치한 값을 의미함\n",
    "  - 전체 데이터와 아주 동떨어진 데이터 포인트(이상치)에 영향을 받지 않음\n",
    "- MinMaxScaler\n",
    "  - 모든 특성이 0과 1 사이에 위치하도록 데이터를 변경함\n",
    "- Normalizer\n",
    "  - 위와 다른 스케일 조정법으로 특성 벡터의 유클리디안 길이가 1이 되도록 조정함\n",
    "  - 즉 길이가 1인 원 또는 구로 투영하는 것이고, 각도만이 중요할 때 적용함\n",
    "  - l1, l2, max 옵션을 제공하며 유클리디안 거리인 l2가 기본값임\n"
   ]
  },
  {
   "cell_type": "markdown",
   "id": "b6d350f0",
   "metadata": {},
   "source": [
    "# 주가 데이터를 정규화하기\n",
    "\n",
    "- 사이킷런(scikit-learn)\n",
    "  - 파이썬에서 머신러닝 분석을 위해 사용할 수 있는 라이브러리\n",
    "  - 머신러닝을 위한 다양한 알고리즘과 개발을 위한 편리한 프레임워크, API를 제공\n",
    "- sklearn 패키지에 있는 MinMaxScaler를 활용하여 전체 학습 데이터를 Normalize 해주기\n",
    "  - MinMaxScaler를 해주면 전체 데이터는 0, 1사이의 값을 갖게 됨\n"
   ]
  },
  {
   "cell_type": "code",
   "execution_count": 8,
   "id": "11fd7434",
   "metadata": {},
   "outputs": [],
   "source": [
    "import numpy as np\n",
    "import pandas as pd\n",
    "import yfinance as yfin\n",
    "from pandas_datareader import data"
   ]
  },
  {
   "cell_type": "code",
   "execution_count": 2,
   "id": "e17cfb4d",
   "metadata": {},
   "outputs": [
    {
     "name": "stderr",
     "output_type": "stream",
     "text": [
      "C:\\Users\\bbang\\AppData\\Local\\Temp\\ipykernel_9120\\1026581699.py:1: FutureWarning: YF.download() has changed argument auto_adjust default to True\n",
      "  df_price = yfin.download(\"NVDA\", start=\"2023-01-01\", end=\"2024-05-28\")\n",
      "[*********************100%***********************]  1 of 1 completed\n"
     ]
    }
   ],
   "source": [
    "df_price = yfin.download(\"NVDA\", start=\"2023-01-01\", end=\"2024-05-28\")"
   ]
  },
  {
   "cell_type": "code",
   "execution_count": 3,
   "id": "980eb69f",
   "metadata": {},
   "outputs": [
    {
     "data": {
      "text/html": [
       "<div>\n",
       "<style scoped>\n",
       "    .dataframe tbody tr th:only-of-type {\n",
       "        vertical-align: middle;\n",
       "    }\n",
       "\n",
       "    .dataframe tbody tr th {\n",
       "        vertical-align: top;\n",
       "    }\n",
       "\n",
       "    .dataframe thead tr th {\n",
       "        text-align: left;\n",
       "    }\n",
       "</style>\n",
       "<table border=\"1\" class=\"dataframe\">\n",
       "  <thead>\n",
       "    <tr>\n",
       "      <th>Price</th>\n",
       "      <th>Date</th>\n",
       "      <th>Close</th>\n",
       "      <th>High</th>\n",
       "      <th>Low</th>\n",
       "      <th>Open</th>\n",
       "      <th>Volume</th>\n",
       "    </tr>\n",
       "    <tr>\n",
       "      <th>Ticker</th>\n",
       "      <th></th>\n",
       "      <th>NVDA</th>\n",
       "      <th>NVDA</th>\n",
       "      <th>NVDA</th>\n",
       "      <th>NVDA</th>\n",
       "      <th>NVDA</th>\n",
       "    </tr>\n",
       "  </thead>\n",
       "  <tbody>\n",
       "    <tr>\n",
       "      <th>0</th>\n",
       "      <td>2023-01-03</td>\n",
       "      <td>14.302285</td>\n",
       "      <td>14.982681</td>\n",
       "      <td>14.083480</td>\n",
       "      <td>14.837809</td>\n",
       "      <td>401277000</td>\n",
       "    </tr>\n",
       "    <tr>\n",
       "      <th>1</th>\n",
       "      <td>2023-01-04</td>\n",
       "      <td>14.735901</td>\n",
       "      <td>14.839809</td>\n",
       "      <td>14.228353</td>\n",
       "      <td>14.554063</td>\n",
       "      <td>431324000</td>\n",
       "    </tr>\n",
       "    <tr>\n",
       "      <th>2</th>\n",
       "      <td>2023-01-05</td>\n",
       "      <td>14.252333</td>\n",
       "      <td>14.551067</td>\n",
       "      <td>14.135436</td>\n",
       "      <td>14.478132</td>\n",
       "      <td>389168000</td>\n",
       "    </tr>\n",
       "    <tr>\n",
       "      <th>3</th>\n",
       "      <td>2023-01-06</td>\n",
       "      <td>14.845804</td>\n",
       "      <td>14.996670</td>\n",
       "      <td>14.021537</td>\n",
       "      <td>14.461146</td>\n",
       "      <td>405044000</td>\n",
       "    </tr>\n",
       "    <tr>\n",
       "      <th>4</th>\n",
       "      <td>2023-01-09</td>\n",
       "      <td>15.614120</td>\n",
       "      <td>16.041739</td>\n",
       "      <td>15.127552</td>\n",
       "      <td>15.270425</td>\n",
       "      <td>504231000</td>\n",
       "    </tr>\n",
       "    <tr>\n",
       "      <th>...</th>\n",
       "      <td>...</td>\n",
       "      <td>...</td>\n",
       "      <td>...</td>\n",
       "      <td>...</td>\n",
       "      <td>...</td>\n",
       "      <td>...</td>\n",
       "    </tr>\n",
       "    <tr>\n",
       "      <th>346</th>\n",
       "      <td>2024-05-20</td>\n",
       "      <td>94.742287</td>\n",
       "      <td>95.162118</td>\n",
       "      <td>93.402824</td>\n",
       "      <td>93.712698</td>\n",
       "      <td>318764000</td>\n",
       "    </tr>\n",
       "    <tr>\n",
       "      <th>347</th>\n",
       "      <td>2024-05-21</td>\n",
       "      <td>95.348045</td>\n",
       "      <td>95.362040</td>\n",
       "      <td>93.142922</td>\n",
       "      <td>93.561754</td>\n",
       "      <td>328946000</td>\n",
       "    </tr>\n",
       "    <tr>\n",
       "      <th>348</th>\n",
       "      <td>2024-05-22</td>\n",
       "      <td>94.912224</td>\n",
       "      <td>95.981798</td>\n",
       "      <td>93.211904</td>\n",
       "      <td>95.421024</td>\n",
       "      <td>548648000</td>\n",
       "    </tr>\n",
       "    <tr>\n",
       "      <th>349</th>\n",
       "      <td>2024-05-23</td>\n",
       "      <td>103.757706</td>\n",
       "      <td>106.277699</td>\n",
       "      <td>101.479605</td>\n",
       "      <td>101.987407</td>\n",
       "      <td>835065000</td>\n",
       "    </tr>\n",
       "    <tr>\n",
       "      <th>350</th>\n",
       "      <td>2024-05-24</td>\n",
       "      <td>106.426636</td>\n",
       "      <td>106.432630</td>\n",
       "      <td>102.959014</td>\n",
       "      <td>104.407435</td>\n",
       "      <td>429494000</td>\n",
       "    </tr>\n",
       "  </tbody>\n",
       "</table>\n",
       "<p>351 rows × 6 columns</p>\n",
       "</div>"
      ],
      "text/plain": [
       "Price        Date       Close        High         Low        Open     Volume\n",
       "Ticker                   NVDA        NVDA        NVDA        NVDA       NVDA\n",
       "0      2023-01-03   14.302285   14.982681   14.083480   14.837809  401277000\n",
       "1      2023-01-04   14.735901   14.839809   14.228353   14.554063  431324000\n",
       "2      2023-01-05   14.252333   14.551067   14.135436   14.478132  389168000\n",
       "3      2023-01-06   14.845804   14.996670   14.021537   14.461146  405044000\n",
       "4      2023-01-09   15.614120   16.041739   15.127552   15.270425  504231000\n",
       "..            ...         ...         ...         ...         ...        ...\n",
       "346    2024-05-20   94.742287   95.162118   93.402824   93.712698  318764000\n",
       "347    2024-05-21   95.348045   95.362040   93.142922   93.561754  328946000\n",
       "348    2024-05-22   94.912224   95.981798   93.211904   95.421024  548648000\n",
       "349    2024-05-23  103.757706  106.277699  101.479605  101.987407  835065000\n",
       "350    2024-05-24  106.426636  106.432630  102.959014  104.407435  429494000\n",
       "\n",
       "[351 rows x 6 columns]"
      ]
     },
     "execution_count": 3,
     "metadata": {},
     "output_type": "execute_result"
    }
   ],
   "source": [
    "df_price.reset_index(inplace=True)\n",
    "df_price"
   ]
  },
  {
   "cell_type": "code",
   "execution_count": 5,
   "id": "a8b876c1",
   "metadata": {},
   "outputs": [
    {
     "data": {
      "text/plain": [
       "array([[4.18764892e-03, 4.69750491e-03, 6.96475487e-04, 5.41935283e-04,\n",
       "        1.50901165e-01],\n",
       "       [1.03303217e-03, 3.14254179e-03, 2.32540378e-03, 5.24623648e-03,\n",
       "        1.73229289e-01],\n",
       "       [1.88845250e-04, 0.00000000e+00, 1.28066299e-03, 0.00000000e+00,\n",
       "        1.41902888e-01],\n",
       "       ...,\n",
       "       [9.00091362e-01, 8.86257570e-01, 8.90404917e-01, 8.75080022e-01,\n",
       "        2.60413524e-01],\n",
       "       [9.73094736e-01, 9.98313793e-01, 9.83365743e-01, 9.71044749e-01,\n",
       "        4.73251879e-01],\n",
       "       [1.00000000e+00, 1.00000000e+00, 1.00000000e+00, 1.00000000e+00,\n",
       "        1.71869403e-01]])"
      ]
     },
     "execution_count": 5,
     "metadata": {},
     "output_type": "execute_result"
    }
   ],
   "source": [
    "from sklearn.preprocessing import MinMaxScaler\n",
    "\n",
    "scaler = MinMaxScaler()\n",
    "scale_cols = [\"Open\", \"High\", \"Low\", \"Close\", \"Volume\"]\n",
    "df_scaled = scaler.fit_transform(df_price[scale_cols])\n",
    "df_scaled"
   ]
  },
  {
   "cell_type": "code",
   "execution_count": 6,
   "id": "3acc77a1",
   "metadata": {},
   "outputs": [
    {
     "data": {
      "text/html": [
       "<div>\n",
       "<style scoped>\n",
       "    .dataframe tbody tr th:only-of-type {\n",
       "        vertical-align: middle;\n",
       "    }\n",
       "\n",
       "    .dataframe tbody tr th {\n",
       "        vertical-align: top;\n",
       "    }\n",
       "\n",
       "    .dataframe thead th {\n",
       "        text-align: right;\n",
       "    }\n",
       "</style>\n",
       "<table border=\"1\" class=\"dataframe\">\n",
       "  <thead>\n",
       "    <tr style=\"text-align: right;\">\n",
       "      <th></th>\n",
       "      <th>Open</th>\n",
       "      <th>High</th>\n",
       "      <th>Low</th>\n",
       "      <th>Close</th>\n",
       "      <th>Volume</th>\n",
       "    </tr>\n",
       "  </thead>\n",
       "  <tbody>\n",
       "    <tr>\n",
       "      <th>0</th>\n",
       "      <td>0.004188</td>\n",
       "      <td>0.004698</td>\n",
       "      <td>0.000696</td>\n",
       "      <td>0.000542</td>\n",
       "      <td>0.150901</td>\n",
       "    </tr>\n",
       "    <tr>\n",
       "      <th>1</th>\n",
       "      <td>0.001033</td>\n",
       "      <td>0.003143</td>\n",
       "      <td>0.002325</td>\n",
       "      <td>0.005246</td>\n",
       "      <td>0.173229</td>\n",
       "    </tr>\n",
       "    <tr>\n",
       "      <th>2</th>\n",
       "      <td>0.000189</td>\n",
       "      <td>0.000000</td>\n",
       "      <td>0.001281</td>\n",
       "      <td>0.000000</td>\n",
       "      <td>0.141903</td>\n",
       "    </tr>\n",
       "    <tr>\n",
       "      <th>3</th>\n",
       "      <td>0.000000</td>\n",
       "      <td>0.004850</td>\n",
       "      <td>0.000000</td>\n",
       "      <td>0.006439</td>\n",
       "      <td>0.153700</td>\n",
       "    </tr>\n",
       "    <tr>\n",
       "      <th>4</th>\n",
       "      <td>0.008997</td>\n",
       "      <td>0.016224</td>\n",
       "      <td>0.012436</td>\n",
       "      <td>0.014774</td>\n",
       "      <td>0.227407</td>\n",
       "    </tr>\n",
       "    <tr>\n",
       "      <th>...</th>\n",
       "      <td>...</td>\n",
       "      <td>...</td>\n",
       "      <td>...</td>\n",
       "      <td>...</td>\n",
       "      <td>...</td>\n",
       "    </tr>\n",
       "    <tr>\n",
       "      <th>346</th>\n",
       "      <td>0.881099</td>\n",
       "      <td>0.877337</td>\n",
       "      <td>0.892552</td>\n",
       "      <td>0.873236</td>\n",
       "      <td>0.089585</td>\n",
       "    </tr>\n",
       "    <tr>\n",
       "      <th>347</th>\n",
       "      <td>0.879420</td>\n",
       "      <td>0.879512</td>\n",
       "      <td>0.889629</td>\n",
       "      <td>0.879808</td>\n",
       "      <td>0.097152</td>\n",
       "    </tr>\n",
       "    <tr>\n",
       "      <th>348</th>\n",
       "      <td>0.900091</td>\n",
       "      <td>0.886258</td>\n",
       "      <td>0.890405</td>\n",
       "      <td>0.875080</td>\n",
       "      <td>0.260414</td>\n",
       "    </tr>\n",
       "    <tr>\n",
       "      <th>349</th>\n",
       "      <td>0.973095</td>\n",
       "      <td>0.998314</td>\n",
       "      <td>0.983366</td>\n",
       "      <td>0.971045</td>\n",
       "      <td>0.473252</td>\n",
       "    </tr>\n",
       "    <tr>\n",
       "      <th>350</th>\n",
       "      <td>1.000000</td>\n",
       "      <td>1.000000</td>\n",
       "      <td>1.000000</td>\n",
       "      <td>1.000000</td>\n",
       "      <td>0.171869</td>\n",
       "    </tr>\n",
       "  </tbody>\n",
       "</table>\n",
       "<p>351 rows × 5 columns</p>\n",
       "</div>"
      ],
      "text/plain": [
       "         Open      High       Low     Close    Volume\n",
       "0    0.004188  0.004698  0.000696  0.000542  0.150901\n",
       "1    0.001033  0.003143  0.002325  0.005246  0.173229\n",
       "2    0.000189  0.000000  0.001281  0.000000  0.141903\n",
       "3    0.000000  0.004850  0.000000  0.006439  0.153700\n",
       "4    0.008997  0.016224  0.012436  0.014774  0.227407\n",
       "..        ...       ...       ...       ...       ...\n",
       "346  0.881099  0.877337  0.892552  0.873236  0.089585\n",
       "347  0.879420  0.879512  0.889629  0.879808  0.097152\n",
       "348  0.900091  0.886258  0.890405  0.875080  0.260414\n",
       "349  0.973095  0.998314  0.983366  0.971045  0.473252\n",
       "350  1.000000  1.000000  1.000000  1.000000  0.171869\n",
       "\n",
       "[351 rows x 5 columns]"
      ]
     },
     "execution_count": 6,
     "metadata": {},
     "output_type": "execute_result"
    }
   ],
   "source": [
    "df_scaled = pd.DataFrame(df_scaled)\n",
    "df_scaled.columns = scale_cols\n",
    "df_scaled"
   ]
  },
  {
   "cell_type": "markdown",
   "id": "bea6c9ae",
   "metadata": {},
   "source": [
    "# 학습 데이터셋과 테스트 데이터셋 생성하기\n",
    "\n",
    "- TEST_SIZE=30\n",
    "  - 학습은 과거부터 30일 이전의 데이터를 학습하게 되고, TEST를 위해서 이후 30일의 데이터로 모델이 주가를 예측하도록 한 다음, 실제 데이터와 오차가 얼마나 있는지 확인해보기\n"
   ]
  },
  {
   "cell_type": "code",
   "execution_count": 7,
   "id": "d2c54d32",
   "metadata": {},
   "outputs": [],
   "source": [
    "TEST_SIZE = 30\n",
    "train = df_scaled[:-TEST_SIZE]\n",
    "test = df_scaled[-TEST_SIZE:]"
   ]
  },
  {
   "cell_type": "markdown",
   "id": "2dfe7bbb",
   "metadata": {},
   "source": [
    "- dataset을 만들어 주는 함수\n",
    "- 정해진 window_size에 기반하여 5일 기간의 데이터셋을 묶어 주는 역할을 하는 함수\n",
    "- 순차적으로 5일 동안의 데이터셋을 묶고, 이에 맞는 label(예측 데이터)와 함께 return해 줌\n"
   ]
  },
  {
   "cell_type": "markdown",
   "id": "bbc7122d",
   "metadata": {},
   "source": [
    "- window_size\n",
    "  - 얼마 동안(기간)의 주가 데이터에 기반하여 다음날 종가를 예측할 것인가를 정하는 parameter\n",
    "  - 과거 5일을 기반으로 내일 데이터를 예측한다라고 가정했을 때, window_size=5\n"
   ]
  },
  {
   "cell_type": "code",
   "execution_count": 9,
   "id": "1f8b9f33",
   "metadata": {},
   "outputs": [],
   "source": [
    "def make_dataset(data, label, window_size=5):\n",
    "    feature_list = []\n",
    "    label_list = []\n",
    "    for i in range(len(data) - window_size):\n",
    "        feature_list.append(np.array(data.iloc[i : i + window_size]))\n",
    "        label_list.append(np.array(label.iloc[i + window_size]))\n",
    "    return np.array(feature_list), np.array(label_list)"
   ]
  },
  {
   "cell_type": "markdown",
   "id": "d4176553",
   "metadata": {},
   "source": [
    "- feature와 label 정의하기\n"
   ]
  },
  {
   "cell_type": "code",
   "execution_count": 10,
   "id": "65fa0f45",
   "metadata": {},
   "outputs": [],
   "source": [
    "feature_cols = [\"Open\", \"High\", \"Low\", \"Volume\"]\n",
    "label_cols = [\"Close\"]\n",
    "\n",
    "train_feature = train[feature_cols]\n",
    "train_label = train[label_cols]"
   ]
  },
  {
   "cell_type": "code",
   "execution_count": 11,
   "id": "46ee2799",
   "metadata": {},
   "outputs": [],
   "source": [
    "# train dataset\n",
    "train_feature, train_label = make_dataset(train_feature, train_label, 5)"
   ]
  },
  {
   "cell_type": "code",
   "execution_count": 12,
   "id": "d743d82e",
   "metadata": {},
   "outputs": [],
   "source": [
    "# train, validation set 생성\n",
    "from sklearn.model_selection import train_test_split"
   ]
  },
  {
   "cell_type": "code",
   "execution_count": 13,
   "id": "aa052213",
   "metadata": {},
   "outputs": [
    {
     "data": {
      "text/plain": [
       "((252, 5, 4), (64, 5, 4))"
      ]
     },
     "execution_count": 13,
     "metadata": {},
     "output_type": "execute_result"
    }
   ],
   "source": [
    "x_train, x_valid, y_train, y_valid = train_test_split(\n",
    "    train_feature, train_label, test_size=0.2\n",
    ")\n",
    "x_train.shape, x_valid.shape"
   ]
  },
  {
   "cell_type": "code",
   "execution_count": 14,
   "id": "a2567e26",
   "metadata": {},
   "outputs": [
    {
     "data": {
      "text/plain": [
       "((25, 5, 4), (25, 1))"
      ]
     },
     "execution_count": 14,
     "metadata": {},
     "output_type": "execute_result"
    }
   ],
   "source": [
    "# test_dataset\n",
    "test_feature = test[feature_cols]\n",
    "test_label = test[label_cols]\n",
    "\n",
    "# test dataset (실제 예측해 볼 데이터)\n",
    "test_feature, test_label = make_dataset(test_feature, test_label, 5)\n",
    "test_feature.shape, test_label.shape"
   ]
  }
 ],
 "metadata": {
  "kernelspec": {
   "display_name": "ml-study (3.12.10)",
   "language": "python",
   "name": "python3"
  },
  "language_info": {
   "codemirror_mode": {
    "name": "ipython",
    "version": 3
   },
   "file_extension": ".py",
   "mimetype": "text/x-python",
   "name": "python",
   "nbconvert_exporter": "python",
   "pygments_lexer": "ipython3",
   "version": "3.12.10"
  }
 },
 "nbformat": 4,
 "nbformat_minor": 5
}
