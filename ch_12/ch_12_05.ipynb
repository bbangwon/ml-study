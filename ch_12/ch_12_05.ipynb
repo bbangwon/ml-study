{
 "cells": [
  {
   "cell_type": "markdown",
   "id": "02133a5f",
   "metadata": {},
   "source": [
    "# 인공신경망의 개념\n",
    "\n",
    "- 인공신경망의 개념\n",
    "  - 딥러닝의 기원은 인공신경망\n",
    "  - 인간의 뇌에는 수많은 뉴런이 존재하고 그 뉴런들은 시냅스로 서로 연결되어 있는데, 이를 신경망(Neural Network)이라고 부름\n",
    "  - 인공신경망은 사람의 신경망 구조에서 착안해 만들어졌기 때문에 뉴런들의 연결, 즉 신경망을 인공적으로 흉내낸 것\n"
   ]
  },
  {
   "cell_type": "markdown",
   "id": "b223800f",
   "metadata": {},
   "source": [
    "- 인간의 신경망을 이루는 기본 동작\n",
    "  - 가지돌기에서 신호를 받아들임\n",
    "  - 신호가 축삭돌기를 지나 축삭말단으로 전달됨\n",
    "  - 축살돌기를 지나는 동안 신호가 약해져서 축삭말단까지 전달되지 않거나 강하게 전달되기도 함\n",
    "  - 축삭말단까지 전달된 신호는 다음 뉴런의 가지돌기로 전달됨\n",
    "  - 수억 개의 뉴런 조합을 통해 손가락을 움직이거나 물체를 판별하는 등 다양한 조작과 판단 수행 가능\n"
   ]
  },
  {
   "cell_type": "markdown",
   "id": "f728c24d",
   "metadata": {},
   "source": [
    "- 인공신경망(ANN, Artificial Neural Network)\n",
    "  - 인간의 신경망을 흉내 낸 머신러닝 기법\n",
    "  - 가지돌기 : 인공신경망의 입력층\n",
    "  - 축삭말단 : 인공신경망의 출력층\n",
    "  - 축삭말단에 이르기까지의 신호의 크기 : 인공신경망에서 가중치\n"
   ]
  },
  {
   "cell_type": "markdown",
   "id": "d963aa49",
   "metadata": {},
   "source": [
    "# 딥러닝의 개념\n",
    "\n",
    "- 딥러닝(Deep Learning)\n",
    "  - 여러 층(은닉층이 여러 개)을 가진 인공신경망을 사용하여 머신러닝 학습을 수행하는 것\n",
    "  - 심층학습이라고도 부름\n",
    "- 딥러닝 용어\n",
    "  | 구분 | 설명 |\n",
    "  | -- | -- |\n",
    "  | 입력층 | 학습하고자 하는 데이터를 입력받음 |\n",
    "  | 은닉층 | 모든 입력 노드로부터 입력값을 받아 가중합을 계산하고, 이 값을 활성화 함수에 적용하여 출력층에 전달 |\n",
    "  | 출력층 | 최종 결과 출력 |\n",
    "  | 가중치 | 입력 신호가 출력에 미치는 영향을 조절하는 매개변수로, 입력값의 중요도를 결정 |\n",
    "  | 편향 | 가중합에 더하는 상수로, 하나의 뉴런에서 활성화 함수를 거쳐 최종적으로 출력되는 값을 조절 |\n"
   ]
  },
  {
   "cell_type": "markdown",
   "id": "ab7492d3",
   "metadata": {},
   "source": [
    "# 가중합\n",
    "\n",
    "- 가중합(Weighted Sum)\n",
    "  - 입력값과 가중치를 곱한 뒤 편향(Bias)을 더한 값\n"
   ]
  },
  {
   "cell_type": "markdown",
   "id": "882e27a2",
   "metadata": {},
   "source": [
    "# 활성화 함수\n",
    "\n",
    "- 활성화 함수(Activation Function)\n",
    "  - 인공신경망에서 각 뉴런이 입력을 받아 출력을 계산하는 함수\n",
    "- 활성화 함수를 사용하는 이유\n",
    "  - 출력값을 0~1사이의 값으로 반환해야 하는 경우에 사용\n",
    "  - 비선형을 위해 사용\n"
   ]
  },
  {
   "cell_type": "markdown",
   "id": "1d0e0549",
   "metadata": {},
   "source": [
    "- 활성화 함수\n",
    "  - 선형함수인 f(x) = W \\* x 식이 있다고 가정\n",
    "  - 이때 은닉층을 2개 사용한다면 식은 f(f(f(x))) = W \\* W \\* W \\* x = kx로 단순하게 변형\n",
    "  - 은닉층을 20개 사용한다고 해도 동일한 결과가 나옴\n",
    "  - 즉, 선형함수로는 은닉층을 여러 개 추가해도 은닉층을 1개 추가한 것과 차이가 없기 때문에 정확한 결과를 위해선 비선형 함수, 즉 활성화 함수가 필요\n"
   ]
  },
  {
   "cell_type": "markdown",
   "id": "922e3e94",
   "metadata": {},
   "source": [
    "- 선형과 비선형\n",
    "  - 선형\n",
    "    - 그래프가 직선의 모양을 취하는 것으로, 1차 함수의 그래프 모양을 유지하는 것\n",
    "  - 비선형\n",
    "    - 직성이 아닌 것으로 그래프에서 곡선 모양을 취하는 것을 비선형이라고 함\n"
   ]
  },
  {
   "cell_type": "markdown",
   "id": "e9a36686",
   "metadata": {},
   "source": [
    "- 시그모이드(Sigmoid) 함수\n",
    "  - x값의 변화에 따라 0~1까지의 값을 출력하는 S자형 함수\n",
    "  - 로지스틱 함수라고 부름\n"
   ]
  },
  {
   "cell_type": "markdown",
   "id": "d4adb4b7",
   "metadata": {},
   "source": [
    "- 하이퍼볼릭 탄젠트(Hyperbolic Tangent) 함수\n",
    "  - 시그모이드 함수와 유사\n",
    "  - 하지만 -1~1의 값을 가지면서 데이터의 평균이 0이라는 점이 다름\n"
   ]
  },
  {
   "cell_type": "markdown",
   "id": "6f033a0e",
   "metadata": {},
   "source": [
    "- 렐루(ReLU)함수\n",
    "  - x가 음의 값을 가지면 0을 출력하고, 양의 값을 가지면 x를 그대로 출력\n",
    "  - 함수 형태도 max(0,x)로 계산이 간단하여 학습 속도가 매우 빠름\n",
    "  - 죽은 렐루 현상 발생\n"
   ]
  },
  {
   "cell_type": "markdown",
   "id": "c3b1f2ba",
   "metadata": {},
   "source": [
    "- 리키렐루(LeakyReLU)함수\n",
    "  - 렐루 함수와 유사\n",
    "  - 차이점은 가중치 곱의 합이 0보다 작을 때의 값도 고려한다는 점\n",
    "  - 이 함수는 렐루 함수의 죽은 렐루 현상을 보완\n"
   ]
  },
  {
   "cell_type": "code",
   "execution_count": 1,
   "id": "83970cee",
   "metadata": {},
   "outputs": [
    {
     "data": {
      "image/png": "[encoded data removed]",
      "text/plain": [
       "<Figure size 640x480 with 1 Axes>"
      ]
     },
     "metadata": {},
     "output_type": "display_data"
    }
   ],
   "source": [
    "import numpy as np\n",
    "import matplotlib.pyplot as plt\n",
    "\n",
    "\n",
    "def leaky_relu(x, alpha=0.01):  # 리키 렐루 활성화 함수 정의\n",
    "    return np.where(x > 0, x, alpha * x)\n",
    "\n",
    "\n",
    "x = np.linspace(-10, 10, 100)  # 입력 범위설정\n",
    "y_leaky_relu = leaky_relu(x)  # 출력 계산\n",
    "\n",
    "plt.plot(x, y_leaky_relu, label=\"Leaky ReLU\", color=\"purple\")  # 그래프 그리기\n",
    "plt.title(\"Leaky ReLU Activation Function\")\n",
    "plt.xlabel(\"Input\")\n",
    "plt.ylabel(\"Output\")\n",
    "plt.grid(True)\n",
    "plt.legend()\n",
    "plt.show()"
   ]
  },
  {
   "cell_type": "markdown",
   "id": "b057fc2f",
   "metadata": {},
   "source": [
    "- 소프트맥스(SoftMax) 함수\n",
    "  - 입력받은 값이 0~1 사이의 값으로 출력되도록 정규화하여 출력의 총 합이 1이 되는 특성을 갖는 함수\n",
    "  - 딥러닝에서 출력 노드의 활성화 함수로 많이 사용\n"
   ]
  },
  {
   "cell_type": "markdown",
   "id": "e8bfa4ce",
   "metadata": {},
   "source": [
    "# 순전파\n",
    "\n",
    "- 순전파(Forward Propagation)\n",
    "  - 입력층에서 출력층 방향으로 연산이 진행되면서 최종 출력값(예측값)이 도출되는 과정\n"
   ]
  },
  {
   "cell_type": "markdown",
   "id": "5f7baa90",
   "metadata": {},
   "source": [
    "# 손실함수\n",
    "\n",
    "- 손실함수(Loss Function)\n",
    "  - 예측값과 실제값의 차이를 구하는 함수\n",
    "  - 두 값의 차이가 클 수록 손실함수의 값은 커짐\n",
    "  - 두 값의 차이가 작을 수록 손실함수의 값도 작아짐\n"
   ]
  },
  {
   "cell_type": "markdown",
   "id": "2a778844",
   "metadata": {},
   "source": [
    "# 옵티마이저\n",
    "\n",
    "- 옵티마이저(Optimizer)\n",
    "  - 러닝에서 학습 속도를 빠르고 안정적이게 만드는 것\n",
    "  - 전체 데이터(전체 배치)를 가지고 매개변수(가중치, 편향)의 값을 조정할 수 있고, 정해준 양의 데이터(미니 배치)만 가지고 매개변수의 값을 조정할 수 있음\n",
    "  - 배치(Batch)\n",
    "    - 가중치 등 매개변수 값을 조정하기 위해 사용하는 데이터의 양\n",
    "  - 일반적으로 저네 데이터를 한번에 학습하게 되면 계산량이 많아질 뿐만 아니라 속도도 느려질 수 있기 때문에 미니 배치를 이용한 학습을 함\n"
   ]
  },
  {
   "cell_type": "markdown",
   "id": "20324b67",
   "metadata": {},
   "source": [
    "# 역전파\n",
    "\n",
    "- 역전파(Backpropagation)\n",
    "  - 오차예측값과 실제값의 차이를 역방향으로 전파시키면서(출력층 -> 은닉층 -> 입력층) 가중치를 업데이트하는 것\n",
    "  - 역전파는 경사 하강법을 이용해 오차를 줄이는 방향으로 가중치를 수정함\n",
    "  - 가중치를 수정할 때에는 순전파에서 계산한 결과 y = f(x)의 편미분값을 오차에 곱해 출력층 -> 은닉층 -> 입력층 순서로 전달함\n"
   ]
  }
 ],
 "metadata": {
  "kernelspec": {
   "display_name": "ml-study (3.12.10)",
   "language": "python",
   "name": "python3"
  },
  "language_info": {
   "codemirror_mode": {
    "name": "ipython",
    "version": 3
   },
   "file_extension": ".py",
   "mimetype": "text/x-python",
   "name": "python",
   "nbconvert_exporter": "python",
   "pygments_lexer": "ipython3",
   "version": "3.12.10"
  }
 },
 "nbformat": 4,
 "nbformat_minor": 5
}
