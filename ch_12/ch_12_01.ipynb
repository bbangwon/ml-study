{
 "cells": [
  {
   "cell_type": "markdown",
   "id": "e93d95c1",
   "metadata": {},
   "source": [
    "# 배깅의 개념\n",
    "\n",
    "- 배깅(bagging)\n",
    "  - 하나의 데이터셋에서 샘플링을 통해 여러 개의 데이터셋을 만든 다음 각 데이터셋마다 모델을 개발하여 투표 분류기로 만드는 기법\n",
    "  - 단순하면서 성능이 높아 특히 트리 계열 알고리즘과 함께 많이 사용되며 통계적인 샘플링 기법이나 딥러닝 기법과도 함께 사용\n",
    "- 샘플링(sampling)\n",
    "  - 다루고자 하는 데이터가 전체 모수라면 그 모수에서 일부분을 뽑아서 데이터를 분석\n",
    "- 배깅의 장점\n",
    "  - 다양한 데이터셋에서 강건한 모델(robust model)을 개발할 수 있음\n"
   ]
  },
  {
   "cell_type": "markdown",
   "id": "3dd7dc07",
   "metadata": {},
   "source": [
    "# 부트스트래핑\n",
    "\n",
    "- 부트스트래핑(bootstrapping)\n",
    "  - 모수 데이터로부터 학습 데이터를 추출할 때 임의의 데이터를 추출한 후 복원추출하는 여러 번의 과정\n",
    "- 복원추출\n",
    "  - 전체 데이터에서 먼저 일부를 추출하여 이를 '학습 데이터셋 1'이라고 부른다음, 다시 그 데이터를 모수에 집어넣고 '학습데이터셋2'를 뽑는 방식\n"
   ]
  },
  {
   "cell_type": "markdown",
   "id": "451ae748",
   "metadata": {},
   "source": [
    "- .632 부트스트래핑 기법\n",
    "  - - 전체 데이터 S에서 n번의 데이터를 추출할 때 이를 많이 추출할수록 각 데이터가 나타날 확률이 63.2%에 가까워짐\n"
   ]
  },
  {
   "cell_type": "markdown",
   "id": "dfc94973",
   "metadata": {},
   "source": [
    "# 부트스트랩 집합인 배깅\n",
    "\n",
    "- 부트스트랩 집합인 배깅\n",
    "  - 부트스트랩 집합이라는 의미의 bootstrap aggregation의 약자\n",
    "  - 부트스트랩 연산의 집합이라는 개념\n",
    "  - 데이터셋으로부터 부분집합 n개를 추출\n",
    "    - 앙상블 방법과 달리 하나의 모델에 다양한 데이터셋을 넣어서 n개의 모델을 생성\n",
    "  - 높은 분산으로, 일반적인 모델로 만들 경우 과적합이 심한 데이터셋에 좀 더 강건\n",
    "    - 각 모델들은 해당 데이터셋에 맞춰진 과적합 모델\n"
   ]
  },
  {
   "cell_type": "markdown",
   "id": "da7b3929",
   "metadata": {},
   "source": [
    "# 랜덤 포레스트\n",
    "\n",
    "- 랜덤 포레스트(random forest)\n",
    "  - 하나의 모델을 나무라고 한다면 이러한 나무들을 이용해 랜덤하게 데이터를 뽑아서 숲을 생성하는 알고리즘\n",
    "- 배깅 알고리즘을 의사결정트리에 적용한 모델\n",
    "- 사이킷런 배깅 분류기 BaggingClassifier\n",
    "- base_estimator\n",
    "  - 사용될 수 있는 모델(default=None)\n",
    "- n_estimators\n",
    "  - int, optional(default=10), subset으로 생성되는 모델의 개수\n",
    "- max_samples\n",
    "  - int or float, optional(default=1.0), 최대 데이터 개수 또는 비율\n",
    "- max_features\n",
    "  - int or float, optional(default=1.0), 최대 사용 피쳐 또는 비율\n",
    "- bootstrap\n",
    "  - boolean, optional(default=True), bootstrap 사용 여부\n",
    "- oob_score\n",
    "  - boolean, oob score 산출 여부\n",
    "- warm_start\n",
    "  - boolean, optional(default=False), 이전에 학습된 모델을 사용할 것인가에 대한 정보\n"
   ]
  },
  {
   "cell_type": "code",
   "execution_count": 2,
   "id": "a5e899a8",
   "metadata": {},
   "outputs": [
    {
     "name": "stderr",
     "output_type": "stream",
     "text": [
      "c:\\workspace\\study\\python\\ml-study\\.venv\\Lib\\site-packages\\sklearn\\ensemble\\_bagging.py:917: UserWarning: Some inputs do not have OOB scores. This probably means too few estimators were used to compute any reliable oob estimates.\n",
      "  warn(\n",
      "c:\\workspace\\study\\python\\ml-study\\.venv\\Lib\\site-packages\\sklearn\\ensemble\\_bagging.py:923: RuntimeWarning: invalid value encountered in divide\n",
      "  oob_decision_function = predictions / predictions.sum(axis=1)[:, np.newaxis]\n",
      "c:\\workspace\\study\\python\\ml-study\\.venv\\Lib\\site-packages\\sklearn\\ensemble\\_bagging.py:917: UserWarning: Some inputs do not have OOB scores. This probably means too few estimators were used to compute any reliable oob estimates.\n",
      "  warn(\n",
      "c:\\workspace\\study\\python\\ml-study\\.venv\\Lib\\site-packages\\sklearn\\ensemble\\_bagging.py:923: RuntimeWarning: invalid value encountered in divide\n",
      "  oob_decision_function = predictions / predictions.sum(axis=1)[:, np.newaxis]\n",
      "c:\\workspace\\study\\python\\ml-study\\.venv\\Lib\\site-packages\\sklearn\\ensemble\\_bagging.py:917: UserWarning: Some inputs do not have OOB scores. This probably means too few estimators were used to compute any reliable oob estimates.\n",
      "  warn(\n",
      "c:\\workspace\\study\\python\\ml-study\\.venv\\Lib\\site-packages\\sklearn\\ensemble\\_bagging.py:923: RuntimeWarning: invalid value encountered in divide\n",
      "  oob_decision_function = predictions / predictions.sum(axis=1)[:, np.newaxis]\n",
      "c:\\workspace\\study\\python\\ml-study\\.venv\\Lib\\site-packages\\sklearn\\ensemble\\_bagging.py:917: UserWarning: Some inputs do not have OOB scores. This probably means too few estimators were used to compute any reliable oob estimates.\n",
      "  warn(\n",
      "c:\\workspace\\study\\python\\ml-study\\.venv\\Lib\\site-packages\\sklearn\\ensemble\\_bagging.py:923: RuntimeWarning: invalid value encountered in divide\n",
      "  oob_decision_function = predictions / predictions.sum(axis=1)[:, np.newaxis]\n",
      "c:\\workspace\\study\\python\\ml-study\\.venv\\Lib\\site-packages\\sklearn\\ensemble\\_bagging.py:917: UserWarning: Some inputs do not have OOB scores. This probably means too few estimators were used to compute any reliable oob estimates.\n",
      "  warn(\n",
      "c:\\workspace\\study\\python\\ml-study\\.venv\\Lib\\site-packages\\sklearn\\ensemble\\_bagging.py:923: RuntimeWarning: invalid value encountered in divide\n",
      "  oob_decision_function = predictions / predictions.sum(axis=1)[:, np.newaxis]\n"
     ]
    },
    {
     "data": {
      "text/plain": [
       "np.float64(0.8234241096933917)"
      ]
     },
     "execution_count": 2,
     "metadata": {},
     "output_type": "execute_result"
    }
   ],
   "source": [
    "import numpy as np\n",
    "from sklearn.linear_model import LogisticRegression\n",
    "from sklearn.ensemble import BaggingClassifier\n",
    "from sklearn.model_selection import cross_val_score\n",
    "\n",
    "X = np.load(\"./titanic/titanic_X_train.npy\")\n",
    "y = np.load(\"./titanic/titanic_y_train.npy\")\n",
    "clf1 = LogisticRegression(random_state=1)\n",
    "eclf = BaggingClassifier(clf1, oob_score=True)\n",
    "\n",
    "cross_val_score(eclf, X, y, cv=5).mean()"
   ]
  },
  {
   "cell_type": "code",
   "execution_count": 3,
   "id": "ba8cbd07",
   "metadata": {},
   "outputs": [],
   "source": [
    "params = {\n",
    "    \"n_estimators\": [10, 20, 30, 40, 50, 55],\n",
    "    \"max_samples\": [0.5, 0.6, 0.7, 0.8, 0.9, 1],\n",
    "}"
   ]
  },
  {
   "cell_type": "code",
   "execution_count": 5,
   "id": "d96448f2",
   "metadata": {},
   "outputs": [
    {
     "name": "stderr",
     "output_type": "stream",
     "text": [
      "c:\\workspace\\study\\python\\ml-study\\.venv\\Lib\\site-packages\\sklearn\\ensemble\\_bagging.py:917: UserWarning: Some inputs do not have OOB scores. This probably means too few estimators were used to compute any reliable oob estimates.\n",
      "  warn(\n",
      "c:\\workspace\\study\\python\\ml-study\\.venv\\Lib\\site-packages\\sklearn\\ensemble\\_bagging.py:923: RuntimeWarning: invalid value encountered in divide\n",
      "  oob_decision_function = predictions / predictions.sum(axis=1)[:, np.newaxis]\n",
      "c:\\workspace\\study\\python\\ml-study\\.venv\\Lib\\site-packages\\sklearn\\ensemble\\_bagging.py:917: UserWarning: Some inputs do not have OOB scores. This probably means too few estimators were used to compute any reliable oob estimates.\n",
      "  warn(\n",
      "c:\\workspace\\study\\python\\ml-study\\.venv\\Lib\\site-packages\\sklearn\\ensemble\\_bagging.py:923: RuntimeWarning: invalid value encountered in divide\n",
      "  oob_decision_function = predictions / predictions.sum(axis=1)[:, np.newaxis]\n",
      "c:\\workspace\\study\\python\\ml-study\\.venv\\Lib\\site-packages\\sklearn\\ensemble\\_bagging.py:917: UserWarning: Some inputs do not have OOB scores. This probably means too few estimators were used to compute any reliable oob estimates.\n",
      "  warn(\n",
      "c:\\workspace\\study\\python\\ml-study\\.venv\\Lib\\site-packages\\sklearn\\ensemble\\_bagging.py:923: RuntimeWarning: invalid value encountered in divide\n",
      "  oob_decision_function = predictions / predictions.sum(axis=1)[:, np.newaxis]\n",
      "c:\\workspace\\study\\python\\ml-study\\.venv\\Lib\\site-packages\\sklearn\\ensemble\\_bagging.py:917: UserWarning: Some inputs do not have OOB scores. This probably means too few estimators were used to compute any reliable oob estimates.\n",
      "  warn(\n",
      "c:\\workspace\\study\\python\\ml-study\\.venv\\Lib\\site-packages\\sklearn\\ensemble\\_bagging.py:923: RuntimeWarning: invalid value encountered in divide\n",
      "  oob_decision_function = predictions / predictions.sum(axis=1)[:, np.newaxis]\n",
      "c:\\workspace\\study\\python\\ml-study\\.venv\\Lib\\site-packages\\sklearn\\ensemble\\_bagging.py:917: UserWarning: Some inputs do not have OOB scores. This probably means too few estimators were used to compute any reliable oob estimates.\n",
      "  warn(\n",
      "c:\\workspace\\study\\python\\ml-study\\.venv\\Lib\\site-packages\\sklearn\\ensemble\\_bagging.py:923: RuntimeWarning: invalid value encountered in divide\n",
      "  oob_decision_function = predictions / predictions.sum(axis=1)[:, np.newaxis]\n",
      "c:\\workspace\\study\\python\\ml-study\\.venv\\Lib\\site-packages\\sklearn\\ensemble\\_bagging.py:917: UserWarning: Some inputs do not have OOB scores. This probably means too few estimators were used to compute any reliable oob estimates.\n",
      "  warn(\n",
      "c:\\workspace\\study\\python\\ml-study\\.venv\\Lib\\site-packages\\sklearn\\ensemble\\_bagging.py:923: RuntimeWarning: invalid value encountered in divide\n",
      "  oob_decision_function = predictions / predictions.sum(axis=1)[:, np.newaxis]\n",
      "c:\\workspace\\study\\python\\ml-study\\.venv\\Lib\\site-packages\\sklearn\\ensemble\\_bagging.py:917: UserWarning: Some inputs do not have OOB scores. This probably means too few estimators were used to compute any reliable oob estimates.\n",
      "  warn(\n",
      "c:\\workspace\\study\\python\\ml-study\\.venv\\Lib\\site-packages\\sklearn\\ensemble\\_bagging.py:923: RuntimeWarning: invalid value encountered in divide\n",
      "  oob_decision_function = predictions / predictions.sum(axis=1)[:, np.newaxis]\n",
      "c:\\workspace\\study\\python\\ml-study\\.venv\\Lib\\site-packages\\sklearn\\ensemble\\_bagging.py:917: UserWarning: Some inputs do not have OOB scores. This probably means too few estimators were used to compute any reliable oob estimates.\n",
      "  warn(\n",
      "c:\\workspace\\study\\python\\ml-study\\.venv\\Lib\\site-packages\\sklearn\\ensemble\\_bagging.py:923: RuntimeWarning: invalid value encountered in divide\n",
      "  oob_decision_function = predictions / predictions.sum(axis=1)[:, np.newaxis]\n",
      "c:\\workspace\\study\\python\\ml-study\\.venv\\Lib\\site-packages\\sklearn\\ensemble\\_bagging.py:917: UserWarning: Some inputs do not have OOB scores. This probably means too few estimators were used to compute any reliable oob estimates.\n",
      "  warn(\n",
      "c:\\workspace\\study\\python\\ml-study\\.venv\\Lib\\site-packages\\sklearn\\ensemble\\_bagging.py:923: RuntimeWarning: invalid value encountered in divide\n",
      "  oob_decision_function = predictions / predictions.sum(axis=1)[:, np.newaxis]\n",
      "c:\\workspace\\study\\python\\ml-study\\.venv\\Lib\\site-packages\\sklearn\\ensemble\\_bagging.py:917: UserWarning: Some inputs do not have OOB scores. This probably means too few estimators were used to compute any reliable oob estimates.\n",
      "  warn(\n",
      "c:\\workspace\\study\\python\\ml-study\\.venv\\Lib\\site-packages\\sklearn\\ensemble\\_bagging.py:923: RuntimeWarning: invalid value encountered in divide\n",
      "  oob_decision_function = predictions / predictions.sum(axis=1)[:, np.newaxis]\n",
      "c:\\workspace\\study\\python\\ml-study\\.venv\\Lib\\site-packages\\sklearn\\ensemble\\_bagging.py:917: UserWarning: Some inputs do not have OOB scores. This probably means too few estimators were used to compute any reliable oob estimates.\n",
      "  warn(\n",
      "c:\\workspace\\study\\python\\ml-study\\.venv\\Lib\\site-packages\\sklearn\\ensemble\\_bagging.py:923: RuntimeWarning: invalid value encountered in divide\n",
      "  oob_decision_function = predictions / predictions.sum(axis=1)[:, np.newaxis]\n",
      "c:\\workspace\\study\\python\\ml-study\\.venv\\Lib\\site-packages\\sklearn\\ensemble\\_bagging.py:917: UserWarning: Some inputs do not have OOB scores. This probably means too few estimators were used to compute any reliable oob estimates.\n",
      "  warn(\n",
      "c:\\workspace\\study\\python\\ml-study\\.venv\\Lib\\site-packages\\sklearn\\ensemble\\_bagging.py:923: RuntimeWarning: invalid value encountered in divide\n",
      "  oob_decision_function = predictions / predictions.sum(axis=1)[:, np.newaxis]\n",
      "c:\\workspace\\study\\python\\ml-study\\.venv\\Lib\\site-packages\\sklearn\\ensemble\\_bagging.py:917: UserWarning: Some inputs do not have OOB scores. This probably means too few estimators were used to compute any reliable oob estimates.\n",
      "  warn(\n",
      "c:\\workspace\\study\\python\\ml-study\\.venv\\Lib\\site-packages\\sklearn\\ensemble\\_bagging.py:923: RuntimeWarning: invalid value encountered in divide\n",
      "  oob_decision_function = predictions / predictions.sum(axis=1)[:, np.newaxis]\n"
     ]
    },
    {
     "data": {
      "text/plain": [
       "np.float64(0.8324128737383354)"
      ]
     },
     "execution_count": 5,
     "metadata": {},
     "output_type": "execute_result"
    }
   ],
   "source": [
    "from sklearn.model_selection import GridSearchCV\n",
    "\n",
    "grid = GridSearchCV(estimator=eclf, param_grid=params, cv=5)\n",
    "grid = grid.fit(X, y)\n",
    "\n",
    "grid.best_score_"
   ]
  },
  {
   "cell_type": "code",
   "execution_count": 6,
   "id": "3b3e52d9",
   "metadata": {},
   "outputs": [
    {
     "data": {
      "text/plain": [
       "{'max_samples': 0.8, 'n_estimators': 50}"
      ]
     },
     "execution_count": 6,
     "metadata": {},
     "output_type": "execute_result"
    }
   ],
   "source": [
    "grid.best_params_"
   ]
  },
  {
   "cell_type": "code",
   "execution_count": 9,
   "id": "9dbbbb54",
   "metadata": {},
   "outputs": [
    {
     "data": {
      "text/plain": [
       "0.8256467941507312"
      ]
     },
     "execution_count": 9,
     "metadata": {},
     "output_type": "execute_result"
    }
   ],
   "source": [
    "grid.best_estimator_.oob_score_"
   ]
  },
  {
   "cell_type": "code",
   "execution_count": 10,
   "id": "ba38c81a",
   "metadata": {},
   "outputs": [
    {
     "data": {
      "text/plain": [
       "np.float64(0.8020630990922364)"
      ]
     },
     "execution_count": 10,
     "metadata": {},
     "output_type": "execute_result"
    }
   ],
   "source": [
    "import numpy as np\n",
    "from sklearn.ensemble import RandomForestClassifier\n",
    "from sklearn.model_selection import cross_val_score\n",
    "\n",
    "X = np.load(\"./titanic/titanic_X_train.npy\")\n",
    "y = np.load(\"./titanic/titanic_y_train.npy\")\n",
    "eclf = RandomForestClassifier(\n",
    "    n_estimators=100, max_features=2, n_jobs=7, oob_score=True\n",
    ")\n",
    "cross_val_score(eclf, X, y, cv=5).mean()"
   ]
  },
  {
   "cell_type": "code",
   "execution_count": 15,
   "id": "75d7de1e",
   "metadata": {},
   "outputs": [
    {
     "name": "stderr",
     "output_type": "stream",
     "text": [
      "c:\\workspace\\study\\python\\ml-study\\.venv\\Lib\\site-packages\\sklearn\\ensemble\\_forest.py:611: UserWarning: Some inputs do not have OOB scores. This probably means too few trees were used to compute any reliable OOB estimates.\n",
      "  warn(\n",
      "c:\\workspace\\study\\python\\ml-study\\.venv\\Lib\\site-packages\\sklearn\\ensemble\\_forest.py:611: UserWarning: Some inputs do not have OOB scores. This probably means too few trees were used to compute any reliable OOB estimates.\n",
      "  warn(\n",
      "c:\\workspace\\study\\python\\ml-study\\.venv\\Lib\\site-packages\\sklearn\\ensemble\\_forest.py:611: UserWarning: Some inputs do not have OOB scores. This probably means too few trees were used to compute any reliable OOB estimates.\n",
      "  warn(\n",
      "c:\\workspace\\study\\python\\ml-study\\.venv\\Lib\\site-packages\\sklearn\\ensemble\\_forest.py:611: UserWarning: Some inputs do not have OOB scores. This probably means too few trees were used to compute any reliable OOB estimates.\n",
      "  warn(\n",
      "c:\\workspace\\study\\python\\ml-study\\.venv\\Lib\\site-packages\\sklearn\\ensemble\\_forest.py:611: UserWarning: Some inputs do not have OOB scores. This probably means too few trees were used to compute any reliable OOB estimates.\n",
      "  warn(\n",
      "c:\\workspace\\study\\python\\ml-study\\.venv\\Lib\\site-packages\\sklearn\\ensemble\\_forest.py:611: UserWarning: Some inputs do not have OOB scores. This probably means too few trees were used to compute any reliable OOB estimates.\n",
      "  warn(\n",
      "c:\\workspace\\study\\python\\ml-study\\.venv\\Lib\\site-packages\\sklearn\\ensemble\\_forest.py:611: UserWarning: Some inputs do not have OOB scores. This probably means too few trees were used to compute any reliable OOB estimates.\n",
      "  warn(\n",
      "c:\\workspace\\study\\python\\ml-study\\.venv\\Lib\\site-packages\\sklearn\\ensemble\\_forest.py:611: UserWarning: Some inputs do not have OOB scores. This probably means too few trees were used to compute any reliable OOB estimates.\n",
      "  warn(\n",
      "c:\\workspace\\study\\python\\ml-study\\.venv\\Lib\\site-packages\\sklearn\\ensemble\\_forest.py:611: UserWarning: Some inputs do not have OOB scores. This probably means too few trees were used to compute any reliable OOB estimates.\n",
      "  warn(\n",
      "c:\\workspace\\study\\python\\ml-study\\.venv\\Lib\\site-packages\\sklearn\\ensemble\\_forest.py:611: UserWarning: Some inputs do not have OOB scores. This probably means too few trees were used to compute any reliable OOB estimates.\n",
      "  warn(\n",
      "c:\\workspace\\study\\python\\ml-study\\.venv\\Lib\\site-packages\\sklearn\\ensemble\\_forest.py:611: UserWarning: Some inputs do not have OOB scores. This probably means too few trees were used to compute any reliable OOB estimates.\n",
      "  warn(\n",
      "c:\\workspace\\study\\python\\ml-study\\.venv\\Lib\\site-packages\\sklearn\\ensemble\\_forest.py:611: UserWarning: Some inputs do not have OOB scores. This probably means too few trees were used to compute any reliable OOB estimates.\n",
      "  warn(\n",
      "c:\\workspace\\study\\python\\ml-study\\.venv\\Lib\\site-packages\\sklearn\\ensemble\\_forest.py:611: UserWarning: Some inputs do not have OOB scores. This probably means too few trees were used to compute any reliable OOB estimates.\n",
      "  warn(\n",
      "c:\\workspace\\study\\python\\ml-study\\.venv\\Lib\\site-packages\\sklearn\\ensemble\\_forest.py:611: UserWarning: Some inputs do not have OOB scores. This probably means too few trees were used to compute any reliable OOB estimates.\n",
      "  warn(\n",
      "c:\\workspace\\study\\python\\ml-study\\.venv\\Lib\\site-packages\\sklearn\\ensemble\\_forest.py:611: UserWarning: Some inputs do not have OOB scores. This probably means too few trees were used to compute any reliable OOB estimates.\n",
      "  warn(\n",
      "c:\\workspace\\study\\python\\ml-study\\.venv\\Lib\\site-packages\\sklearn\\ensemble\\_forest.py:611: UserWarning: Some inputs do not have OOB scores. This probably means too few trees were used to compute any reliable OOB estimates.\n",
      "  warn(\n",
      "c:\\workspace\\study\\python\\ml-study\\.venv\\Lib\\site-packages\\sklearn\\ensemble\\_forest.py:611: UserWarning: Some inputs do not have OOB scores. This probably means too few trees were used to compute any reliable OOB estimates.\n",
      "  warn(\n",
      "c:\\workspace\\study\\python\\ml-study\\.venv\\Lib\\site-packages\\sklearn\\ensemble\\_forest.py:611: UserWarning: Some inputs do not have OOB scores. This probably means too few trees were used to compute any reliable OOB estimates.\n",
      "  warn(\n",
      "c:\\workspace\\study\\python\\ml-study\\.venv\\Lib\\site-packages\\sklearn\\ensemble\\_forest.py:611: UserWarning: Some inputs do not have OOB scores. This probably means too few trees were used to compute any reliable OOB estimates.\n",
      "  warn(\n",
      "c:\\workspace\\study\\python\\ml-study\\.venv\\Lib\\site-packages\\sklearn\\ensemble\\_forest.py:611: UserWarning: Some inputs do not have OOB scores. This probably means too few trees were used to compute any reliable OOB estimates.\n",
      "  warn(\n",
      "c:\\workspace\\study\\python\\ml-study\\.venv\\Lib\\site-packages\\sklearn\\ensemble\\_forest.py:611: UserWarning: Some inputs do not have OOB scores. This probably means too few trees were used to compute any reliable OOB estimates.\n",
      "  warn(\n",
      "c:\\workspace\\study\\python\\ml-study\\.venv\\Lib\\site-packages\\sklearn\\ensemble\\_forest.py:611: UserWarning: Some inputs do not have OOB scores. This probably means too few trees were used to compute any reliable OOB estimates.\n",
      "  warn(\n",
      "c:\\workspace\\study\\python\\ml-study\\.venv\\Lib\\site-packages\\sklearn\\ensemble\\_forest.py:611: UserWarning: Some inputs do not have OOB scores. This probably means too few trees were used to compute any reliable OOB estimates.\n",
      "  warn(\n",
      "c:\\workspace\\study\\python\\ml-study\\.venv\\Lib\\site-packages\\sklearn\\ensemble\\_forest.py:611: UserWarning: Some inputs do not have OOB scores. This probably means too few trees were used to compute any reliable OOB estimates.\n",
      "  warn(\n",
      "c:\\workspace\\study\\python\\ml-study\\.venv\\Lib\\site-packages\\sklearn\\ensemble\\_forest.py:611: UserWarning: Some inputs do not have OOB scores. This probably means too few trees were used to compute any reliable OOB estimates.\n",
      "  warn(\n",
      "c:\\workspace\\study\\python\\ml-study\\.venv\\Lib\\site-packages\\sklearn\\ensemble\\_forest.py:611: UserWarning: Some inputs do not have OOB scores. This probably means too few trees were used to compute any reliable OOB estimates.\n",
      "  warn(\n",
      "c:\\workspace\\study\\python\\ml-study\\.venv\\Lib\\site-packages\\sklearn\\ensemble\\_forest.py:611: UserWarning: Some inputs do not have OOB scores. This probably means too few trees were used to compute any reliable OOB estimates.\n",
      "  warn(\n",
      "c:\\workspace\\study\\python\\ml-study\\.venv\\Lib\\site-packages\\sklearn\\ensemble\\_forest.py:611: UserWarning: Some inputs do not have OOB scores. This probably means too few trees were used to compute any reliable OOB estimates.\n",
      "  warn(\n",
      "c:\\workspace\\study\\python\\ml-study\\.venv\\Lib\\site-packages\\sklearn\\ensemble\\_forest.py:611: UserWarning: Some inputs do not have OOB scores. This probably means too few trees were used to compute any reliable OOB estimates.\n",
      "  warn(\n",
      "c:\\workspace\\study\\python\\ml-study\\.venv\\Lib\\site-packages\\sklearn\\ensemble\\_forest.py:611: UserWarning: Some inputs do not have OOB scores. This probably means too few trees were used to compute any reliable OOB estimates.\n",
      "  warn(\n",
      "c:\\workspace\\study\\python\\ml-study\\.venv\\Lib\\site-packages\\sklearn\\ensemble\\_forest.py:611: UserWarning: Some inputs do not have OOB scores. This probably means too few trees were used to compute any reliable OOB estimates.\n",
      "  warn(\n",
      "c:\\workspace\\study\\python\\ml-study\\.venv\\Lib\\site-packages\\sklearn\\ensemble\\_forest.py:611: UserWarning: Some inputs do not have OOB scores. This probably means too few trees were used to compute any reliable OOB estimates.\n",
      "  warn(\n",
      "c:\\workspace\\study\\python\\ml-study\\.venv\\Lib\\site-packages\\sklearn\\ensemble\\_forest.py:611: UserWarning: Some inputs do not have OOB scores. This probably means too few trees were used to compute any reliable OOB estimates.\n",
      "  warn(\n",
      "c:\\workspace\\study\\python\\ml-study\\.venv\\Lib\\site-packages\\sklearn\\ensemble\\_forest.py:611: UserWarning: Some inputs do not have OOB scores. This probably means too few trees were used to compute any reliable OOB estimates.\n",
      "  warn(\n",
      "c:\\workspace\\study\\python\\ml-study\\.venv\\Lib\\site-packages\\sklearn\\ensemble\\_forest.py:611: UserWarning: Some inputs do not have OOB scores. This probably means too few trees were used to compute any reliable OOB estimates.\n",
      "  warn(\n",
      "c:\\workspace\\study\\python\\ml-study\\.venv\\Lib\\site-packages\\sklearn\\ensemble\\_forest.py:611: UserWarning: Some inputs do not have OOB scores. This probably means too few trees were used to compute any reliable OOB estimates.\n",
      "  warn(\n",
      "c:\\workspace\\study\\python\\ml-study\\.venv\\Lib\\site-packages\\sklearn\\ensemble\\_forest.py:611: UserWarning: Some inputs do not have OOB scores. This probably means too few trees were used to compute any reliable OOB estimates.\n",
      "  warn(\n",
      "c:\\workspace\\study\\python\\ml-study\\.venv\\Lib\\site-packages\\sklearn\\ensemble\\_forest.py:611: UserWarning: Some inputs do not have OOB scores. This probably means too few trees were used to compute any reliable OOB estimates.\n",
      "  warn(\n",
      "c:\\workspace\\study\\python\\ml-study\\.venv\\Lib\\site-packages\\sklearn\\ensemble\\_forest.py:611: UserWarning: Some inputs do not have OOB scores. This probably means too few trees were used to compute any reliable OOB estimates.\n",
      "  warn(\n",
      "c:\\workspace\\study\\python\\ml-study\\.venv\\Lib\\site-packages\\sklearn\\ensemble\\_forest.py:611: UserWarning: Some inputs do not have OOB scores. This probably means too few trees were used to compute any reliable OOB estimates.\n",
      "  warn(\n",
      "c:\\workspace\\study\\python\\ml-study\\.venv\\Lib\\site-packages\\sklearn\\ensemble\\_forest.py:611: UserWarning: Some inputs do not have OOB scores. This probably means too few trees were used to compute any reliable OOB estimates.\n",
      "  warn(\n",
      "c:\\workspace\\study\\python\\ml-study\\.venv\\Lib\\site-packages\\sklearn\\ensemble\\_forest.py:611: UserWarning: Some inputs do not have OOB scores. This probably means too few trees were used to compute any reliable OOB estimates.\n",
      "  warn(\n",
      "c:\\workspace\\study\\python\\ml-study\\.venv\\Lib\\site-packages\\sklearn\\ensemble\\_forest.py:611: UserWarning: Some inputs do not have OOB scores. This probably means too few trees were used to compute any reliable OOB estimates.\n",
      "  warn(\n",
      "c:\\workspace\\study\\python\\ml-study\\.venv\\Lib\\site-packages\\sklearn\\ensemble\\_forest.py:611: UserWarning: Some inputs do not have OOB scores. This probably means too few trees were used to compute any reliable OOB estimates.\n",
      "  warn(\n",
      "c:\\workspace\\study\\python\\ml-study\\.venv\\Lib\\site-packages\\sklearn\\ensemble\\_forest.py:611: UserWarning: Some inputs do not have OOB scores. This probably means too few trees were used to compute any reliable OOB estimates.\n",
      "  warn(\n",
      "c:\\workspace\\study\\python\\ml-study\\.venv\\Lib\\site-packages\\sklearn\\ensemble\\_forest.py:611: UserWarning: Some inputs do not have OOB scores. This probably means too few trees were used to compute any reliable OOB estimates.\n",
      "  warn(\n",
      "c:\\workspace\\study\\python\\ml-study\\.venv\\Lib\\site-packages\\sklearn\\ensemble\\_forest.py:611: UserWarning: Some inputs do not have OOB scores. This probably means too few trees were used to compute any reliable OOB estimates.\n",
      "  warn(\n",
      "c:\\workspace\\study\\python\\ml-study\\.venv\\Lib\\site-packages\\sklearn\\ensemble\\_forest.py:611: UserWarning: Some inputs do not have OOB scores. This probably means too few trees were used to compute any reliable OOB estimates.\n",
      "  warn(\n",
      "c:\\workspace\\study\\python\\ml-study\\.venv\\Lib\\site-packages\\sklearn\\ensemble\\_forest.py:611: UserWarning: Some inputs do not have OOB scores. This probably means too few trees were used to compute any reliable OOB estimates.\n",
      "  warn(\n",
      "c:\\workspace\\study\\python\\ml-study\\.venv\\Lib\\site-packages\\sklearn\\ensemble\\_forest.py:611: UserWarning: Some inputs do not have OOB scores. This probably means too few trees were used to compute any reliable OOB estimates.\n",
      "  warn(\n",
      "c:\\workspace\\study\\python\\ml-study\\.venv\\Lib\\site-packages\\sklearn\\ensemble\\_forest.py:611: UserWarning: Some inputs do not have OOB scores. This probably means too few trees were used to compute any reliable OOB estimates.\n",
      "  warn(\n",
      "c:\\workspace\\study\\python\\ml-study\\.venv\\Lib\\site-packages\\sklearn\\ensemble\\_forest.py:611: UserWarning: Some inputs do not have OOB scores. This probably means too few trees were used to compute any reliable OOB estimates.\n",
      "  warn(\n",
      "c:\\workspace\\study\\python\\ml-study\\.venv\\Lib\\site-packages\\sklearn\\ensemble\\_forest.py:611: UserWarning: Some inputs do not have OOB scores. This probably means too few trees were used to compute any reliable OOB estimates.\n",
      "  warn(\n",
      "c:\\workspace\\study\\python\\ml-study\\.venv\\Lib\\site-packages\\sklearn\\ensemble\\_forest.py:611: UserWarning: Some inputs do not have OOB scores. This probably means too few trees were used to compute any reliable OOB estimates.\n",
      "  warn(\n",
      "c:\\workspace\\study\\python\\ml-study\\.venv\\Lib\\site-packages\\sklearn\\ensemble\\_forest.py:611: UserWarning: Some inputs do not have OOB scores. This probably means too few trees were used to compute any reliable OOB estimates.\n",
      "  warn(\n",
      "c:\\workspace\\study\\python\\ml-study\\.venv\\Lib\\site-packages\\sklearn\\ensemble\\_forest.py:611: UserWarning: Some inputs do not have OOB scores. This probably means too few trees were used to compute any reliable OOB estimates.\n",
      "  warn(\n",
      "c:\\workspace\\study\\python\\ml-study\\.venv\\Lib\\site-packages\\sklearn\\ensemble\\_forest.py:611: UserWarning: Some inputs do not have OOB scores. This probably means too few trees were used to compute any reliable OOB estimates.\n",
      "  warn(\n",
      "c:\\workspace\\study\\python\\ml-study\\.venv\\Lib\\site-packages\\sklearn\\ensemble\\_forest.py:611: UserWarning: Some inputs do not have OOB scores. This probably means too few trees were used to compute any reliable OOB estimates.\n",
      "  warn(\n",
      "c:\\workspace\\study\\python\\ml-study\\.venv\\Lib\\site-packages\\sklearn\\ensemble\\_forest.py:611: UserWarning: Some inputs do not have OOB scores. This probably means too few trees were used to compute any reliable OOB estimates.\n",
      "  warn(\n",
      "c:\\workspace\\study\\python\\ml-study\\.venv\\Lib\\site-packages\\sklearn\\ensemble\\_forest.py:611: UserWarning: Some inputs do not have OOB scores. This probably means too few trees were used to compute any reliable OOB estimates.\n",
      "  warn(\n",
      "c:\\workspace\\study\\python\\ml-study\\.venv\\Lib\\site-packages\\sklearn\\ensemble\\_forest.py:611: UserWarning: Some inputs do not have OOB scores. This probably means too few trees were used to compute any reliable OOB estimates.\n",
      "  warn(\n"
     ]
    },
    {
     "data": {
      "text/plain": [
       "np.float64(0.8268139402018664)"
      ]
     },
     "execution_count": 15,
     "metadata": {},
     "output_type": "execute_result"
    }
   ],
   "source": [
    "from sklearn.model_selection import GridSearchCV\n",
    "\n",
    "params = {\n",
    "    \"n_estimators\": [10, 20, 30, 50, 100],\n",
    "    \"max_features\": [1, 2, 3, 4, 5, 6, 7, 10, 15, 20, 25, len(X[0])],\n",
    "}\n",
    "\n",
    "grid = GridSearchCV(estimator=eclf, param_grid=params, cv=5)\n",
    "grid = grid.fit(X, y)\n",
    "\n",
    "grid.best_score_"
   ]
  },
  {
   "cell_type": "code",
   "execution_count": 16,
   "id": "36e19e1e",
   "metadata": {},
   "outputs": [
    {
     "data": {
      "text/plain": [
       "{'max_features': 27, 'n_estimators': 100}"
      ]
     },
     "execution_count": 16,
     "metadata": {},
     "output_type": "execute_result"
    }
   ],
   "source": [
    "grid.best_params_"
   ]
  },
  {
   "cell_type": "code",
   "execution_count": 17,
   "id": "e6a5a2ca",
   "metadata": {},
   "outputs": [
    {
     "data": {
      "text/plain": [
       "0.8256467941507312"
      ]
     },
     "execution_count": 17,
     "metadata": {},
     "output_type": "execute_result"
    }
   ],
   "source": [
    "grid.best_estimator_.oob_score_"
   ]
  }
 ],
 "metadata": {
  "kernelspec": {
   "display_name": "ml-study",
   "language": "python",
   "name": "python3"
  },
  "language_info": {
   "codemirror_mode": {
    "name": "ipython",
    "version": 3
   },
   "file_extension": ".py",
   "mimetype": "text/x-python",
   "name": "python",
   "nbconvert_exporter": "python",
   "pygments_lexer": "ipython3",
   "version": "3.12.10"
  }
 },
 "nbformat": 4,
 "nbformat_minor": 5
}
