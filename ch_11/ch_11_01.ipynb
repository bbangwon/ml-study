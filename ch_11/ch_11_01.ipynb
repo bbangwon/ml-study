{
 "cells": [
  {
   "cell_type": "markdown",
   "id": "84ae1599",
   "metadata": {},
   "source": [
    "# 훈련 테스트 분할\n",
    "\n",
    "- 훈련/테스트 분할(train/test split)\n",
    "  - 머신러닝에서 데이터를 학습을 하기 위한 학습 데이터셋(train dataset)과 학습의 결과로 생성된 모델의 성능을 평가하기 위한 테스트 데이터셋(test dataset)으로 나눔\n"
   ]
  },
  {
   "cell_type": "markdown",
   "id": "433f161e",
   "metadata": {},
   "source": [
    "# 과다적합과 과소적합\n",
    "\n",
    "- 모델이 데이터에 과다적합(over-fit)된 경우\n",
    "  - 생성된 모델이 특정 데이터에만 잘 맞아서 해당 데이터셋에 대해서는 성능을 발휘할 수 있지만, 새로운 데이터셋에서는 전혀 성능을 낼 수 없음\n",
    "- 모델이 데이터에 과소적합(under-fit)된 경우\n",
    "  - 기존 학습 데이터를 제대로 예측하지 못함\n"
   ]
  },
  {
   "cell_type": "markdown",
   "id": "3fd06946",
   "metadata": {},
   "source": [
    "# 홀드아웃 메서드\n",
    "\n",
    "- 홀드아웃 메서드(hold-out method)\n",
    "  - 전체 데이터셋에서 일부를 학습 데이터와 테스트 데이터로 나누는 일반적인 데이터 분할 기법\n",
    "  - 전체 데이터에서 랜덤하게 학습 데이터셋과 테스트 데이터셋을 나눔\n",
    "  - 일반적으로 7:3 또는 8:2 정도의 비율\n",
    "- sklearn 모듈이 제공하는 train_test_split 함수 사용\n",
    "  - X와 y벡터값을 각각 넣고\n",
    "  - 매개변수 test_size에 테스트 데이터로 사용할 데이터의 비율을 지정\n",
    "  - random_state는 랜덤한 값을 기준으로 임의로 지정하는 값\n"
   ]
  },
  {
   "cell_type": "code",
   "execution_count": 3,
   "id": "8c7c4aba",
   "metadata": {},
   "outputs": [],
   "source": [
    "import numpy as np\n",
    "from sklearn.model_selection import train_test_split\n",
    "\n",
    "X, y = np.arange(10).reshape((5, 2)), range(5)\n",
    "\n",
    "X_train, X_test, y_train, y_test = train_test_split(\n",
    "    X, y, test_size=0.33, random_state=42\n",
    ")\n"
   ]
  },
  {
   "cell_type": "markdown",
   "id": "6c7fee4f",
   "metadata": {},
   "source": [
    "# 평균 절대 잔차(MAE)\n",
    "\n",
    "- MAE(Mean Absolute Error)\n",
    "  - 평균 절대 잔차\n",
    "  - 모든 테스트 데이터에 대해 예측값과 실제값의 차이에 대해 절댓값을 구하고, 이 값을 모두 더한후에 데이터의 개수만큼 나눈 결과\n",
    "  - 직관적으로 예측값과 실측값의 차이를 알 수 있음\n",
    "  - sklearn 모듈에서는 median_absolute_error 함수로 MAE를 구함\n"
   ]
  },
  {
   "cell_type": "code",
   "execution_count": 1,
   "id": "27ce9915",
   "metadata": {},
   "outputs": [
    {
     "data": {
      "text/plain": [
       "0.5"
      ]
     },
     "execution_count": 1,
     "metadata": {},
     "output_type": "execute_result"
    }
   ],
   "source": [
    "from sklearn.metrics import median_absolute_error\n",
    "\n",
    "y_true = [3, -0.5, 2, 7]\n",
    "y_pred = [2.5, 0.0, 2, 8]\n",
    "median_absolute_error(y_true, y_pred)"
   ]
  },
  {
   "cell_type": "markdown",
   "id": "035e7833",
   "metadata": {},
   "source": [
    "# 평균 제급근 오차(RMSE)\n",
    "\n",
    "- RMSE(Root Mean Squared Error)\n",
    "  - 평균 제급근 오차\n",
    "- 오차에 대해 제곱을 한 다음 모든 값을 더하여 평균을 낸 후 제곱근을 구함\n",
    "- MAE에 비해 상대적으로 값의 차이가 더 큼\n",
    "- 차이가 크게 나는 값에 대해서 패널티를 주고 싶다면 RMSE 값을 사용\n",
    "- sklearn 모듈에서 RMSE를 직접적으로 지원하지는 않고 mean_squared_error만 지원\n"
   ]
  },
  {
   "cell_type": "code",
   "execution_count": 2,
   "id": "37bf1137",
   "metadata": {},
   "outputs": [
    {
     "data": {
      "text/plain": [
       "0.375"
      ]
     },
     "execution_count": 2,
     "metadata": {},
     "output_type": "execute_result"
    }
   ],
   "source": [
    "from sklearn.metrics import mean_squared_error\n",
    "\n",
    "y_true = [3, -0.5, 2, 7]\n",
    "y_pred = [2.5, 0.0, 2, 8]\n",
    "mean_squared_error(y_true, y_pred)"
   ]
  },
  {
   "cell_type": "markdown",
   "id": "e971e2de",
   "metadata": {},
   "source": [
    "# 결정계수(R-squared)\n",
    "\n",
    "- 결정계수(R-squared)\n",
    "  - 두 개의 값의 증감이 얼마나 일관성을 가지는지 나타내는 지표\n",
    "- 예측값이 크면 클수록 실제값도 커지고, 예측값이 작으면 실제값도 작아짐\n",
    "- 두 개의 모델 중 어떤 모델이 조금 더 상관성이 있는지를 나타낼 수 있지만, 값의 차이 정도가 얼마인지는 나타낼 수 없다는 한계가 있음\n",
    "- sklearn 모듈에서 r2_score 사용\n"
   ]
  },
  {
   "cell_type": "code",
   "execution_count": 3,
   "id": "ce7fa6bb",
   "metadata": {},
   "outputs": [
    {
     "data": {
      "text/plain": [
       "0.9486081370449679"
      ]
     },
     "execution_count": 3,
     "metadata": {},
     "output_type": "execute_result"
    }
   ],
   "source": [
    "from sklearn.metrics import r2_score\n",
    "\n",
    "y_true = [3, -0.5, 2, 7]\n",
    "y_pred = [2.5, 0.0, 2, 8]\n",
    "r2_score(y_true, y_pred)"
   ]
  }
 ],
 "metadata": {
  "kernelspec": {
   "display_name": "ml-study (3.12.10)",
   "language": "python",
   "name": "python3"
  },
  "language_info": {
   "codemirror_mode": {
    "name": "ipython",
    "version": 3
   },
   "file_extension": ".py",
   "mimetype": "text/x-python",
   "name": "python",
   "nbconvert_exporter": "python",
   "pygments_lexer": "ipython3",
   "version": "3.12.10"
  }
 },
 "nbformat": 4,
 "nbformat_minor": 5
}
