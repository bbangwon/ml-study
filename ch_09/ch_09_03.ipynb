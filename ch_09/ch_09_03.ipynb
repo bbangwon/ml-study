{
 "cells": [
  {
   "cell_type": "markdown",
   "id": "22bcaadc",
   "metadata": {},
   "source": [
    "# 바인딩\n",
    "\n",
    "- 바인딩(binding)\n",
    "  - 연속형 데이터를 범주형 데이터로 변환\n"
   ]
  },
  {
   "cell_type": "code",
   "execution_count": 1,
   "id": "f787bcdf",
   "metadata": {},
   "outputs": [
    {
     "data": {
      "text/html": [
       "<div>\n",
       "<style scoped>\n",
       "    .dataframe tbody tr th:only-of-type {\n",
       "        vertical-align: middle;\n",
       "    }\n",
       "\n",
       "    .dataframe tbody tr th {\n",
       "        vertical-align: top;\n",
       "    }\n",
       "\n",
       "    .dataframe thead th {\n",
       "        text-align: right;\n",
       "    }\n",
       "</style>\n",
       "<table border=\"1\" class=\"dataframe\">\n",
       "  <thead>\n",
       "    <tr style=\"text-align: right;\">\n",
       "      <th></th>\n",
       "      <th>regiment</th>\n",
       "      <th>company</th>\n",
       "      <th>name</th>\n",
       "      <th>preTestScore</th>\n",
       "      <th>postTestScore</th>\n",
       "    </tr>\n",
       "  </thead>\n",
       "  <tbody>\n",
       "    <tr>\n",
       "      <th>0</th>\n",
       "      <td>Nighthawks</td>\n",
       "      <td>1st</td>\n",
       "      <td>Miller</td>\n",
       "      <td>4</td>\n",
       "      <td>25</td>\n",
       "    </tr>\n",
       "    <tr>\n",
       "      <th>1</th>\n",
       "      <td>Nighthawks</td>\n",
       "      <td>1st</td>\n",
       "      <td>Jacobson</td>\n",
       "      <td>24</td>\n",
       "      <td>94</td>\n",
       "    </tr>\n",
       "    <tr>\n",
       "      <th>2</th>\n",
       "      <td>Nighthawks</td>\n",
       "      <td>2nd</td>\n",
       "      <td>Ali</td>\n",
       "      <td>31</td>\n",
       "      <td>57</td>\n",
       "    </tr>\n",
       "    <tr>\n",
       "      <th>3</th>\n",
       "      <td>Nighthawks</td>\n",
       "      <td>2nd</td>\n",
       "      <td>Milner</td>\n",
       "      <td>2</td>\n",
       "      <td>62</td>\n",
       "    </tr>\n",
       "    <tr>\n",
       "      <th>4</th>\n",
       "      <td>Dragoons</td>\n",
       "      <td>1st</td>\n",
       "      <td>Cooze</td>\n",
       "      <td>3</td>\n",
       "      <td>70</td>\n",
       "    </tr>\n",
       "    <tr>\n",
       "      <th>5</th>\n",
       "      <td>Dragoons</td>\n",
       "      <td>1st</td>\n",
       "      <td>Jacon</td>\n",
       "      <td>4</td>\n",
       "      <td>25</td>\n",
       "    </tr>\n",
       "    <tr>\n",
       "      <th>6</th>\n",
       "      <td>Dragoons</td>\n",
       "      <td>2nd</td>\n",
       "      <td>Ryaner</td>\n",
       "      <td>24</td>\n",
       "      <td>94</td>\n",
       "    </tr>\n",
       "    <tr>\n",
       "      <th>7</th>\n",
       "      <td>Dragoons</td>\n",
       "      <td>2nd</td>\n",
       "      <td>Sone</td>\n",
       "      <td>31</td>\n",
       "      <td>57</td>\n",
       "    </tr>\n",
       "    <tr>\n",
       "      <th>8</th>\n",
       "      <td>Scouts</td>\n",
       "      <td>1st</td>\n",
       "      <td>Sloan</td>\n",
       "      <td>2</td>\n",
       "      <td>62</td>\n",
       "    </tr>\n",
       "    <tr>\n",
       "      <th>9</th>\n",
       "      <td>Scouts</td>\n",
       "      <td>1st</td>\n",
       "      <td>Piger</td>\n",
       "      <td>3</td>\n",
       "      <td>70</td>\n",
       "    </tr>\n",
       "    <tr>\n",
       "      <th>10</th>\n",
       "      <td>Scouts</td>\n",
       "      <td>2nd</td>\n",
       "      <td>Riani</td>\n",
       "      <td>2</td>\n",
       "      <td>62</td>\n",
       "    </tr>\n",
       "    <tr>\n",
       "      <th>11</th>\n",
       "      <td>Scouts</td>\n",
       "      <td>2nd</td>\n",
       "      <td>Ali</td>\n",
       "      <td>3</td>\n",
       "      <td>70</td>\n",
       "    </tr>\n",
       "  </tbody>\n",
       "</table>\n",
       "</div>"
      ],
      "text/plain": [
       "      regiment company      name  preTestScore  postTestScore\n",
       "0   Nighthawks     1st    Miller             4             25\n",
       "1   Nighthawks     1st  Jacobson            24             94\n",
       "2   Nighthawks     2nd       Ali            31             57\n",
       "3   Nighthawks     2nd    Milner             2             62\n",
       "4     Dragoons     1st     Cooze             3             70\n",
       "5     Dragoons     1st     Jacon             4             25\n",
       "6     Dragoons     2nd    Ryaner            24             94\n",
       "7     Dragoons     2nd      Sone            31             57\n",
       "8       Scouts     1st     Sloan             2             62\n",
       "9       Scouts     1st     Piger             3             70\n",
       "10      Scouts     2nd     Riani             2             62\n",
       "11      Scouts     2nd       Ali             3             70"
      ]
     },
     "execution_count": 1,
     "metadata": {},
     "output_type": "execute_result"
    }
   ],
   "source": [
    "import pandas as pd\n",
    "import numpy as np\n",
    "\n",
    "raw_data = {\n",
    "    \"regiment\": [\n",
    "        \"Nighthawks\",\n",
    "        \"Nighthawks\",\n",
    "        \"Nighthawks\",\n",
    "        \"Nighthawks\",\n",
    "        \"Dragoons\",\n",
    "        \"Dragoons\",\n",
    "        \"Dragoons\",\n",
    "        \"Dragoons\",\n",
    "        \"Scouts\",\n",
    "        \"Scouts\",\n",
    "        \"Scouts\",\n",
    "        \"Scouts\",\n",
    "    ],\n",
    "    \"company\": [\n",
    "        \"1st\",\n",
    "        \"1st\",\n",
    "        \"2nd\",\n",
    "        \"2nd\",\n",
    "        \"1st\",\n",
    "        \"1st\",\n",
    "        \"2nd\",\n",
    "        \"2nd\",\n",
    "        \"1st\",\n",
    "        \"1st\",\n",
    "        \"2nd\",\n",
    "        \"2nd\",\n",
    "    ],\n",
    "    \"name\": [\n",
    "        \"Miller\",\n",
    "        \"Jacobson\",\n",
    "        \"Ali\",\n",
    "        \"Milner\",\n",
    "        \"Cooze\",\n",
    "        \"Jacon\",\n",
    "        \"Ryaner\",\n",
    "        \"Sone\",\n",
    "        \"Sloan\",\n",
    "        \"Piger\",\n",
    "        \"Riani\",\n",
    "        \"Ali\",\n",
    "    ],\n",
    "    \"preTestScore\": [4, 24, 31, 2, 3, 4, 24, 31, 2, 3, 2, 3],\n",
    "    \"postTestScore\": [25, 94, 57, 62, 70, 25, 94, 57, 62, 70, 62, 70],\n",
    "}\n",
    "\n",
    "df = pd.DataFrame(\n",
    "    raw_data, columns=[\"regiment\", \"company\", \"name\", \"preTestScore\", \"postTestScore\"]\n",
    ")\n",
    "df"
   ]
  },
  {
   "cell_type": "markdown",
   "id": "4068fdf8",
   "metadata": {},
   "source": [
    "- postTestScore에 대한 등급을 측정하는 코드를 작성\n",
    "- 데이터 범위를 구분: 0~25, 25~50, 50~75, 75~100으로 구분\n",
    "- 함수 cut 사용\n",
    "  - bins 리스트에 구간의 시작 값 끝 값을 넣고 구간의 이름을 리스트로 나열\n",
    "  - bins의 원소는 5개이고 group_names는 4개\n",
    "  - cut 함수로 나눌 시리즈 객체와 구간, 구간의 이름을 넣어주면 해당 값을 바인딩하여 표시해줌\n"
   ]
  },
  {
   "cell_type": "code",
   "execution_count": 2,
   "id": "319e844b",
   "metadata": {},
   "outputs": [
    {
     "data": {
      "text/plain": [
       "0       Low\n",
       "1     Great\n",
       "2      Good\n",
       "3      Good\n",
       "4      Good\n",
       "5       Low\n",
       "6     Great\n",
       "7      Good\n",
       "8      Good\n",
       "9      Good\n",
       "10     Good\n",
       "11     Good\n",
       "Name: postTestScore, dtype: category\n",
       "Categories (4, object): ['Low' < 'Okay' < 'Good' < 'Great']"
      ]
     },
     "execution_count": 2,
     "metadata": {},
     "output_type": "execute_result"
    }
   ],
   "source": [
    "bins = [0, 25, 50, 75, 100]\n",
    "group_names = [\"Low\", \"Okay\", \"Good\", \"Great\"]\n",
    "categories = pd.cut(df[\"postTestScore\"], bins, labels=group_names)\n",
    "categories"
   ]
  },
  {
   "cell_type": "markdown",
   "id": "2e9f1122",
   "metadata": {},
   "source": [
    "# 피쳐 스케일링\n",
    "\n",
    "- 스케일링(scaling)\n",
    "  - 몸무게와 키를 하나의 모델에 넣으면 데이터의 범위가 훨씬 넓어져 키가 몸무게에 비해 모델에 과다하게 영향을 줌\n",
    "- 머신러닝(machine learning)\n",
    "- x1과 x2의 변수 범위가 다를 때 하나의 변수 범위로 통일시켜 처리\n"
   ]
  },
  {
   "cell_type": "markdown",
   "id": "a3566aa4",
   "metadata": {},
   "source": [
    "# 최솟값-최대값 정규화\n",
    "\n",
    "- 최솟값-최댓값 정규화(min-max normalization)\n",
    "  - 최솟값과 최댓값을 기준으로 0에서 1, 또는 0에서 지정 값까지로 값의 크기를 변화시킴\n",
    "    $$ Zi=\\frac{Xi-min(X)}{max(X)-min(X)}=(new*{max}-new*{min})+new\\_{min} $$\n",
    "  - x는 처리하고자 하는 열, x_i는 이 열의 하나의 값, max(x)는 해당 열의 최댓값, min(x)는 해당 열의 최솟값\n",
    "  - new{max}와 new{min}은 새롭게 지정되는 값의 최댓값 또는 최솟값\n"
   ]
  },
  {
   "cell_type": "markdown",
   "id": "e14456e3",
   "metadata": {},
   "source": [
    "# z-스코어 정규화\n",
    "\n",
    "- z-스코어 정규화(z-score normalization)\n",
    "  - 기존 값을 표준 정규분포값으로 변환하여 처리\n",
    "    $$ Z = \\frac{X\\_{i}-\\mu}{\\sigma} $$\n",
    "  - $$ {\\mu} 는 x 열의 평균값이고 \\sigma 는 표준편차 $$\n",
    "  - 통계학 시간에 배우는 수식과 동일\n"
   ]
  },
  {
   "cell_type": "code",
   "execution_count": 3,
   "id": "25c4f5a9",
   "metadata": {},
   "outputs": [
    {
     "data": {
      "text/html": [
       "<div>\n",
       "<style scoped>\n",
       "    .dataframe tbody tr th:only-of-type {\n",
       "        vertical-align: middle;\n",
       "    }\n",
       "\n",
       "    .dataframe tbody tr th {\n",
       "        vertical-align: top;\n",
       "    }\n",
       "\n",
       "    .dataframe thead th {\n",
       "        text-align: right;\n",
       "    }\n",
       "</style>\n",
       "<table border=\"1\" class=\"dataframe\">\n",
       "  <thead>\n",
       "    <tr style=\"text-align: right;\">\n",
       "      <th></th>\n",
       "      <th>A</th>\n",
       "      <th>B</th>\n",
       "      <th>C</th>\n",
       "    </tr>\n",
       "  </thead>\n",
       "  <tbody>\n",
       "    <tr>\n",
       "      <th>0</th>\n",
       "      <td>14.00</td>\n",
       "      <td>103.02</td>\n",
       "      <td>big</td>\n",
       "    </tr>\n",
       "    <tr>\n",
       "      <th>1</th>\n",
       "      <td>90.20</td>\n",
       "      <td>107.26</td>\n",
       "      <td>small</td>\n",
       "    </tr>\n",
       "    <tr>\n",
       "      <th>2</th>\n",
       "      <td>90.95</td>\n",
       "      <td>110.35</td>\n",
       "      <td>big</td>\n",
       "    </tr>\n",
       "    <tr>\n",
       "      <th>3</th>\n",
       "      <td>96.27</td>\n",
       "      <td>114.23</td>\n",
       "      <td>small</td>\n",
       "    </tr>\n",
       "    <tr>\n",
       "      <th>4</th>\n",
       "      <td>91.21</td>\n",
       "      <td>114.68</td>\n",
       "      <td>small</td>\n",
       "    </tr>\n",
       "  </tbody>\n",
       "</table>\n",
       "</div>"
      ],
      "text/plain": [
       "       A       B      C\n",
       "0  14.00  103.02    big\n",
       "1  90.20  107.26  small\n",
       "2  90.95  110.35    big\n",
       "3  96.27  114.23  small\n",
       "4  91.21  114.68  small"
      ]
     },
     "execution_count": 3,
     "metadata": {},
     "output_type": "execute_result"
    }
   ],
   "source": [
    "df = pd.DataFrame(\n",
    "    {\n",
    "        \"A\": [14.00, 90.20, 90.95, 96.27, 91.21],\n",
    "        \"B\": [103.02, 107.26, 110.35, 114.23, 114.68],\n",
    "        \"C\": [\"big\", \"small\", \"big\", \"small\", \"small\"],\n",
    "    }\n",
    ")\n",
    "df"
   ]
  },
  {
   "cell_type": "markdown",
   "id": "7db5ad21",
   "metadata": {},
   "source": [
    "- 스케일링할 때는 브로드캐스팅 개념으로 스칼라 값(평균값, 최댓값, 최솟값)과 벡터(열) 값 간 연산\n"
   ]
  },
  {
   "cell_type": "code",
   "execution_count": 4,
   "id": "f19745bb",
   "metadata": {},
   "outputs": [
    {
     "data": {
      "text/plain": [
       "0     0.00\n",
       "1    76.20\n",
       "2    76.95\n",
       "3    82.27\n",
       "4    77.21\n",
       "Name: A, dtype: float64"
      ]
     },
     "execution_count": 4,
     "metadata": {},
     "output_type": "execute_result"
    }
   ],
   "source": [
    "df[\"A\"] - df[\"A\"].min()"
   ]
  },
  {
   "cell_type": "markdown",
   "id": "904b7196",
   "metadata": {},
   "source": [
    "- 최댓값과 최솟값을 따로 구하지 않고 코드로 수식을 나타낼 수 있음\n",
    "  $$ Zi=\\frac{Xi-min(X)}{max(X)-min(X)} $$\n"
   ]
  },
  {
   "cell_type": "code",
   "execution_count": 5,
   "id": "11c223d4",
   "metadata": {},
   "outputs": [
    {
     "data": {
      "text/plain": [
       "0    0.000000\n",
       "1    0.926219\n",
       "2    0.935335\n",
       "3    1.000000\n",
       "4    0.938495\n",
       "Name: A, dtype: float64"
      ]
     },
     "execution_count": 5,
     "metadata": {},
     "output_type": "execute_result"
    }
   ],
   "source": [
    "(df[\"A\"] - df[\"A\"].min()) / (df[\"A\"].max() - df[\"A\"].min())"
   ]
  },
  {
   "cell_type": "markdown",
   "id": "48524506",
   "metadata": {},
   "source": [
    "- Z-스코어 정규화(z-score normalization)\n",
    "  - z-스코어 정규화 수식 역시 코드로 나타낼 수 있음\n"
   ]
  },
  {
   "cell_type": "code",
   "execution_count": 6,
   "id": "106abc4d",
   "metadata": {},
   "outputs": [
    {
     "data": {
      "text/plain": [
       "0   -1.405250\n",
       "1   -0.540230\n",
       "2    0.090174\n",
       "3    0.881749\n",
       "4    0.973556\n",
       "Name: B, dtype: float64"
      ]
     },
     "execution_count": 6,
     "metadata": {},
     "output_type": "execute_result"
    }
   ],
   "source": [
    "(df[\"B\"] - df[\"B\"].mean()) / (df[\"B\"].std())"
   ]
  }
 ],
 "metadata": {
  "kernelspec": {
   "display_name": "ml-study",
   "language": "python",
   "name": "python3"
  },
  "language_info": {
   "codemirror_mode": {
    "name": "ipython",
    "version": 3
   },
   "file_extension": ".py",
   "mimetype": "text/x-python",
   "name": "python",
   "nbconvert_exporter": "python",
   "pygments_lexer": "ipython3",
   "version": "3.12.10"
  }
 },
 "nbformat": 4,
 "nbformat_minor": 5
}
