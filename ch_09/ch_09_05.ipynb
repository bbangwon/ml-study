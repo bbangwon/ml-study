{
 "cells": [
  {
   "cell_type": "markdown",
   "id": "87cddef7",
   "metadata": {},
   "source": [
    "# 머신러닝 프로세스\n",
    "\n",
    "- 인공지능(Artificial Intelligence, AI)\n",
    "  - 머신러닝 프로세스와 데이터 전처리\n",
    "  - 데이터를 확보한 후 데이터를 정제 및 전처리\n",
    "  - 학습용과 테스트 데이터를 나눠 학습용 데이터로 학습을 실시\n",
    "  - 학습 결과를 평가 지표와 비교하여 하이퍼 매개변수 변환\n",
    "  - 최종적인 모델 생성하여 테스트 데이터셋으로 성능을 측정\n",
    "  - 모델을 시스템에 배치하여 모델을 작동시킴\n"
   ]
  },
  {
   "cell_type": "markdown",
   "id": "fa76a73a",
   "metadata": {},
   "source": [
    "# 데이터 전처리\n",
    "\n",
    "- 데이터 정제/데이터 전처리 단계는 실제로 가장 많은 시간이 들어가는 작업\n",
    "  - 머신러닝 모델을 만드는 'ML Code'작업은 가장 작은 부분을 차지하고, 데이터 수집이나 피쳐 추출(Feature Extraction), 데이터 검증(Data Verification)이 훨씬 더 많은 부분을 차지\n"
   ]
  },
  {
   "cell_type": "markdown",
   "id": "083ab0de",
   "metadata": {},
   "source": [
    "# 타이타닉 생존자 예측하기\n",
    "\n",
    "- 타이타닉 생존자 예측하기\n",
    "  - 타이타닉 문제는 캐글(Kaggle)에 있는 많은 데이터 중 데이터 분석 입문자가 처음 사용하기 좋은 데이터\n",
    "  - 데이터가 기본적이면서 평가가 쉬움\n"
   ]
  },
  {
   "cell_type": "markdown",
   "id": "359cd030",
   "metadata": {},
   "source": [
    "- 타이타닉 웹 페이지\n",
    "  - 개요, 데이터, 코드, 논의, 리더보드, 규칙 등으로 구성\n",
    "  - 처음에는 개요 페이지에서 대회의 내용과 평가지표를 확인\n",
    "  - 평가지표에 맞게 머신러닝 모델링을 실시\n",
    "  - 타이타닉 문제는 배에 타고 있는 승객 중 살아남을 수 있는 승객을 예측하는 모델로, 'accuracy'라는 지표를 사용\n"
   ]
  },
  {
   "cell_type": "markdown",
   "id": "24b046e6",
   "metadata": {},
   "source": [
    "# 데이터 확보하기\n",
    "\n",
    "- 데이터 확보하기\n",
    "  - https://www.kaggle.com/c/titanic\n",
    "  - [Data] 탭 - 오른쪽 하단 [Download All] 버튼\n",
    "  - 'titanic.zip'파일의 압축을 풂\n",
    "  - gender_submission.csv\n",
    "    - 데이터 제출 예제 파일로 캐글에 제출하여 평가를 받을 파일의 예시\n",
    "  - test.csv\n",
    "    - 예측되는 탑승객들의 데이터가 있는 파일\n",
    "  - train.csv\n",
    "    - 모델을 학습시키기 위한 데이터가 있는 파일\n",
    "    - 'train.csv' 파일 데이터를 사용하여 모델을 만들고, 모델을 'test.csv' 데이터에 적용하여 결과를 'gender_submission.csv' 파일 형태로 제출\n",
    "    - 'train.csv' 파일과 달리 'test.csv' 파일에는 y값, 즉 탑승객의 생존 유무에 대한 열이 없음\n",
    "    - 예측에 해당하는 데이터임\n"
   ]
  },
  {
   "cell_type": "markdown",
   "id": "45d0a938",
   "metadata": {},
   "source": [
    "# 데이터 확인하기\n",
    "\n",
    "- 데이터 확인하기\n",
    "  - 다운로드한 데이터를 작업 폴더에 넣음\n",
    "  - 코드 사용이 용이하도록 gender_submission.csv 파일은 삭제\n"
   ]
  },
  {
   "cell_type": "code",
   "execution_count": 2,
   "id": "a6843efe",
   "metadata": {},
   "outputs": [
    {
     "data": {
      "text/plain": [
       "['test.csv', 'train.csv']"
      ]
     },
     "execution_count": 2,
     "metadata": {},
     "output_type": "execute_result"
    }
   ],
   "source": [
    "import pandas as pd\n",
    "import os\n",
    "import matplotlib.pyplot as plt\n",
    "import numpy as np\n",
    "import seaborn as sns\n",
    "\n",
    "sns.set_theme(style=\"whitegrid\", color_codes=True)\n",
    "DATA_DIR = \"./titanic\"\n",
    "os.listdir(DATA_DIR)"
   ]
  },
  {
   "cell_type": "code",
   "execution_count": 4,
   "id": "84cf1fd4",
   "metadata": {},
   "outputs": [
    {
     "data": {
      "text/plain": [
       "['./titanic/train.csv', './titanic/test.csv']"
      ]
     },
     "execution_count": 4,
     "metadata": {},
     "output_type": "execute_result"
    }
   ],
   "source": [
    "data_files = sorted(\n",
    "    [os.path.join(DATA_DIR, filename) for filename in os.listdir(DATA_DIR)],\n",
    "    reverse=True,\n",
    ")\n",
    "data_files"
   ]
  },
  {
   "cell_type": "code",
   "execution_count": null,
   "id": "ebf54104",
   "metadata": {},
   "outputs": [
    {
     "data": {
      "text/html": [
       "<div>\n",
       "<style scoped>\n",
       "    .dataframe tbody tr th:only-of-type {\n",
       "        vertical-align: middle;\n",
       "    }\n",
       "\n",
       "    .dataframe tbody tr th {\n",
       "        vertical-align: top;\n",
       "    }\n",
       "\n",
       "    .dataframe thead th {\n",
       "        text-align: right;\n",
       "    }\n",
       "</style>\n",
       "<table border=\"1\" class=\"dataframe\">\n",
       "  <thead>\n",
       "    <tr style=\"text-align: right;\">\n",
       "      <th></th>\n",
       "      <th>PassengerId</th>\n",
       "      <th>Survived</th>\n",
       "      <th>Pclass</th>\n",
       "      <th>Name</th>\n",
       "      <th>Sex</th>\n",
       "      <th>Age</th>\n",
       "      <th>SibSp</th>\n",
       "      <th>Parch</th>\n",
       "      <th>Ticket</th>\n",
       "      <th>Fare</th>\n",
       "      <th>Cabin</th>\n",
       "      <th>Embarked</th>\n",
       "    </tr>\n",
       "  </thead>\n",
       "  <tbody>\n",
       "    <tr>\n",
       "      <th>0</th>\n",
       "      <td>1</td>\n",
       "      <td>0.0</td>\n",
       "      <td>3</td>\n",
       "      <td>Braund, Mr. Owen Harris</td>\n",
       "      <td>male</td>\n",
       "      <td>22.0</td>\n",
       "      <td>1</td>\n",
       "      <td>0</td>\n",
       "      <td>A/5 21171</td>\n",
       "      <td>7.2500</td>\n",
       "      <td>NaN</td>\n",
       "      <td>S</td>\n",
       "    </tr>\n",
       "    <tr>\n",
       "      <th>1</th>\n",
       "      <td>2</td>\n",
       "      <td>1.0</td>\n",
       "      <td>1</td>\n",
       "      <td>Cumings, Mrs. John Bradley (Florence Briggs Th...</td>\n",
       "      <td>female</td>\n",
       "      <td>38.0</td>\n",
       "      <td>1</td>\n",
       "      <td>0</td>\n",
       "      <td>PC 17599</td>\n",
       "      <td>71.2833</td>\n",
       "      <td>C85</td>\n",
       "      <td>C</td>\n",
       "    </tr>\n",
       "    <tr>\n",
       "      <th>2</th>\n",
       "      <td>3</td>\n",
       "      <td>1.0</td>\n",
       "      <td>3</td>\n",
       "      <td>Heikkinen, Miss. Laina</td>\n",
       "      <td>female</td>\n",
       "      <td>26.0</td>\n",
       "      <td>0</td>\n",
       "      <td>0</td>\n",
       "      <td>STON/O2. 3101282</td>\n",
       "      <td>7.9250</td>\n",
       "      <td>NaN</td>\n",
       "      <td>S</td>\n",
       "    </tr>\n",
       "    <tr>\n",
       "      <th>3</th>\n",
       "      <td>4</td>\n",
       "      <td>1.0</td>\n",
       "      <td>1</td>\n",
       "      <td>Futrelle, Mrs. Jacques Heath (Lily May Peel)</td>\n",
       "      <td>female</td>\n",
       "      <td>35.0</td>\n",
       "      <td>1</td>\n",
       "      <td>0</td>\n",
       "      <td>113803</td>\n",
       "      <td>53.1000</td>\n",
       "      <td>C123</td>\n",
       "      <td>S</td>\n",
       "    </tr>\n",
       "    <tr>\n",
       "      <th>4</th>\n",
       "      <td>5</td>\n",
       "      <td>0.0</td>\n",
       "      <td>3</td>\n",
       "      <td>Allen, Mr. William Henry</td>\n",
       "      <td>male</td>\n",
       "      <td>35.0</td>\n",
       "      <td>0</td>\n",
       "      <td>0</td>\n",
       "      <td>373450</td>\n",
       "      <td>8.0500</td>\n",
       "      <td>NaN</td>\n",
       "      <td>S</td>\n",
       "    </tr>\n",
       "  </tbody>\n",
       "</table>\n",
       "</div>"
      ],
      "text/plain": [
       "   PassengerId  Survived  Pclass  \\\n",
       "0            1       0.0       3   \n",
       "1            2       1.0       1   \n",
       "2            3       1.0       3   \n",
       "3            4       1.0       1   \n",
       "4            5       0.0       3   \n",
       "\n",
       "                                                Name     Sex   Age  SibSp  \\\n",
       "0                            Braund, Mr. Owen Harris    male  22.0      1   \n",
       "1  Cumings, Mrs. John Bradley (Florence Briggs Th...  female  38.0      1   \n",
       "2                             Heikkinen, Miss. Laina  female  26.0      0   \n",
       "3       Futrelle, Mrs. Jacques Heath (Lily May Peel)  female  35.0      1   \n",
       "4                           Allen, Mr. William Henry    male  35.0      0   \n",
       "\n",
       "   Parch            Ticket     Fare Cabin Embarked  \n",
       "0      0         A/5 21171   7.2500   NaN        S  \n",
       "1      0          PC 17599  71.2833   C85        C  \n",
       "2      0  STON/O2. 3101282   7.9250   NaN        S  \n",
       "3      0            113803  53.1000  C123        S  \n",
       "4      0            373450   8.0500   NaN        S  "
      ]
     },
     "execution_count": 5,
     "metadata": {},
     "output_type": "execute_result"
    }
   ],
   "source": [
    "# 데이터프레임을 각 파일에서 읽어온 후 df_list에 추가\n",
    "df_list = []\n",
    "for filename in data_files:\n",
    "    df_list.append(pd.read_csv(filename))\n",
    "\n",
    "df = pd.concat(df_list, sort=False)  # 두개의 데이터 프레임을 하나로 통합\n",
    "df = df.reset_index(drop=True)  # 인덱스 초기화\n",
    "df.head(5)  # 결과 출력"
   ]
  },
  {
   "cell_type": "markdown",
   "id": "2c6c95b5",
   "metadata": {},
   "source": [
    "- 데이터 열 확인하기\n",
    "  | 변수명 | 의미 | 값 종류 |\n",
    "  | ---- | --- | ---- |\n",
    "  | Survived | 생존 여부 | 0=No, 1=Yes |\n",
    "  | Pclass | 티켓 클래스 | 1=1st, 2=2nd, 3=3rd |\n",
    "  | Sex | 성별 | |\n",
    "  | Age | 나이 | |\n",
    "  | SibSp | 타이타닉 밖의 형제자매/부부의 수 | |\n",
    "  | Parch | 타이타닉 밖의 부모/자식의 수 | |\n",
    "  | Ticket | 티켓 번호 | |\n",
    "  | Fare | 티켓 가격 | |\n",
    "  | Cabin | 객실 번호 | |\n",
    "  | Embarked | 승선항구 | C=Cherbourg, Q=Queenstown, S=Southampton |\n"
   ]
  },
  {
   "cell_type": "code",
   "execution_count": 6,
   "id": "e82f1184",
   "metadata": {},
   "outputs": [],
   "source": [
    "# †rain.csv 데이터의 수\n",
    "number_of_train_dataset = df.Survived.notnull().sum()\n",
    "\n",
    "# test.csv 데이터 수\n",
    "number_of_test_dataset = df.Survived.isnull().sum()\n",
    "\n",
    "# train.csv 데이터의 y 값 추출\n",
    "y_true = df.pop(\"Survived\")[:number_of_train_dataset]"
   ]
  },
  {
   "cell_type": "markdown",
   "id": "aadff324",
   "metadata": {},
   "source": [
    "# 데이터 노트 작성하기\n",
    "\n",
    "- 데이터 노트\n",
    "  - 분석해야 하는 데이터에 대한 여러 가지 아이디어를 정리하는 노트\n",
    "- 각 데이터의 현재 데이터 타입 올바르게 정의\n",
    "- 숫자로 표시되어 있지만 범주형 데이터로 변형이 필요한 경우 등\n"
   ]
  },
  {
   "cell_type": "markdown",
   "id": "b715725e",
   "metadata": {},
   "source": [
    "| 변수명   | 의미                             | 데이터 타입 | 아이디어                            |\n",
    "| -------- | -------------------------------- | ----------- | ----------------------------------- |\n",
    "| Survived | 생존 여부                        | 범주형      | Y 데이터                            |\n",
    "| Pclass   | 티켓 클래스                      | 범주형      |                                     |\n",
    "| Sex      | 성별                             | 범주형      |                                     |\n",
    "| Age      | 나이                             | 범주형      | 생존여부에 나이가 영향을 줄까?      |\n",
    "| SibSp    | 타이타닉 밖의 형제자매/부부의 수 | 연속형(int) |                                     |\n",
    "| Parch    | 타이타닉 밖의 부모/자식의 수     | 연속형(int) |                                     |\n",
    "| Ticket   | 티켓 번호                        | 범주형      |                                     |\n",
    "| Fare     | 티켓 가격                        | 연속형(int) | 티켓 가격과 pclass와 관련있지 않나? |\n",
    "| Cabin    | 객실 번호                        | 범주형      |                                     |\n",
    "| Embarked | 승선항구                         | 범주형      | 승선항구와 생존률은 영향이 있을까?  |\n"
   ]
  },
  {
   "cell_type": "markdown",
   "id": "29814f20",
   "metadata": {},
   "source": [
    "- 데이터의 모양을 확인할 때 T 함수 사용\n",
    "  - transpose 함수는 데이터를 가로로 한 줄씩 보여줘 안에 있는 값들을 확인하기 좋음\n"
   ]
  },
  {
   "cell_type": "code",
   "execution_count": 7,
   "id": "fd9609a0",
   "metadata": {},
   "outputs": [
    {
     "data": {
      "text/html": [
       "<div>\n",
       "<style scoped>\n",
       "    .dataframe tbody tr th:only-of-type {\n",
       "        vertical-align: middle;\n",
       "    }\n",
       "\n",
       "    .dataframe tbody tr th {\n",
       "        vertical-align: top;\n",
       "    }\n",
       "\n",
       "    .dataframe thead th {\n",
       "        text-align: right;\n",
       "    }\n",
       "</style>\n",
       "<table border=\"1\" class=\"dataframe\">\n",
       "  <thead>\n",
       "    <tr style=\"text-align: right;\">\n",
       "      <th></th>\n",
       "      <th>0</th>\n",
       "      <th>1</th>\n",
       "    </tr>\n",
       "  </thead>\n",
       "  <tbody>\n",
       "    <tr>\n",
       "      <th>PassengerId</th>\n",
       "      <td>1</td>\n",
       "      <td>2</td>\n",
       "    </tr>\n",
       "    <tr>\n",
       "      <th>Pclass</th>\n",
       "      <td>3</td>\n",
       "      <td>1</td>\n",
       "    </tr>\n",
       "    <tr>\n",
       "      <th>Name</th>\n",
       "      <td>Braund, Mr. Owen Harris</td>\n",
       "      <td>Cumings, Mrs. John Bradley (Florence Briggs Th...</td>\n",
       "    </tr>\n",
       "    <tr>\n",
       "      <th>Sex</th>\n",
       "      <td>male</td>\n",
       "      <td>female</td>\n",
       "    </tr>\n",
       "    <tr>\n",
       "      <th>Age</th>\n",
       "      <td>22.0</td>\n",
       "      <td>38.0</td>\n",
       "    </tr>\n",
       "    <tr>\n",
       "      <th>SibSp</th>\n",
       "      <td>1</td>\n",
       "      <td>1</td>\n",
       "    </tr>\n",
       "    <tr>\n",
       "      <th>Parch</th>\n",
       "      <td>0</td>\n",
       "      <td>0</td>\n",
       "    </tr>\n",
       "    <tr>\n",
       "      <th>Ticket</th>\n",
       "      <td>A/5 21171</td>\n",
       "      <td>PC 17599</td>\n",
       "    </tr>\n",
       "    <tr>\n",
       "      <th>Fare</th>\n",
       "      <td>7.25</td>\n",
       "      <td>71.2833</td>\n",
       "    </tr>\n",
       "    <tr>\n",
       "      <th>Cabin</th>\n",
       "      <td>NaN</td>\n",
       "      <td>C85</td>\n",
       "    </tr>\n",
       "    <tr>\n",
       "      <th>Embarked</th>\n",
       "      <td>S</td>\n",
       "      <td>C</td>\n",
       "    </tr>\n",
       "  </tbody>\n",
       "</table>\n",
       "</div>"
      ],
      "text/plain": [
       "                                   0  \\\n",
       "PassengerId                        1   \n",
       "Pclass                             3   \n",
       "Name         Braund, Mr. Owen Harris   \n",
       "Sex                             male   \n",
       "Age                             22.0   \n",
       "SibSp                              1   \n",
       "Parch                              0   \n",
       "Ticket                     A/5 21171   \n",
       "Fare                            7.25   \n",
       "Cabin                            NaN   \n",
       "Embarked                           S   \n",
       "\n",
       "                                                             1  \n",
       "PassengerId                                                  2  \n",
       "Pclass                                                       1  \n",
       "Name         Cumings, Mrs. John Bradley (Florence Briggs Th...  \n",
       "Sex                                                     female  \n",
       "Age                                                       38.0  \n",
       "SibSp                                                        1  \n",
       "Parch                                                        0  \n",
       "Ticket                                                PC 17599  \n",
       "Fare                                                   71.2833  \n",
       "Cabin                                                      C85  \n",
       "Embarked                                                     C  "
      ]
     },
     "execution_count": 7,
     "metadata": {},
     "output_type": "execute_result"
    }
   ],
   "source": [
    "df.head(2).T"
   ]
  }
 ],
 "metadata": {
  "kernelspec": {
   "display_name": "ml-study",
   "language": "python",
   "name": "python3"
  },
  "language_info": {
   "codemirror_mode": {
    "name": "ipython",
    "version": 3
   },
   "file_extension": ".py",
   "mimetype": "text/x-python",
   "name": "python",
   "nbconvert_exporter": "python",
   "pygments_lexer": "ipython3",
   "version": "3.12.10"
  }
 },
 "nbformat": 4,
 "nbformat_minor": 5
}
