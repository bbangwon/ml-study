{
 "cells": [
  {
   "cell_type": "markdown",
   "id": "7fab7d28",
   "metadata": {},
   "source": [
    "# 선형회귀의 개념\n",
    "\n",
    "- 선형회귀(Linear Regression)\n",
    "  - 종속변수 y와 한 개 이상의 독립변수 x와의 선형 상관관계를 모델링하는 회귀분석 기법\n",
    "  - 기존 데이터를 활용해 연속형 변수값을 예측\n",
    "  - y = ax + b 꼴의 수식을 만들고 a와 b의 값을 찾아냄\n",
    "  - 기존 데이터를 '잘 표현하는가'\n",
    "  - 예측값이 실제값 대비 차이가 많이 나지 않는 그래프\n"
   ]
  },
  {
   "cell_type": "markdown",
   "id": "1b715765",
   "metadata": {},
   "source": [
    "# 예측 함수와 실제값 간의 차이\n",
    "\n",
    "- 예측 한수와 실제값 간의 차이\n",
    "  - 예측 함수는 예측값과 실제값 간 차이를 최소화하는 방향으로 만들어야 함\n",
    "  - 데이터 n개 중 i번째 데이터의 y값에 대한 실제값과 예측값의 차이\n",
    "    $$ \\hat{y}^{i}-y^{i} $$\n",
    "  - 데이터가 5개 있을 때 5개 데이터의 오차의 합\n",
    "    $$ (\\hat{y}^{1}-y^{1}) + (\\hat{y}^{2}-y^{2}) + (\\hat{y}^{3}-y^{3}) + (\\hat{y}^{4}-y^{4}) + (\\hat{y}^{5}-y^{5}) $$\n",
    "  - 오차 값들이 음수와 양수로 나왔을 때 값들 간의 차이가 상쇄되어 0으로 계산될 수 있음\n",
    "  - 같은 식을 행렬로 표현\n",
    "    $$\n",
    "    \\hat{y} =\n",
    "    \\begin{bmatrix}\n",
    "    w1 \\times 8759 + w0 \\\\\n",
    "    w1 \\times 10132 + w0 \\\\\n",
    "    w1 \\times 12078 + w0 \\\\\n",
    "    w1 \\times 16430 + w0\n",
    "    \\end{bmatrix}\n",
    "    y=\n",
    "    \\begin{bmatrix}\n",
    "    487 \\\\\n",
    "    612 \\\\\n",
    "    866 \\\\\n",
    "    1030\n",
    "    \\end{bmatrix}\n",
    "    (\\hat{y} - y)^{2} =\n",
    "    \\begin{bmatrix}\n",
    "    w1 \\times 8759 + w0 \\\\\n",
    "    w1 \\times 10132 + w0 \\\\\n",
    "    w1 \\times 12078 + w0 \\\\\n",
    "    w1 \\times 16430 + w0\n",
    "    \\end{bmatrix}\n",
    "    $$\n"
   ]
  },
  {
   "cell_type": "markdown",
   "id": "98d7c3da",
   "metadata": {},
   "source": [
    "- 제곱 오차(square error)\n",
    "  - 예측값과 실제값의 제곱을 표시하여 오차를 나타냄\n",
    "  - 제곱 오차를 최소화하는 w0과 w1을 찾아야 함\n"
   ]
  },
  {
   "cell_type": "markdown",
   "id": "9def692d",
   "metadata": {},
   "source": [
    "# 비용 함수의 개념\n",
    "\n",
    "- 비용 함수(cost function)\n",
    "  - 머신러닝에서 최소화해야 할 예측값과 실제값의 차이\n",
    "- 가설 함수(hypothesis function)\n",
    "  - 예측값을 예측하는 함수\n",
    "- 함수 입력값은 x이고, 함수에서 결정할 것은 세타로, 가중치(weight) 값인 Wn\n",
    "- 비용 함수가 두 개의 가중치 값으로 결정됨\n",
    "  - 잔차의 제곱합(Error sum of squares)\n",
    "    - 예측값인 가설 함수와 실제값인 y값 간의 차이를 제곱해서 모두 합함\n",
    "    - 총 데이터는 m개가 존재하고 각 데이터의 예측값과 실제값을 뺀 후 제곱한 값들을 모두 합한 값\n",
    "  - 손실 함수(loss function)\n",
    "    - 비용함수에서 잔차의 제곱합 부분\n",
    "  - 평균 제곱 오차(mean squared error, MSE)\n",
    "    - 잔차의 제곱합을 2m으로 나눈 값\n"
   ]
  },
  {
   "cell_type": "markdown",
   "id": "09e69f8d",
   "metadata": {},
   "source": [
    "# 선형회귀 예제\n",
    "\n",
    "- 선형회귀 예제\n",
    "  - 키와 몸무게는 어느 정도 비례할 것으로 예상된다.\n",
    "  - 아래와 같은 데이터가 있을 때, 선형 회귀를 이용하여 학습시키고 키가 165cm일 때의 예측값을 얻어보자\n",
    "\n",
    "| 키(단위: cm) | 몸무게(단위: kg) |\n",
    "| ------------ | ---------------- |\n",
    "| 174          | 71               |\n",
    "| 152          | 55               |\n",
    "| 138          | 46               |\n",
    "| 128          | 39               |\n",
    "| 186          | 88               |\n"
   ]
  },
  {
   "cell_type": "code",
   "execution_count": 1,
   "id": "01685fd0",
   "metadata": {},
   "outputs": [
    {
     "name": "stdout",
     "output_type": "stream",
     "text": [
      "[67.30998637]\n"
     ]
    },
    {
     "data": {
      "image/png": "[encoded data removed]",
      "text/plain": [
       "<Figure size 640x480 with 1 Axes>"
      ]
     },
     "metadata": {},
     "output_type": "display_data"
    }
   ],
   "source": [
    "import matplotlib.pylab as plt\n",
    "from sklearn import linear_model\n",
    "\n",
    "reg = linear_model.LinearRegression()\n",
    "\n",
    "X = [[174], [152], [138], [128], [186]]\n",
    "y = [71, 55, 46, 38, 88]\n",
    "reg.fit(X, y)\n",
    "\n",
    "print(reg.predict([[165]]))  # 키가 165cm일 때의 예측값\n",
    "\n",
    "plt.scatter(X, y, color=\"black\")  # 학습 데이터와 y값을 산포도로 그린다\n",
    "y_pred = reg.predict(X)  # 학습 데이터를 입력으로 하여 예측값을 계산한다.\n",
    "plt.plot(\n",
    "    X, y_pred, color=\"blue\", linewidth=3\n",
    ")  # 학습 데이터와 예측값으로 선 그래프를 그린다.\n",
    "plt.show()  # 계산된 기울기와 y절편을 가지는 직선이 그려진다."
   ]
  }
 ],
 "metadata": {
  "kernelspec": {
   "display_name": "ml-study (3.12.10)",
   "language": "python",
   "name": "python3"
  },
  "language_info": {
   "codemirror_mode": {
    "name": "ipython",
    "version": 3
   },
   "file_extension": ".py",
   "mimetype": "text/x-python",
   "name": "python",
   "nbconvert_exporter": "python",
   "pygments_lexer": "ipython3",
   "version": "3.12.10"
  }
 },
 "nbformat": 4,
 "nbformat_minor": 5
}
