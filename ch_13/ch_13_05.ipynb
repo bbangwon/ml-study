{
 "cells": [
  {
   "cell_type": "markdown",
   "id": "8e97fc21",
   "metadata": {},
   "source": [
    "# LSTM 알고리즘을 이용하여 주가 예측하기\n",
    "\n",
    "- Long Short-Term Memory models(LSTM)\n",
    "  - Recurrent Neural Networks의 하나\n",
    "  - 순서가 중요한 feature의 요소일 때 사용\n",
    "  - 문장 안에서 단어의 순서가 중요한 경우나 시계열 데이터셋에서 효과적인 모델\n",
    "  - 자연어 처리 분야에서 많이 사용되는 알고리즘\n",
    "  - dequence를 저장하고 이를 학습에 활용\n",
    "- 일자(date), 시가(open), 고가(high), 저가(low), 거래량(volume)을 토대로 미래의 주가인 내일의 종가(close)를 예측\n"
   ]
  },
  {
   "cell_type": "markdown",
   "id": "b4c7b4ad",
   "metadata": {},
   "source": [
    "# 주가 데이터를 가져와서 데이터프레임 형태로 저장하기\n",
    "\n",
    "- 라이브러리 설치하기\n",
    "  - yfinance\n",
    "  - pandas_datareader\n"
   ]
  },
  {
   "cell_type": "code",
   "execution_count": null,
   "id": "67919f3d",
   "metadata": {},
   "outputs": [],
   "source": [
    "import numpy as np\n",
    "import pandas as pd\n",
    "import yfinance as yfin\n",
    "from pandas_datareader import data"
   ]
  },
  {
   "cell_type": "markdown",
   "id": "a7b8147c",
   "metadata": {},
   "source": [
    "- 엔비디아(NVDA) 2023년 1월 1일부터 2024년 5월 28일까지 주가 가져오기\n"
   ]
  },
  {
   "cell_type": "code",
   "execution_count": 26,
   "id": "c9d0da70",
   "metadata": {},
   "outputs": [
    {
     "name": "stderr",
     "output_type": "stream",
     "text": [
      "C:\\Users\\bbang\\AppData\\Local\\Temp\\ipykernel_6516\\1026581699.py:1: FutureWarning: YF.download() has changed argument auto_adjust default to True\n",
      "  df_price = yfin.download(\"NVDA\", start=\"2023-01-01\", end=\"2024-05-28\")\n",
      "[*********************100%***********************]  1 of 1 completed\n"
     ]
    }
   ],
   "source": [
    "df_price = yfin.download(\"NVDA\", start=\"2023-01-01\", end=\"2024-05-28\")"
   ]
  },
  {
   "cell_type": "code",
   "execution_count": 27,
   "id": "07d63302",
   "metadata": {},
   "outputs": [
    {
     "data": {
      "text/html": [
       "<div>\n",
       "<style scoped>\n",
       "    .dataframe tbody tr th:only-of-type {\n",
       "        vertical-align: middle;\n",
       "    }\n",
       "\n",
       "    .dataframe tbody tr th {\n",
       "        vertical-align: top;\n",
       "    }\n",
       "\n",
       "    .dataframe thead tr th {\n",
       "        text-align: left;\n",
       "    }\n",
       "</style>\n",
       "<table border=\"1\" class=\"dataframe\">\n",
       "  <thead>\n",
       "    <tr>\n",
       "      <th>Price</th>\n",
       "      <th>Close</th>\n",
       "      <th>High</th>\n",
       "      <th>Low</th>\n",
       "      <th>Open</th>\n",
       "      <th>Volume</th>\n",
       "    </tr>\n",
       "    <tr>\n",
       "      <th>Ticker</th>\n",
       "      <th>NVDA</th>\n",
       "      <th>NVDA</th>\n",
       "      <th>NVDA</th>\n",
       "      <th>NVDA</th>\n",
       "      <th>NVDA</th>\n",
       "    </tr>\n",
       "  </thead>\n",
       "  <tbody>\n",
       "    <tr>\n",
       "      <th>count</th>\n",
       "      <td>351.000000</td>\n",
       "      <td>351.000000</td>\n",
       "      <td>351.000000</td>\n",
       "      <td>351.000000</td>\n",
       "      <td>3.510000e+02</td>\n",
       "    </tr>\n",
       "    <tr>\n",
       "      <th>mean</th>\n",
       "      <td>48.741080</td>\n",
       "      <td>49.522243</td>\n",
       "      <td>47.816600</td>\n",
       "      <td>48.670081</td>\n",
       "      <td>4.806715e+08</td>\n",
       "    </tr>\n",
       "    <tr>\n",
       "      <th>std</th>\n",
       "      <td>22.562073</td>\n",
       "      <td>22.991867</td>\n",
       "      <td>22.097076</td>\n",
       "      <td>22.590295</td>\n",
       "      <td>1.576498e+08</td>\n",
       "    </tr>\n",
       "    <tr>\n",
       "      <th>min</th>\n",
       "      <td>14.252331</td>\n",
       "      <td>14.551065</td>\n",
       "      <td>14.021538</td>\n",
       "      <td>14.461147</td>\n",
       "      <td>1.982090e+08</td>\n",
       "    </tr>\n",
       "    <tr>\n",
       "      <th>25%</th>\n",
       "      <td>28.761825</td>\n",
       "      <td>28.950187</td>\n",
       "      <td>28.178742</td>\n",
       "      <td>28.583949</td>\n",
       "      <td>3.825845e+08</td>\n",
       "    </tr>\n",
       "    <tr>\n",
       "      <th>50%</th>\n",
       "      <td>45.153938</td>\n",
       "      <td>45.764607</td>\n",
       "      <td>44.288398</td>\n",
       "      <td>44.825419</td>\n",
       "      <td>4.449350e+08</td>\n",
       "    </tr>\n",
       "    <tr>\n",
       "      <th>75%</th>\n",
       "      <td>59.546001</td>\n",
       "      <td>59.678443</td>\n",
       "      <td>57.879243</td>\n",
       "      <td>58.753354</td>\n",
       "      <td>5.358305e+08</td>\n",
       "    </tr>\n",
       "    <tr>\n",
       "      <th>max</th>\n",
       "      <td>106.426628</td>\n",
       "      <td>106.432622</td>\n",
       "      <td>102.959007</td>\n",
       "      <td>104.407428</td>\n",
       "      <td>1.543911e+09</td>\n",
       "    </tr>\n",
       "  </tbody>\n",
       "</table>\n",
       "</div>"
      ],
      "text/plain": [
       "Price        Close        High         Low        Open        Volume\n",
       "Ticker        NVDA        NVDA        NVDA        NVDA          NVDA\n",
       "count   351.000000  351.000000  351.000000  351.000000  3.510000e+02\n",
       "mean     48.741080   49.522243   47.816600   48.670081  4.806715e+08\n",
       "std      22.562073   22.991867   22.097076   22.590295  1.576498e+08\n",
       "min      14.252331   14.551065   14.021538   14.461147  1.982090e+08\n",
       "25%      28.761825   28.950187   28.178742   28.583949  3.825845e+08\n",
       "50%      45.153938   45.764607   44.288398   44.825419  4.449350e+08\n",
       "75%      59.546001   59.678443   57.879243   58.753354  5.358305e+08\n",
       "max     106.426628  106.432622  102.959007  104.407428  1.543911e+09"
      ]
     },
     "execution_count": 27,
     "metadata": {},
     "output_type": "execute_result"
    }
   ],
   "source": [
    "df_price.describe()"
   ]
  },
  {
   "cell_type": "markdown",
   "id": "da2e0c3f",
   "metadata": {},
   "source": [
    "- info() 메서드\n",
    "  - 데이터에 대한 전반적인 정보(행과 열의 크기, 컬럼명, 컬럼을 구성하는 값의 자료형 등)\n"
   ]
  },
  {
   "cell_type": "code",
   "execution_count": 28,
   "id": "9c0b5334",
   "metadata": {},
   "outputs": [
    {
     "name": "stdout",
     "output_type": "stream",
     "text": [
      "<class 'pandas.core.frame.DataFrame'>\n",
      "DatetimeIndex: 351 entries, 2023-01-03 to 2024-05-24\n",
      "Data columns (total 5 columns):\n",
      " #   Column          Non-Null Count  Dtype  \n",
      "---  ------          --------------  -----  \n",
      " 0   (Close, NVDA)   351 non-null    float64\n",
      " 1   (High, NVDA)    351 non-null    float64\n",
      " 2   (Low, NVDA)     351 non-null    float64\n",
      " 3   (Open, NVDA)    351 non-null    float64\n",
      " 4   (Volume, NVDA)  351 non-null    int64  \n",
      "dtypes: float64(4), int64(1)\n",
      "memory usage: 16.5 KB\n"
     ]
    }
   ],
   "source": [
    "df_price.info()"
   ]
  },
  {
   "cell_type": "markdown",
   "id": "d32abcf1",
   "metadata": {},
   "source": [
    "# 주가 데이터를 그래프로 출력하기\n"
   ]
  },
  {
   "cell_type": "code",
   "execution_count": 7,
   "id": "58efc6b9",
   "metadata": {},
   "outputs": [],
   "source": [
    "import os\n",
    "import matplotlib.pyplot as plt\n",
    "import seaborn as sns"
   ]
  },
  {
   "cell_type": "markdown",
   "id": "1e6b6ea6",
   "metadata": {},
   "source": [
    "- reset_index() 메서드\n",
    "  - 기존에 설정되어 있는 행 인덱스를 제거하고 그 인덱스를 데이터 열(columns)로 추가하는 방식\n",
    "- set_index() 메서드\n",
    "  - 기존에 있던 행 인덱스를 제거하고 데이터 열(columns) 중 하나를 인덱스로 재설정하는 방법\n"
   ]
  },
  {
   "cell_type": "code",
   "execution_count": 29,
   "id": "8aea574b",
   "metadata": {},
   "outputs": [
    {
     "data": {
      "text/html": [
       "<div>\n",
       "<style scoped>\n",
       "    .dataframe tbody tr th:only-of-type {\n",
       "        vertical-align: middle;\n",
       "    }\n",
       "\n",
       "    .dataframe tbody tr th {\n",
       "        vertical-align: top;\n",
       "    }\n",
       "\n",
       "    .dataframe thead tr th {\n",
       "        text-align: left;\n",
       "    }\n",
       "</style>\n",
       "<table border=\"1\" class=\"dataframe\">\n",
       "  <thead>\n",
       "    <tr>\n",
       "      <th>Price</th>\n",
       "      <th>Date</th>\n",
       "      <th>Close</th>\n",
       "      <th>High</th>\n",
       "      <th>Low</th>\n",
       "      <th>Open</th>\n",
       "      <th>Volume</th>\n",
       "    </tr>\n",
       "    <tr>\n",
       "      <th>Ticker</th>\n",
       "      <th></th>\n",
       "      <th>NVDA</th>\n",
       "      <th>NVDA</th>\n",
       "      <th>NVDA</th>\n",
       "      <th>NVDA</th>\n",
       "      <th>NVDA</th>\n",
       "    </tr>\n",
       "  </thead>\n",
       "  <tbody>\n",
       "    <tr>\n",
       "      <th>0</th>\n",
       "      <td>2023-01-03</td>\n",
       "      <td>14.302286</td>\n",
       "      <td>14.982682</td>\n",
       "      <td>14.083481</td>\n",
       "      <td>14.837810</td>\n",
       "      <td>401277000</td>\n",
       "    </tr>\n",
       "    <tr>\n",
       "      <th>1</th>\n",
       "      <td>2023-01-04</td>\n",
       "      <td>14.735901</td>\n",
       "      <td>14.839809</td>\n",
       "      <td>14.228353</td>\n",
       "      <td>14.554063</td>\n",
       "      <td>431324000</td>\n",
       "    </tr>\n",
       "    <tr>\n",
       "      <th>2</th>\n",
       "      <td>2023-01-05</td>\n",
       "      <td>14.252331</td>\n",
       "      <td>14.551065</td>\n",
       "      <td>14.135434</td>\n",
       "      <td>14.478130</td>\n",
       "      <td>389168000</td>\n",
       "    </tr>\n",
       "    <tr>\n",
       "      <th>3</th>\n",
       "      <td>2023-01-06</td>\n",
       "      <td>14.845805</td>\n",
       "      <td>14.996671</td>\n",
       "      <td>14.021538</td>\n",
       "      <td>14.461147</td>\n",
       "      <td>405044000</td>\n",
       "    </tr>\n",
       "    <tr>\n",
       "      <th>4</th>\n",
       "      <td>2023-01-09</td>\n",
       "      <td>15.614121</td>\n",
       "      <td>16.041741</td>\n",
       "      <td>15.127553</td>\n",
       "      <td>15.270427</td>\n",
       "      <td>504231000</td>\n",
       "    </tr>\n",
       "    <tr>\n",
       "      <th>...</th>\n",
       "      <td>...</td>\n",
       "      <td>...</td>\n",
       "      <td>...</td>\n",
       "      <td>...</td>\n",
       "      <td>...</td>\n",
       "      <td>...</td>\n",
       "    </tr>\n",
       "    <tr>\n",
       "      <th>346</th>\n",
       "      <td>2024-05-20</td>\n",
       "      <td>94.742294</td>\n",
       "      <td>95.162125</td>\n",
       "      <td>93.402831</td>\n",
       "      <td>93.712705</td>\n",
       "      <td>318764000</td>\n",
       "    </tr>\n",
       "    <tr>\n",
       "      <th>347</th>\n",
       "      <td>2024-05-21</td>\n",
       "      <td>95.348045</td>\n",
       "      <td>95.362040</td>\n",
       "      <td>93.142922</td>\n",
       "      <td>93.561754</td>\n",
       "      <td>328946000</td>\n",
       "    </tr>\n",
       "    <tr>\n",
       "      <th>348</th>\n",
       "      <td>2024-05-22</td>\n",
       "      <td>94.912216</td>\n",
       "      <td>95.981790</td>\n",
       "      <td>93.211897</td>\n",
       "      <td>95.421016</td>\n",
       "      <td>548648000</td>\n",
       "    </tr>\n",
       "    <tr>\n",
       "      <th>349</th>\n",
       "      <td>2024-05-23</td>\n",
       "      <td>103.757706</td>\n",
       "      <td>106.277699</td>\n",
       "      <td>101.479605</td>\n",
       "      <td>101.987407</td>\n",
       "      <td>835065000</td>\n",
       "    </tr>\n",
       "    <tr>\n",
       "      <th>350</th>\n",
       "      <td>2024-05-24</td>\n",
       "      <td>106.426628</td>\n",
       "      <td>106.432622</td>\n",
       "      <td>102.959007</td>\n",
       "      <td>104.407428</td>\n",
       "      <td>429494000</td>\n",
       "    </tr>\n",
       "  </tbody>\n",
       "</table>\n",
       "<p>351 rows × 6 columns</p>\n",
       "</div>"
      ],
      "text/plain": [
       "Price        Date       Close        High         Low        Open     Volume\n",
       "Ticker                   NVDA        NVDA        NVDA        NVDA       NVDA\n",
       "0      2023-01-03   14.302286   14.982682   14.083481   14.837810  401277000\n",
       "1      2023-01-04   14.735901   14.839809   14.228353   14.554063  431324000\n",
       "2      2023-01-05   14.252331   14.551065   14.135434   14.478130  389168000\n",
       "3      2023-01-06   14.845805   14.996671   14.021538   14.461147  405044000\n",
       "4      2023-01-09   15.614121   16.041741   15.127553   15.270427  504231000\n",
       "..            ...         ...         ...         ...         ...        ...\n",
       "346    2024-05-20   94.742294   95.162125   93.402831   93.712705  318764000\n",
       "347    2024-05-21   95.348045   95.362040   93.142922   93.561754  328946000\n",
       "348    2024-05-22   94.912216   95.981790   93.211897   95.421016  548648000\n",
       "349    2024-05-23  103.757706  106.277699  101.479605  101.987407  835065000\n",
       "350    2024-05-24  106.426628  106.432622  102.959007  104.407428  429494000\n",
       "\n",
       "[351 rows x 6 columns]"
      ]
     },
     "execution_count": 29,
     "metadata": {},
     "output_type": "execute_result"
    }
   ],
   "source": [
    "df_price.reset_index(inplace=True)\n",
    "df_price"
   ]
  },
  {
   "cell_type": "markdown",
   "id": "b2ea1ffa",
   "metadata": {},
   "source": [
    "- matplotlib,pyplot으로 주식 종가 그래프 그리기\n"
   ]
  },
  {
   "cell_type": "code",
   "execution_count": 39,
   "id": "d852c8b8",
   "metadata": {},
   "outputs": [
    {
     "data": {
      "text/plain": [
       "Text(0, 0.5, 'Price($)')"
      ]
     },
     "execution_count": 39,
     "metadata": {},
     "output_type": "execute_result"
    },
    {
     "data": {
      "image/png": "[encoded data removed]",
      "text/plain": [
       "<Figure size 640x480 with 1 Axes>"
      ]
     },
     "metadata": {},
     "output_type": "display_data"
    }
   ],
   "source": [
    "close = df_price[\"Close\"].values.flatten()\n",
    "date = df_price[\"Date\"].values.flatten()\n",
    "\n",
    "plt.Figure(figsize=(16, 9))\n",
    "sns.lineplot(y=close, x=date)\n",
    "plt.xlabel(\"Time\")\n",
    "plt.ylabel(\"Price($)\")\n"
   ]
  }
 ],
 "metadata": {
  "kernelspec": {
   "display_name": "ml-study (3.12.10)",
   "language": "python",
   "name": "python3"
  },
  "language_info": {
   "codemirror_mode": {
    "name": "ipython",
    "version": 3
   },
   "file_extension": ".py",
   "mimetype": "text/x-python",
   "name": "python",
   "nbconvert_exporter": "python",
   "pygments_lexer": "ipython3",
   "version": "3.12.10"
  }
 },
 "nbformat": 4,
 "nbformat_minor": 5
}
