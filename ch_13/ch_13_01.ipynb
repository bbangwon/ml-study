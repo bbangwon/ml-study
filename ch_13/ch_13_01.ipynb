{
 "cells": [
  {
   "cell_type": "markdown",
   "id": "9f831125",
   "metadata": {},
   "source": [
    "# 인공신경망 구현\n",
    "\n",
    "- XOR 문제를 해결하는 간단한 인공신경망 구현 예제\n"
   ]
  },
  {
   "cell_type": "code",
   "execution_count": 2,
   "id": "a05460a0",
   "metadata": {},
   "outputs": [
    {
     "name": "stdout",
     "output_type": "stream",
     "text": [
      "Accuracy: 100.00%\n",
      "\u001b[1m1/1\u001b[0m \u001b[32m━━━━━━━━━━━━━━━━━━━━\u001b[0m\u001b[37m\u001b[0m \u001b[1m0s\u001b[0m 32ms/step\n",
      "Predictions:\n",
      "Input: [0 0], Predicted Output: [0.1555207], Actual Output: [0]\n",
      "Input: [0 1], Predicted Output: [0.92987907], Actual Output: [1]\n",
      "Input: [1 0], Predicted Output: [0.9622082], Actual Output: [1]\n",
      "Input: [1 1], Predicted Output: [0.1555207], Actual Output: [0]\n"
     ]
    }
   ],
   "source": [
    "import numpy as np\n",
    "from keras.models import Sequential\n",
    "from keras.layers import Dense, Input\n",
    "\n",
    "# XOR 입력 데이터와 레이블\n",
    "X = np.array([[0, 0], [0, 1], [1, 0], [1, 1]])\n",
    "y = np.array([[0], [1], [1], [0]])\n",
    "\n",
    "model = Sequential()  # 신경망 모델 생성\n",
    "model.add(Input(shape=(2,)))\n",
    "model.add(Dense(4, activation=\"relu\"))  # 입력층과 첫 번째 은닉층\n",
    "model.add(Dense(4, activation=\"relu\"))  # 두번째 은닉층\n",
    "model.add(Dense(1, activation=\"sigmoid\"))  # 출력층\n",
    "model.compile(\n",
    "    loss=\"binary_crossentropy\", optimizer=\"adam\", metrics=[\"accuracy\"]\n",
    ")  # 모델 컴파일\n",
    "model.fit(X, y, epochs=1000, verbose=0)  # 모델 학습\n",
    "loss, accuracy = model.evaluate(X, y, verbose=0)  # 모델 평가\n",
    "print(f\"Accuracy: {accuracy * 100:.2f}%\")\n",
    "predictions = model.predict(X)  # 예측 결과\n",
    "print(\"Predictions:\")\n",
    "for i in range(len(X)):\n",
    "    print(f\"Input: {X[i]}, Predicted Output: {predictions[i]}, Actual Output: {y[i]}\")"
   ]
  },
  {
   "cell_type": "markdown",
   "id": "77b31047",
   "metadata": {},
   "source": [
    "# 심층 순방향 신경망(DFN)\n",
    "\n",
    "- 심층 순방향 신경망(Deep Feedforward Network, 이하 DFN)\n",
    "  - 딥러닝에서 가장 기본으로 사용하는 인공신경망(심층신경망이라고도 부름)\n",
    "  - DFN은 입력층, 은닉층, 출력층으로 이루어져 있음\n",
    "  - 이때 중요한 것은 은닉층이 2개 이상이어야 한다는 점\n",
    "  - 순방향이라 부르는 이유\n",
    "    - 데이터가 입력층 -> 은닉층 -> 출력층 순으로 전파\n",
    "  - DFN의 은닉층이 수십 개에서 수백 개라고 할 때 입력 데이터가 시간 순서에 따른 종속성을 가질 경우, 시계열 데이터 처리에 한계가 있음\n",
    "  - 이러한 문제점을 해결하기 위해 제안된 것이 순환 신경망\n"
   ]
  },
  {
   "cell_type": "markdown",
   "id": "1a0d5b95",
   "metadata": {},
   "source": [
    "# 순방향 신경망(RNN)\n",
    "\n",
    "- 순환 신경망(Recurrent Neural Network, 이하 RNN)\n",
    "  - 시계열 데이터와 같이 시간적으로 연속성이 있는 데이터를 처리하기 위해 고안된 인공신경망\n",
    "  - 시계열 데이터\n",
    "    - 일정한 시간 동안 관측되고 수집된 데이터 (예: 주식 데이터)\n",
    "  - 시계열 데이터가 딥러닝 신경망의 입력값으로 사용될 때, 데이터의 특성 상 앞에 입력된 데이터가 뒤에 입력된 데이터에 영향을 미침\n"
   ]
  },
  {
   "cell_type": "markdown",
   "id": "69e0d1f0",
   "metadata": {},
   "source": [
    "- RNN 구조와 DFN의 차이점\n",
    "  - RNN은 은닉층 각 뉴런에 순환 구조를 추가하여 이전에 입력된 데이터가 현재 데이터를 예측할 때 다시 사용될 수 있도록 함\n",
    "  - 따라서 현재 데이터를 분석할 때 과거 데이터를 고려한 정확한 데이터 예측\n"
   ]
  },
  {
   "cell_type": "markdown",
   "id": "46869be1",
   "metadata": {},
   "source": [
    "- 순환 신경망(RNN)\n",
    "  - 신경망 층이 깊어질수록 먼 과거의 데이터가 현재에 영향을 미치지 못하는 문제가 발생\n",
    "  - 장기 의존성(Long-Term Dependency) 문제\n",
    "    - 해결책으로 LSTM을 제안\n"
   ]
  },
  {
   "cell_type": "markdown",
   "id": "48812296",
   "metadata": {},
   "source": [
    "# LSTM\n",
    "\n",
    "- LSTM(Long Short-Term Memory)\n",
    "  - 신경망 내에 메모리를 두어, 과거의 데이터도 저장할 수 있도록 함\n",
    "  - 입출력을 제어하기 위한 소자 '게이트'\n",
    "    - 입력 게이트, 출력 게이트, 망각 게이트\n",
    "- LSTM에서 각 게이트의 역할\n",
    "  - 입력 게이트\n",
    "    - 현재의 정보를 기억하기 위한 소자\n",
    "    - 과거와 현재 데이터가 시그모이드 함수와 하이퍼볼릭 탄젠트 함수를 거치며 현재 정보에 대한 보존량을 결정\n",
    "  - 망각 게이트\n",
    "    - 과거의 정보를 어느 정도까지 기억할지 결정하는 소자\n",
    "  - 출력 게이트\n",
    "    - 출력층으로 출력할 정보의 양을 결정하는 소자\n"
   ]
  }
 ],
 "metadata": {
  "kernelspec": {
   "display_name": "ml-study (3.12.10)",
   "language": "python",
   "name": "python3"
  },
  "language_info": {
   "codemirror_mode": {
    "name": "ipython",
    "version": 3
   },
   "file_extension": ".py",
   "mimetype": "text/x-python",
   "name": "python",
   "nbconvert_exporter": "python",
   "pygments_lexer": "ipython3",
   "version": "3.12.10"
  }
 },
 "nbformat": 4,
 "nbformat_minor": 5
}
